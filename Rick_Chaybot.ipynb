{
  "nbformat": 4,
  "nbformat_minor": 0,
  "metadata": {
    "colab": {
      "name": "Rick-Chaybot",
      "provenance": [],
      "collapsed_sections": []
    },
    "kernelspec": {
      "name": "python3",
      "display_name": "Python 3"
    },
    "accelerator": "GPU",
    "widgets": {
      "application/vnd.jupyter.widget-state+json": {
        "e5d6c9cff8274121a859e27026e2e3b4": {
          "model_module": "@jupyter-widgets/controls",
          "model_name": "HBoxModel",
          "state": {
            "_view_name": "HBoxView",
            "_dom_classes": [],
            "_model_name": "HBoxModel",
            "_view_module": "@jupyter-widgets/controls",
            "_model_module_version": "1.5.0",
            "_view_count": null,
            "_view_module_version": "1.5.0",
            "box_style": "",
            "layout": "IPY_MODEL_54424b013c0746fdbf669d4a0940ec07",
            "_model_module": "@jupyter-widgets/controls",
            "children": [
              "IPY_MODEL_bead8bddbf3a4596a26254f9d163360f",
              "IPY_MODEL_08c0f5147e6d471caadfd280edf60f1c"
            ]
          }
        },
        "54424b013c0746fdbf669d4a0940ec07": {
          "model_module": "@jupyter-widgets/base",
          "model_name": "LayoutModel",
          "state": {
            "_view_name": "LayoutView",
            "grid_template_rows": null,
            "right": null,
            "justify_content": null,
            "_view_module": "@jupyter-widgets/base",
            "overflow": null,
            "_model_module_version": "1.2.0",
            "_view_count": null,
            "flex_flow": null,
            "width": null,
            "min_width": null,
            "border": null,
            "align_items": null,
            "bottom": null,
            "_model_module": "@jupyter-widgets/base",
            "top": null,
            "grid_column": null,
            "overflow_y": null,
            "overflow_x": null,
            "grid_auto_flow": null,
            "grid_area": null,
            "grid_template_columns": null,
            "flex": null,
            "_model_name": "LayoutModel",
            "justify_items": null,
            "grid_row": null,
            "max_height": null,
            "align_content": null,
            "visibility": null,
            "align_self": null,
            "height": null,
            "min_height": null,
            "padding": null,
            "grid_auto_rows": null,
            "grid_gap": null,
            "max_width": null,
            "order": null,
            "_view_module_version": "1.2.0",
            "grid_template_areas": null,
            "object_position": null,
            "object_fit": null,
            "grid_auto_columns": null,
            "margin": null,
            "display": null,
            "left": null
          }
        },
        "bead8bddbf3a4596a26254f9d163360f": {
          "model_module": "@jupyter-widgets/controls",
          "model_name": "FloatProgressModel",
          "state": {
            "_view_name": "ProgressView",
            "style": "IPY_MODEL_46025b9daf264d9d9c9fad7ac82db6cb",
            "_dom_classes": [],
            "description": "Downloading: 100%",
            "_model_name": "FloatProgressModel",
            "bar_style": "success",
            "max": 641,
            "_view_module": "@jupyter-widgets/controls",
            "_model_module_version": "1.5.0",
            "value": 641,
            "_view_count": null,
            "_view_module_version": "1.5.0",
            "orientation": "horizontal",
            "min": 0,
            "description_tooltip": null,
            "_model_module": "@jupyter-widgets/controls",
            "layout": "IPY_MODEL_02cd9d5ce8a143bbacacb5bfb1e20514"
          }
        },
        "08c0f5147e6d471caadfd280edf60f1c": {
          "model_module": "@jupyter-widgets/controls",
          "model_name": "HTMLModel",
          "state": {
            "_view_name": "HTMLView",
            "style": "IPY_MODEL_cfade2a62ea6429f89b55acd78f01ae1",
            "_dom_classes": [],
            "description": "",
            "_model_name": "HTMLModel",
            "placeholder": "​",
            "_view_module": "@jupyter-widgets/controls",
            "_model_module_version": "1.5.0",
            "value": " 641/641 [00:00&lt;00:00, 1.16kB/s]",
            "_view_count": null,
            "_view_module_version": "1.5.0",
            "description_tooltip": null,
            "_model_module": "@jupyter-widgets/controls",
            "layout": "IPY_MODEL_7a529769b72a401fa225663186e4e612"
          }
        },
        "46025b9daf264d9d9c9fad7ac82db6cb": {
          "model_module": "@jupyter-widgets/controls",
          "model_name": "ProgressStyleModel",
          "state": {
            "_view_name": "StyleView",
            "_model_name": "ProgressStyleModel",
            "description_width": "initial",
            "_view_module": "@jupyter-widgets/base",
            "_model_module_version": "1.5.0",
            "_view_count": null,
            "_view_module_version": "1.2.0",
            "bar_color": null,
            "_model_module": "@jupyter-widgets/controls"
          }
        },
        "02cd9d5ce8a143bbacacb5bfb1e20514": {
          "model_module": "@jupyter-widgets/base",
          "model_name": "LayoutModel",
          "state": {
            "_view_name": "LayoutView",
            "grid_template_rows": null,
            "right": null,
            "justify_content": null,
            "_view_module": "@jupyter-widgets/base",
            "overflow": null,
            "_model_module_version": "1.2.0",
            "_view_count": null,
            "flex_flow": null,
            "width": null,
            "min_width": null,
            "border": null,
            "align_items": null,
            "bottom": null,
            "_model_module": "@jupyter-widgets/base",
            "top": null,
            "grid_column": null,
            "overflow_y": null,
            "overflow_x": null,
            "grid_auto_flow": null,
            "grid_area": null,
            "grid_template_columns": null,
            "flex": null,
            "_model_name": "LayoutModel",
            "justify_items": null,
            "grid_row": null,
            "max_height": null,
            "align_content": null,
            "visibility": null,
            "align_self": null,
            "height": null,
            "min_height": null,
            "padding": null,
            "grid_auto_rows": null,
            "grid_gap": null,
            "max_width": null,
            "order": null,
            "_view_module_version": "1.2.0",
            "grid_template_areas": null,
            "object_position": null,
            "object_fit": null,
            "grid_auto_columns": null,
            "margin": null,
            "display": null,
            "left": null
          }
        },
        "cfade2a62ea6429f89b55acd78f01ae1": {
          "model_module": "@jupyter-widgets/controls",
          "model_name": "DescriptionStyleModel",
          "state": {
            "_view_name": "StyleView",
            "_model_name": "DescriptionStyleModel",
            "description_width": "",
            "_view_module": "@jupyter-widgets/base",
            "_model_module_version": "1.5.0",
            "_view_count": null,
            "_view_module_version": "1.2.0",
            "_model_module": "@jupyter-widgets/controls"
          }
        },
        "7a529769b72a401fa225663186e4e612": {
          "model_module": "@jupyter-widgets/base",
          "model_name": "LayoutModel",
          "state": {
            "_view_name": "LayoutView",
            "grid_template_rows": null,
            "right": null,
            "justify_content": null,
            "_view_module": "@jupyter-widgets/base",
            "overflow": null,
            "_model_module_version": "1.2.0",
            "_view_count": null,
            "flex_flow": null,
            "width": null,
            "min_width": null,
            "border": null,
            "align_items": null,
            "bottom": null,
            "_model_module": "@jupyter-widgets/base",
            "top": null,
            "grid_column": null,
            "overflow_y": null,
            "overflow_x": null,
            "grid_auto_flow": null,
            "grid_area": null,
            "grid_template_columns": null,
            "flex": null,
            "_model_name": "LayoutModel",
            "justify_items": null,
            "grid_row": null,
            "max_height": null,
            "align_content": null,
            "visibility": null,
            "align_self": null,
            "height": null,
            "min_height": null,
            "padding": null,
            "grid_auto_rows": null,
            "grid_gap": null,
            "max_width": null,
            "order": null,
            "_view_module_version": "1.2.0",
            "grid_template_areas": null,
            "object_position": null,
            "object_fit": null,
            "grid_auto_columns": null,
            "margin": null,
            "display": null,
            "left": null
          }
        },
        "1072ffe306f04d55a9476ce79ef5a6e2": {
          "model_module": "@jupyter-widgets/controls",
          "model_name": "HBoxModel",
          "state": {
            "_view_name": "HBoxView",
            "_dom_classes": [],
            "_model_name": "HBoxModel",
            "_view_module": "@jupyter-widgets/controls",
            "_model_module_version": "1.5.0",
            "_view_count": null,
            "_view_module_version": "1.5.0",
            "box_style": "",
            "layout": "IPY_MODEL_19cb0e956c9f4c1ebe2baaeb4d5f6a88",
            "_model_module": "@jupyter-widgets/controls",
            "children": [
              "IPY_MODEL_6eced4d788464e5ea27aef3bfc9a72cd",
              "IPY_MODEL_90204431baa2416f97d425dd92c9657a"
            ]
          }
        },
        "19cb0e956c9f4c1ebe2baaeb4d5f6a88": {
          "model_module": "@jupyter-widgets/base",
          "model_name": "LayoutModel",
          "state": {
            "_view_name": "LayoutView",
            "grid_template_rows": null,
            "right": null,
            "justify_content": null,
            "_view_module": "@jupyter-widgets/base",
            "overflow": null,
            "_model_module_version": "1.2.0",
            "_view_count": null,
            "flex_flow": null,
            "width": null,
            "min_width": null,
            "border": null,
            "align_items": null,
            "bottom": null,
            "_model_module": "@jupyter-widgets/base",
            "top": null,
            "grid_column": null,
            "overflow_y": null,
            "overflow_x": null,
            "grid_auto_flow": null,
            "grid_area": null,
            "grid_template_columns": null,
            "flex": null,
            "_model_name": "LayoutModel",
            "justify_items": null,
            "grid_row": null,
            "max_height": null,
            "align_content": null,
            "visibility": null,
            "align_self": null,
            "height": null,
            "min_height": null,
            "padding": null,
            "grid_auto_rows": null,
            "grid_gap": null,
            "max_width": null,
            "order": null,
            "_view_module_version": "1.2.0",
            "grid_template_areas": null,
            "object_position": null,
            "object_fit": null,
            "grid_auto_columns": null,
            "margin": null,
            "display": null,
            "left": null
          }
        },
        "6eced4d788464e5ea27aef3bfc9a72cd": {
          "model_module": "@jupyter-widgets/controls",
          "model_name": "FloatProgressModel",
          "state": {
            "_view_name": "ProgressView",
            "style": "IPY_MODEL_19373715d955452495443973106d4c93",
            "_dom_classes": [],
            "description": "Downloading: 100%",
            "_model_name": "FloatProgressModel",
            "bar_style": "success",
            "max": 1042301,
            "_view_module": "@jupyter-widgets/controls",
            "_model_module_version": "1.5.0",
            "value": 1042301,
            "_view_count": null,
            "_view_module_version": "1.5.0",
            "orientation": "horizontal",
            "min": 0,
            "description_tooltip": null,
            "_model_module": "@jupyter-widgets/controls",
            "layout": "IPY_MODEL_b2c752e63aeb4b9bbe2639f08a4cef2d"
          }
        },
        "90204431baa2416f97d425dd92c9657a": {
          "model_module": "@jupyter-widgets/controls",
          "model_name": "HTMLModel",
          "state": {
            "_view_name": "HTMLView",
            "style": "IPY_MODEL_6f8de65bdf614aa3af5aedde0e4c5e4e",
            "_dom_classes": [],
            "description": "",
            "_model_name": "HTMLModel",
            "placeholder": "​",
            "_view_module": "@jupyter-widgets/controls",
            "_model_module_version": "1.5.0",
            "value": " 1.04M/1.04M [00:00&lt;00:00, 2.80MB/s]",
            "_view_count": null,
            "_view_module_version": "1.5.0",
            "description_tooltip": null,
            "_model_module": "@jupyter-widgets/controls",
            "layout": "IPY_MODEL_ab7e61716a794453b6c0aee48bebc754"
          }
        },
        "19373715d955452495443973106d4c93": {
          "model_module": "@jupyter-widgets/controls",
          "model_name": "ProgressStyleModel",
          "state": {
            "_view_name": "StyleView",
            "_model_name": "ProgressStyleModel",
            "description_width": "initial",
            "_view_module": "@jupyter-widgets/base",
            "_model_module_version": "1.5.0",
            "_view_count": null,
            "_view_module_version": "1.2.0",
            "bar_color": null,
            "_model_module": "@jupyter-widgets/controls"
          }
        },
        "b2c752e63aeb4b9bbe2639f08a4cef2d": {
          "model_module": "@jupyter-widgets/base",
          "model_name": "LayoutModel",
          "state": {
            "_view_name": "LayoutView",
            "grid_template_rows": null,
            "right": null,
            "justify_content": null,
            "_view_module": "@jupyter-widgets/base",
            "overflow": null,
            "_model_module_version": "1.2.0",
            "_view_count": null,
            "flex_flow": null,
            "width": null,
            "min_width": null,
            "border": null,
            "align_items": null,
            "bottom": null,
            "_model_module": "@jupyter-widgets/base",
            "top": null,
            "grid_column": null,
            "overflow_y": null,
            "overflow_x": null,
            "grid_auto_flow": null,
            "grid_area": null,
            "grid_template_columns": null,
            "flex": null,
            "_model_name": "LayoutModel",
            "justify_items": null,
            "grid_row": null,
            "max_height": null,
            "align_content": null,
            "visibility": null,
            "align_self": null,
            "height": null,
            "min_height": null,
            "padding": null,
            "grid_auto_rows": null,
            "grid_gap": null,
            "max_width": null,
            "order": null,
            "_view_module_version": "1.2.0",
            "grid_template_areas": null,
            "object_position": null,
            "object_fit": null,
            "grid_auto_columns": null,
            "margin": null,
            "display": null,
            "left": null
          }
        },
        "6f8de65bdf614aa3af5aedde0e4c5e4e": {
          "model_module": "@jupyter-widgets/controls",
          "model_name": "DescriptionStyleModel",
          "state": {
            "_view_name": "StyleView",
            "_model_name": "DescriptionStyleModel",
            "description_width": "",
            "_view_module": "@jupyter-widgets/base",
            "_model_module_version": "1.5.0",
            "_view_count": null,
            "_view_module_version": "1.2.0",
            "_model_module": "@jupyter-widgets/controls"
          }
        },
        "ab7e61716a794453b6c0aee48bebc754": {
          "model_module": "@jupyter-widgets/base",
          "model_name": "LayoutModel",
          "state": {
            "_view_name": "LayoutView",
            "grid_template_rows": null,
            "right": null,
            "justify_content": null,
            "_view_module": "@jupyter-widgets/base",
            "overflow": null,
            "_model_module_version": "1.2.0",
            "_view_count": null,
            "flex_flow": null,
            "width": null,
            "min_width": null,
            "border": null,
            "align_items": null,
            "bottom": null,
            "_model_module": "@jupyter-widgets/base",
            "top": null,
            "grid_column": null,
            "overflow_y": null,
            "overflow_x": null,
            "grid_auto_flow": null,
            "grid_area": null,
            "grid_template_columns": null,
            "flex": null,
            "_model_name": "LayoutModel",
            "justify_items": null,
            "grid_row": null,
            "max_height": null,
            "align_content": null,
            "visibility": null,
            "align_self": null,
            "height": null,
            "min_height": null,
            "padding": null,
            "grid_auto_rows": null,
            "grid_gap": null,
            "max_width": null,
            "order": null,
            "_view_module_version": "1.2.0",
            "grid_template_areas": null,
            "object_position": null,
            "object_fit": null,
            "grid_auto_columns": null,
            "margin": null,
            "display": null,
            "left": null
          }
        },
        "e8161a39bf4c42e692311db433d8b0ce": {
          "model_module": "@jupyter-widgets/controls",
          "model_name": "HBoxModel",
          "state": {
            "_view_name": "HBoxView",
            "_dom_classes": [],
            "_model_name": "HBoxModel",
            "_view_module": "@jupyter-widgets/controls",
            "_model_module_version": "1.5.0",
            "_view_count": null,
            "_view_module_version": "1.5.0",
            "box_style": "",
            "layout": "IPY_MODEL_4dc69b60f2ea488baf7a044607dd6404",
            "_model_module": "@jupyter-widgets/controls",
            "children": [
              "IPY_MODEL_5ac31b4e1c7e4a1bb175f34eb02827b0",
              "IPY_MODEL_8200faf3dd3b48c586d9e8c94993c1d0"
            ]
          }
        },
        "4dc69b60f2ea488baf7a044607dd6404": {
          "model_module": "@jupyter-widgets/base",
          "model_name": "LayoutModel",
          "state": {
            "_view_name": "LayoutView",
            "grid_template_rows": null,
            "right": null,
            "justify_content": null,
            "_view_module": "@jupyter-widgets/base",
            "overflow": null,
            "_model_module_version": "1.2.0",
            "_view_count": null,
            "flex_flow": null,
            "width": null,
            "min_width": null,
            "border": null,
            "align_items": null,
            "bottom": null,
            "_model_module": "@jupyter-widgets/base",
            "top": null,
            "grid_column": null,
            "overflow_y": null,
            "overflow_x": null,
            "grid_auto_flow": null,
            "grid_area": null,
            "grid_template_columns": null,
            "flex": null,
            "_model_name": "LayoutModel",
            "justify_items": null,
            "grid_row": null,
            "max_height": null,
            "align_content": null,
            "visibility": null,
            "align_self": null,
            "height": null,
            "min_height": null,
            "padding": null,
            "grid_auto_rows": null,
            "grid_gap": null,
            "max_width": null,
            "order": null,
            "_view_module_version": "1.2.0",
            "grid_template_areas": null,
            "object_position": null,
            "object_fit": null,
            "grid_auto_columns": null,
            "margin": null,
            "display": null,
            "left": null
          }
        },
        "5ac31b4e1c7e4a1bb175f34eb02827b0": {
          "model_module": "@jupyter-widgets/controls",
          "model_name": "FloatProgressModel",
          "state": {
            "_view_name": "ProgressView",
            "style": "IPY_MODEL_4827b7fa0f2d47028f3c2d905d3bb215",
            "_dom_classes": [],
            "description": "Downloading: 100%",
            "_model_name": "FloatProgressModel",
            "bar_style": "success",
            "max": 456318,
            "_view_module": "@jupyter-widgets/controls",
            "_model_module_version": "1.5.0",
            "value": 456318,
            "_view_count": null,
            "_view_module_version": "1.5.0",
            "orientation": "horizontal",
            "min": 0,
            "description_tooltip": null,
            "_model_module": "@jupyter-widgets/controls",
            "layout": "IPY_MODEL_830edc6a5d78449e8dbb721a2c7853bf"
          }
        },
        "8200faf3dd3b48c586d9e8c94993c1d0": {
          "model_module": "@jupyter-widgets/controls",
          "model_name": "HTMLModel",
          "state": {
            "_view_name": "HTMLView",
            "style": "IPY_MODEL_86f784ef654643b2ae00ebebe0fa0585",
            "_dom_classes": [],
            "description": "",
            "_model_name": "HTMLModel",
            "placeholder": "​",
            "_view_module": "@jupyter-widgets/controls",
            "_model_module_version": "1.5.0",
            "value": " 456k/456k [00:00&lt;00:00, 2.34MB/s]",
            "_view_count": null,
            "_view_module_version": "1.5.0",
            "description_tooltip": null,
            "_model_module": "@jupyter-widgets/controls",
            "layout": "IPY_MODEL_fa78d410fa9944178ef9ab842aca2cd9"
          }
        },
        "4827b7fa0f2d47028f3c2d905d3bb215": {
          "model_module": "@jupyter-widgets/controls",
          "model_name": "ProgressStyleModel",
          "state": {
            "_view_name": "StyleView",
            "_model_name": "ProgressStyleModel",
            "description_width": "initial",
            "_view_module": "@jupyter-widgets/base",
            "_model_module_version": "1.5.0",
            "_view_count": null,
            "_view_module_version": "1.2.0",
            "bar_color": null,
            "_model_module": "@jupyter-widgets/controls"
          }
        },
        "830edc6a5d78449e8dbb721a2c7853bf": {
          "model_module": "@jupyter-widgets/base",
          "model_name": "LayoutModel",
          "state": {
            "_view_name": "LayoutView",
            "grid_template_rows": null,
            "right": null,
            "justify_content": null,
            "_view_module": "@jupyter-widgets/base",
            "overflow": null,
            "_model_module_version": "1.2.0",
            "_view_count": null,
            "flex_flow": null,
            "width": null,
            "min_width": null,
            "border": null,
            "align_items": null,
            "bottom": null,
            "_model_module": "@jupyter-widgets/base",
            "top": null,
            "grid_column": null,
            "overflow_y": null,
            "overflow_x": null,
            "grid_auto_flow": null,
            "grid_area": null,
            "grid_template_columns": null,
            "flex": null,
            "_model_name": "LayoutModel",
            "justify_items": null,
            "grid_row": null,
            "max_height": null,
            "align_content": null,
            "visibility": null,
            "align_self": null,
            "height": null,
            "min_height": null,
            "padding": null,
            "grid_auto_rows": null,
            "grid_gap": null,
            "max_width": null,
            "order": null,
            "_view_module_version": "1.2.0",
            "grid_template_areas": null,
            "object_position": null,
            "object_fit": null,
            "grid_auto_columns": null,
            "margin": null,
            "display": null,
            "left": null
          }
        },
        "86f784ef654643b2ae00ebebe0fa0585": {
          "model_module": "@jupyter-widgets/controls",
          "model_name": "DescriptionStyleModel",
          "state": {
            "_view_name": "StyleView",
            "_model_name": "DescriptionStyleModel",
            "description_width": "",
            "_view_module": "@jupyter-widgets/base",
            "_model_module_version": "1.5.0",
            "_view_count": null,
            "_view_module_version": "1.2.0",
            "_model_module": "@jupyter-widgets/controls"
          }
        },
        "fa78d410fa9944178ef9ab842aca2cd9": {
          "model_module": "@jupyter-widgets/base",
          "model_name": "LayoutModel",
          "state": {
            "_view_name": "LayoutView",
            "grid_template_rows": null,
            "right": null,
            "justify_content": null,
            "_view_module": "@jupyter-widgets/base",
            "overflow": null,
            "_model_module_version": "1.2.0",
            "_view_count": null,
            "flex_flow": null,
            "width": null,
            "min_width": null,
            "border": null,
            "align_items": null,
            "bottom": null,
            "_model_module": "@jupyter-widgets/base",
            "top": null,
            "grid_column": null,
            "overflow_y": null,
            "overflow_x": null,
            "grid_auto_flow": null,
            "grid_area": null,
            "grid_template_columns": null,
            "flex": null,
            "_model_name": "LayoutModel",
            "justify_items": null,
            "grid_row": null,
            "max_height": null,
            "align_content": null,
            "visibility": null,
            "align_self": null,
            "height": null,
            "min_height": null,
            "padding": null,
            "grid_auto_rows": null,
            "grid_gap": null,
            "max_width": null,
            "order": null,
            "_view_module_version": "1.2.0",
            "grid_template_areas": null,
            "object_position": null,
            "object_fit": null,
            "grid_auto_columns": null,
            "margin": null,
            "display": null,
            "left": null
          }
        },
        "b627c35e163a4d0fae4b5e5dbc3e803e": {
          "model_module": "@jupyter-widgets/controls",
          "model_name": "HBoxModel",
          "state": {
            "_view_name": "HBoxView",
            "_dom_classes": [],
            "_model_name": "HBoxModel",
            "_view_module": "@jupyter-widgets/controls",
            "_model_module_version": "1.5.0",
            "_view_count": null,
            "_view_module_version": "1.5.0",
            "box_style": "",
            "layout": "IPY_MODEL_b62d13e426a5401c848056437dd2be79",
            "_model_module": "@jupyter-widgets/controls",
            "children": [
              "IPY_MODEL_39b03af9c0634cea86599b20024fe205",
              "IPY_MODEL_92ea6777d70f4ec08755e70ebfe00ef8"
            ]
          }
        },
        "b62d13e426a5401c848056437dd2be79": {
          "model_module": "@jupyter-widgets/base",
          "model_name": "LayoutModel",
          "state": {
            "_view_name": "LayoutView",
            "grid_template_rows": null,
            "right": null,
            "justify_content": null,
            "_view_module": "@jupyter-widgets/base",
            "overflow": null,
            "_model_module_version": "1.2.0",
            "_view_count": null,
            "flex_flow": null,
            "width": null,
            "min_width": null,
            "border": null,
            "align_items": null,
            "bottom": null,
            "_model_module": "@jupyter-widgets/base",
            "top": null,
            "grid_column": null,
            "overflow_y": null,
            "overflow_x": null,
            "grid_auto_flow": null,
            "grid_area": null,
            "grid_template_columns": null,
            "flex": null,
            "_model_name": "LayoutModel",
            "justify_items": null,
            "grid_row": null,
            "max_height": null,
            "align_content": null,
            "visibility": null,
            "align_self": null,
            "height": null,
            "min_height": null,
            "padding": null,
            "grid_auto_rows": null,
            "grid_gap": null,
            "max_width": null,
            "order": null,
            "_view_module_version": "1.2.0",
            "grid_template_areas": null,
            "object_position": null,
            "object_fit": null,
            "grid_auto_columns": null,
            "margin": null,
            "display": null,
            "left": null
          }
        },
        "39b03af9c0634cea86599b20024fe205": {
          "model_module": "@jupyter-widgets/controls",
          "model_name": "FloatProgressModel",
          "state": {
            "_view_name": "ProgressView",
            "style": "IPY_MODEL_793dc890272c44e7becb9c8ba1b52235",
            "_dom_classes": [],
            "description": "Downloading: 100%",
            "_model_name": "FloatProgressModel",
            "bar_style": "success",
            "max": 351265583,
            "_view_module": "@jupyter-widgets/controls",
            "_model_module_version": "1.5.0",
            "value": 351265583,
            "_view_count": null,
            "_view_module_version": "1.5.0",
            "orientation": "horizontal",
            "min": 0,
            "description_tooltip": null,
            "_model_module": "@jupyter-widgets/controls",
            "layout": "IPY_MODEL_fb03fb2c18964f3b906d880ef712dbc6"
          }
        },
        "92ea6777d70f4ec08755e70ebfe00ef8": {
          "model_module": "@jupyter-widgets/controls",
          "model_name": "HTMLModel",
          "state": {
            "_view_name": "HTMLView",
            "style": "IPY_MODEL_66fa11bdd8c74d53886f11f2740561f5",
            "_dom_classes": [],
            "description": "",
            "_model_name": "HTMLModel",
            "placeholder": "​",
            "_view_module": "@jupyter-widgets/controls",
            "_model_module_version": "1.5.0",
            "value": " 351M/351M [00:37&lt;00:00, 9.33MB/s]",
            "_view_count": null,
            "_view_module_version": "1.5.0",
            "description_tooltip": null,
            "_model_module": "@jupyter-widgets/controls",
            "layout": "IPY_MODEL_3e8d70c88f4d470cb41386a5e4e6a819"
          }
        },
        "793dc890272c44e7becb9c8ba1b52235": {
          "model_module": "@jupyter-widgets/controls",
          "model_name": "ProgressStyleModel",
          "state": {
            "_view_name": "StyleView",
            "_model_name": "ProgressStyleModel",
            "description_width": "initial",
            "_view_module": "@jupyter-widgets/base",
            "_model_module_version": "1.5.0",
            "_view_count": null,
            "_view_module_version": "1.2.0",
            "bar_color": null,
            "_model_module": "@jupyter-widgets/controls"
          }
        },
        "fb03fb2c18964f3b906d880ef712dbc6": {
          "model_module": "@jupyter-widgets/base",
          "model_name": "LayoutModel",
          "state": {
            "_view_name": "LayoutView",
            "grid_template_rows": null,
            "right": null,
            "justify_content": null,
            "_view_module": "@jupyter-widgets/base",
            "overflow": null,
            "_model_module_version": "1.2.0",
            "_view_count": null,
            "flex_flow": null,
            "width": null,
            "min_width": null,
            "border": null,
            "align_items": null,
            "bottom": null,
            "_model_module": "@jupyter-widgets/base",
            "top": null,
            "grid_column": null,
            "overflow_y": null,
            "overflow_x": null,
            "grid_auto_flow": null,
            "grid_area": null,
            "grid_template_columns": null,
            "flex": null,
            "_model_name": "LayoutModel",
            "justify_items": null,
            "grid_row": null,
            "max_height": null,
            "align_content": null,
            "visibility": null,
            "align_self": null,
            "height": null,
            "min_height": null,
            "padding": null,
            "grid_auto_rows": null,
            "grid_gap": null,
            "max_width": null,
            "order": null,
            "_view_module_version": "1.2.0",
            "grid_template_areas": null,
            "object_position": null,
            "object_fit": null,
            "grid_auto_columns": null,
            "margin": null,
            "display": null,
            "left": null
          }
        },
        "66fa11bdd8c74d53886f11f2740561f5": {
          "model_module": "@jupyter-widgets/controls",
          "model_name": "DescriptionStyleModel",
          "state": {
            "_view_name": "StyleView",
            "_model_name": "DescriptionStyleModel",
            "description_width": "",
            "_view_module": "@jupyter-widgets/base",
            "_model_module_version": "1.5.0",
            "_view_count": null,
            "_view_module_version": "1.2.0",
            "_model_module": "@jupyter-widgets/controls"
          }
        },
        "3e8d70c88f4d470cb41386a5e4e6a819": {
          "model_module": "@jupyter-widgets/base",
          "model_name": "LayoutModel",
          "state": {
            "_view_name": "LayoutView",
            "grid_template_rows": null,
            "right": null,
            "justify_content": null,
            "_view_module": "@jupyter-widgets/base",
            "overflow": null,
            "_model_module_version": "1.2.0",
            "_view_count": null,
            "flex_flow": null,
            "width": null,
            "min_width": null,
            "border": null,
            "align_items": null,
            "bottom": null,
            "_model_module": "@jupyter-widgets/base",
            "top": null,
            "grid_column": null,
            "overflow_y": null,
            "overflow_x": null,
            "grid_auto_flow": null,
            "grid_area": null,
            "grid_template_columns": null,
            "flex": null,
            "_model_name": "LayoutModel",
            "justify_items": null,
            "grid_row": null,
            "max_height": null,
            "align_content": null,
            "visibility": null,
            "align_self": null,
            "height": null,
            "min_height": null,
            "padding": null,
            "grid_auto_rows": null,
            "grid_gap": null,
            "max_width": null,
            "order": null,
            "_view_module_version": "1.2.0",
            "grid_template_areas": null,
            "object_position": null,
            "object_fit": null,
            "grid_auto_columns": null,
            "margin": null,
            "display": null,
            "left": null
          }
        },
        "36b8599f78374ec4b794d796b8d1a275": {
          "model_module": "@jupyter-widgets/controls",
          "model_name": "HBoxModel",
          "state": {
            "_view_name": "HBoxView",
            "_dom_classes": [],
            "_model_name": "HBoxModel",
            "_view_module": "@jupyter-widgets/controls",
            "_model_module_version": "1.5.0",
            "_view_count": null,
            "_view_module_version": "1.5.0",
            "box_style": "",
            "layout": "IPY_MODEL_8687be01005042158d539b86b6b4ad39",
            "_model_module": "@jupyter-widgets/controls",
            "children": [
              "IPY_MODEL_efc0c55726544d6fa4d0a842492e943c",
              "IPY_MODEL_b5e30354bd9a465e90cf0ebdf0bfabd6"
            ]
          }
        },
        "8687be01005042158d539b86b6b4ad39": {
          "model_module": "@jupyter-widgets/base",
          "model_name": "LayoutModel",
          "state": {
            "_view_name": "LayoutView",
            "grid_template_rows": null,
            "right": null,
            "justify_content": null,
            "_view_module": "@jupyter-widgets/base",
            "overflow": null,
            "_model_module_version": "1.2.0",
            "_view_count": null,
            "flex_flow": null,
            "width": null,
            "min_width": null,
            "border": null,
            "align_items": null,
            "bottom": null,
            "_model_module": "@jupyter-widgets/base",
            "top": null,
            "grid_column": null,
            "overflow_y": null,
            "overflow_x": null,
            "grid_auto_flow": null,
            "grid_area": null,
            "grid_template_columns": null,
            "flex": null,
            "_model_name": "LayoutModel",
            "justify_items": null,
            "grid_row": null,
            "max_height": null,
            "align_content": null,
            "visibility": null,
            "align_self": null,
            "height": null,
            "min_height": null,
            "padding": null,
            "grid_auto_rows": null,
            "grid_gap": null,
            "max_width": null,
            "order": null,
            "_view_module_version": "1.2.0",
            "grid_template_areas": null,
            "object_position": null,
            "object_fit": null,
            "grid_auto_columns": null,
            "margin": null,
            "display": null,
            "left": null
          }
        },
        "efc0c55726544d6fa4d0a842492e943c": {
          "model_module": "@jupyter-widgets/controls",
          "model_name": "FloatProgressModel",
          "state": {
            "_view_name": "ProgressView",
            "style": "IPY_MODEL_b3a49d9b2a394b959904f1ac7d19f5ec",
            "_dom_classes": [],
            "description": "Downloading: 100%",
            "_model_name": "FloatProgressModel",
            "bar_style": "success",
            "max": 641,
            "_view_module": "@jupyter-widgets/controls",
            "_model_module_version": "1.5.0",
            "value": 641,
            "_view_count": null,
            "_view_module_version": "1.5.0",
            "orientation": "horizontal",
            "min": 0,
            "description_tooltip": null,
            "_model_module": "@jupyter-widgets/controls",
            "layout": "IPY_MODEL_0faf5ac72b3a44ccaf1aee87d44e71c4"
          }
        },
        "b5e30354bd9a465e90cf0ebdf0bfabd6": {
          "model_module": "@jupyter-widgets/controls",
          "model_name": "HTMLModel",
          "state": {
            "_view_name": "HTMLView",
            "style": "IPY_MODEL_e681e91735a84c2e8363b6000f29d1ca",
            "_dom_classes": [],
            "description": "",
            "_model_name": "HTMLModel",
            "placeholder": "​",
            "_view_module": "@jupyter-widgets/controls",
            "_model_module_version": "1.5.0",
            "value": " 641/641 [00:00&lt;00:00, 3.53kB/s]",
            "_view_count": null,
            "_view_module_version": "1.5.0",
            "description_tooltip": null,
            "_model_module": "@jupyter-widgets/controls",
            "layout": "IPY_MODEL_cbe33f4a92884f8fbc565a5856ca5652"
          }
        },
        "b3a49d9b2a394b959904f1ac7d19f5ec": {
          "model_module": "@jupyter-widgets/controls",
          "model_name": "ProgressStyleModel",
          "state": {
            "_view_name": "StyleView",
            "_model_name": "ProgressStyleModel",
            "description_width": "initial",
            "_view_module": "@jupyter-widgets/base",
            "_model_module_version": "1.5.0",
            "_view_count": null,
            "_view_module_version": "1.2.0",
            "bar_color": null,
            "_model_module": "@jupyter-widgets/controls"
          }
        },
        "0faf5ac72b3a44ccaf1aee87d44e71c4": {
          "model_module": "@jupyter-widgets/base",
          "model_name": "LayoutModel",
          "state": {
            "_view_name": "LayoutView",
            "grid_template_rows": null,
            "right": null,
            "justify_content": null,
            "_view_module": "@jupyter-widgets/base",
            "overflow": null,
            "_model_module_version": "1.2.0",
            "_view_count": null,
            "flex_flow": null,
            "width": null,
            "min_width": null,
            "border": null,
            "align_items": null,
            "bottom": null,
            "_model_module": "@jupyter-widgets/base",
            "top": null,
            "grid_column": null,
            "overflow_y": null,
            "overflow_x": null,
            "grid_auto_flow": null,
            "grid_area": null,
            "grid_template_columns": null,
            "flex": null,
            "_model_name": "LayoutModel",
            "justify_items": null,
            "grid_row": null,
            "max_height": null,
            "align_content": null,
            "visibility": null,
            "align_self": null,
            "height": null,
            "min_height": null,
            "padding": null,
            "grid_auto_rows": null,
            "grid_gap": null,
            "max_width": null,
            "order": null,
            "_view_module_version": "1.2.0",
            "grid_template_areas": null,
            "object_position": null,
            "object_fit": null,
            "grid_auto_columns": null,
            "margin": null,
            "display": null,
            "left": null
          }
        },
        "e681e91735a84c2e8363b6000f29d1ca": {
          "model_module": "@jupyter-widgets/controls",
          "model_name": "DescriptionStyleModel",
          "state": {
            "_view_name": "StyleView",
            "_model_name": "DescriptionStyleModel",
            "description_width": "",
            "_view_module": "@jupyter-widgets/base",
            "_model_module_version": "1.5.0",
            "_view_count": null,
            "_view_module_version": "1.2.0",
            "_model_module": "@jupyter-widgets/controls"
          }
        },
        "cbe33f4a92884f8fbc565a5856ca5652": {
          "model_module": "@jupyter-widgets/base",
          "model_name": "LayoutModel",
          "state": {
            "_view_name": "LayoutView",
            "grid_template_rows": null,
            "right": null,
            "justify_content": null,
            "_view_module": "@jupyter-widgets/base",
            "overflow": null,
            "_model_module_version": "1.2.0",
            "_view_count": null,
            "flex_flow": null,
            "width": null,
            "min_width": null,
            "border": null,
            "align_items": null,
            "bottom": null,
            "_model_module": "@jupyter-widgets/base",
            "top": null,
            "grid_column": null,
            "overflow_y": null,
            "overflow_x": null,
            "grid_auto_flow": null,
            "grid_area": null,
            "grid_template_columns": null,
            "flex": null,
            "_model_name": "LayoutModel",
            "justify_items": null,
            "grid_row": null,
            "max_height": null,
            "align_content": null,
            "visibility": null,
            "align_self": null,
            "height": null,
            "min_height": null,
            "padding": null,
            "grid_auto_rows": null,
            "grid_gap": null,
            "max_width": null,
            "order": null,
            "_view_module_version": "1.2.0",
            "grid_template_areas": null,
            "object_position": null,
            "object_fit": null,
            "grid_auto_columns": null,
            "margin": null,
            "display": null,
            "left": null
          }
        },
        "9bbda75682164899b7e6c384cf5869be": {
          "model_module": "@jupyter-widgets/controls",
          "model_name": "HBoxModel",
          "state": {
            "_view_name": "HBoxView",
            "_dom_classes": [],
            "_model_name": "HBoxModel",
            "_view_module": "@jupyter-widgets/controls",
            "_model_module_version": "1.5.0",
            "_view_count": null,
            "_view_module_version": "1.5.0",
            "box_style": "",
            "layout": "IPY_MODEL_3f9272c3f35c4d62ab24d8878f36517b",
            "_model_module": "@jupyter-widgets/controls",
            "children": [
              "IPY_MODEL_98e91e51e459475b8d3aafd613c628f5",
              "IPY_MODEL_03b881f26ee041d483b9dd2b3dc7296c"
            ]
          }
        },
        "3f9272c3f35c4d62ab24d8878f36517b": {
          "model_module": "@jupyter-widgets/base",
          "model_name": "LayoutModel",
          "state": {
            "_view_name": "LayoutView",
            "grid_template_rows": null,
            "right": null,
            "justify_content": null,
            "_view_module": "@jupyter-widgets/base",
            "overflow": null,
            "_model_module_version": "1.2.0",
            "_view_count": null,
            "flex_flow": null,
            "width": null,
            "min_width": null,
            "border": null,
            "align_items": null,
            "bottom": null,
            "_model_module": "@jupyter-widgets/base",
            "top": null,
            "grid_column": null,
            "overflow_y": null,
            "overflow_x": null,
            "grid_auto_flow": null,
            "grid_area": null,
            "grid_template_columns": null,
            "flex": null,
            "_model_name": "LayoutModel",
            "justify_items": null,
            "grid_row": null,
            "max_height": null,
            "align_content": null,
            "visibility": null,
            "align_self": null,
            "height": null,
            "min_height": null,
            "padding": null,
            "grid_auto_rows": null,
            "grid_gap": null,
            "max_width": null,
            "order": null,
            "_view_module_version": "1.2.0",
            "grid_template_areas": null,
            "object_position": null,
            "object_fit": null,
            "grid_auto_columns": null,
            "margin": null,
            "display": null,
            "left": null
          }
        },
        "98e91e51e459475b8d3aafd613c628f5": {
          "model_module": "@jupyter-widgets/controls",
          "model_name": "FloatProgressModel",
          "state": {
            "_view_name": "ProgressView",
            "style": "IPY_MODEL_8a38d281920b442eab521f5ac3bae632",
            "_dom_classes": [],
            "description": "Downloading: 100%",
            "_model_name": "FloatProgressModel",
            "bar_style": "success",
            "max": 1042301,
            "_view_module": "@jupyter-widgets/controls",
            "_model_module_version": "1.5.0",
            "value": 1042301,
            "_view_count": null,
            "_view_module_version": "1.5.0",
            "orientation": "horizontal",
            "min": 0,
            "description_tooltip": null,
            "_model_module": "@jupyter-widgets/controls",
            "layout": "IPY_MODEL_70e6d23b9ef94c458148d241095597ae"
          }
        },
        "03b881f26ee041d483b9dd2b3dc7296c": {
          "model_module": "@jupyter-widgets/controls",
          "model_name": "HTMLModel",
          "state": {
            "_view_name": "HTMLView",
            "style": "IPY_MODEL_574f14390da3423789a56555f69cbf32",
            "_dom_classes": [],
            "description": "",
            "_model_name": "HTMLModel",
            "placeholder": "​",
            "_view_module": "@jupyter-widgets/controls",
            "_model_module_version": "1.5.0",
            "value": " 1.04M/1.04M [00:00&lt;00:00, 2.34MB/s]",
            "_view_count": null,
            "_view_module_version": "1.5.0",
            "description_tooltip": null,
            "_model_module": "@jupyter-widgets/controls",
            "layout": "IPY_MODEL_844f500bd572473e971f648fc139f809"
          }
        },
        "8a38d281920b442eab521f5ac3bae632": {
          "model_module": "@jupyter-widgets/controls",
          "model_name": "ProgressStyleModel",
          "state": {
            "_view_name": "StyleView",
            "_model_name": "ProgressStyleModel",
            "description_width": "initial",
            "_view_module": "@jupyter-widgets/base",
            "_model_module_version": "1.5.0",
            "_view_count": null,
            "_view_module_version": "1.2.0",
            "bar_color": null,
            "_model_module": "@jupyter-widgets/controls"
          }
        },
        "70e6d23b9ef94c458148d241095597ae": {
          "model_module": "@jupyter-widgets/base",
          "model_name": "LayoutModel",
          "state": {
            "_view_name": "LayoutView",
            "grid_template_rows": null,
            "right": null,
            "justify_content": null,
            "_view_module": "@jupyter-widgets/base",
            "overflow": null,
            "_model_module_version": "1.2.0",
            "_view_count": null,
            "flex_flow": null,
            "width": null,
            "min_width": null,
            "border": null,
            "align_items": null,
            "bottom": null,
            "_model_module": "@jupyter-widgets/base",
            "top": null,
            "grid_column": null,
            "overflow_y": null,
            "overflow_x": null,
            "grid_auto_flow": null,
            "grid_area": null,
            "grid_template_columns": null,
            "flex": null,
            "_model_name": "LayoutModel",
            "justify_items": null,
            "grid_row": null,
            "max_height": null,
            "align_content": null,
            "visibility": null,
            "align_self": null,
            "height": null,
            "min_height": null,
            "padding": null,
            "grid_auto_rows": null,
            "grid_gap": null,
            "max_width": null,
            "order": null,
            "_view_module_version": "1.2.0",
            "grid_template_areas": null,
            "object_position": null,
            "object_fit": null,
            "grid_auto_columns": null,
            "margin": null,
            "display": null,
            "left": null
          }
        },
        "574f14390da3423789a56555f69cbf32": {
          "model_module": "@jupyter-widgets/controls",
          "model_name": "DescriptionStyleModel",
          "state": {
            "_view_name": "StyleView",
            "_model_name": "DescriptionStyleModel",
            "description_width": "",
            "_view_module": "@jupyter-widgets/base",
            "_model_module_version": "1.5.0",
            "_view_count": null,
            "_view_module_version": "1.2.0",
            "_model_module": "@jupyter-widgets/controls"
          }
        },
        "844f500bd572473e971f648fc139f809": {
          "model_module": "@jupyter-widgets/base",
          "model_name": "LayoutModel",
          "state": {
            "_view_name": "LayoutView",
            "grid_template_rows": null,
            "right": null,
            "justify_content": null,
            "_view_module": "@jupyter-widgets/base",
            "overflow": null,
            "_model_module_version": "1.2.0",
            "_view_count": null,
            "flex_flow": null,
            "width": null,
            "min_width": null,
            "border": null,
            "align_items": null,
            "bottom": null,
            "_model_module": "@jupyter-widgets/base",
            "top": null,
            "grid_column": null,
            "overflow_y": null,
            "overflow_x": null,
            "grid_auto_flow": null,
            "grid_area": null,
            "grid_template_columns": null,
            "flex": null,
            "_model_name": "LayoutModel",
            "justify_items": null,
            "grid_row": null,
            "max_height": null,
            "align_content": null,
            "visibility": null,
            "align_self": null,
            "height": null,
            "min_height": null,
            "padding": null,
            "grid_auto_rows": null,
            "grid_gap": null,
            "max_width": null,
            "order": null,
            "_view_module_version": "1.2.0",
            "grid_template_areas": null,
            "object_position": null,
            "object_fit": null,
            "grid_auto_columns": null,
            "margin": null,
            "display": null,
            "left": null
          }
        },
        "313ea0b1bf72462190fa6ffd2f4b6966": {
          "model_module": "@jupyter-widgets/controls",
          "model_name": "HBoxModel",
          "state": {
            "_view_name": "HBoxView",
            "_dom_classes": [],
            "_model_name": "HBoxModel",
            "_view_module": "@jupyter-widgets/controls",
            "_model_module_version": "1.5.0",
            "_view_count": null,
            "_view_module_version": "1.5.0",
            "box_style": "",
            "layout": "IPY_MODEL_4056fbc6748344a6bdec8f021815635c",
            "_model_module": "@jupyter-widgets/controls",
            "children": [
              "IPY_MODEL_47d45d0c92ae487387b6504a09240f2f",
              "IPY_MODEL_0ccf556348684762b1fe75d3092a06ee"
            ]
          }
        },
        "4056fbc6748344a6bdec8f021815635c": {
          "model_module": "@jupyter-widgets/base",
          "model_name": "LayoutModel",
          "state": {
            "_view_name": "LayoutView",
            "grid_template_rows": null,
            "right": null,
            "justify_content": null,
            "_view_module": "@jupyter-widgets/base",
            "overflow": null,
            "_model_module_version": "1.2.0",
            "_view_count": null,
            "flex_flow": null,
            "width": null,
            "min_width": null,
            "border": null,
            "align_items": null,
            "bottom": null,
            "_model_module": "@jupyter-widgets/base",
            "top": null,
            "grid_column": null,
            "overflow_y": null,
            "overflow_x": null,
            "grid_auto_flow": null,
            "grid_area": null,
            "grid_template_columns": null,
            "flex": null,
            "_model_name": "LayoutModel",
            "justify_items": null,
            "grid_row": null,
            "max_height": null,
            "align_content": null,
            "visibility": null,
            "align_self": null,
            "height": null,
            "min_height": null,
            "padding": null,
            "grid_auto_rows": null,
            "grid_gap": null,
            "max_width": null,
            "order": null,
            "_view_module_version": "1.2.0",
            "grid_template_areas": null,
            "object_position": null,
            "object_fit": null,
            "grid_auto_columns": null,
            "margin": null,
            "display": null,
            "left": null
          }
        },
        "47d45d0c92ae487387b6504a09240f2f": {
          "model_module": "@jupyter-widgets/controls",
          "model_name": "FloatProgressModel",
          "state": {
            "_view_name": "ProgressView",
            "style": "IPY_MODEL_e67bb731a64747fbb1ae8e4ee53502e4",
            "_dom_classes": [],
            "description": "Downloading: 100%",
            "_model_name": "FloatProgressModel",
            "bar_style": "success",
            "max": 456318,
            "_view_module": "@jupyter-widgets/controls",
            "_model_module_version": "1.5.0",
            "value": 456318,
            "_view_count": null,
            "_view_module_version": "1.5.0",
            "orientation": "horizontal",
            "min": 0,
            "description_tooltip": null,
            "_model_module": "@jupyter-widgets/controls",
            "layout": "IPY_MODEL_96f10b4770a04834a6d31726d8c9849d"
          }
        },
        "0ccf556348684762b1fe75d3092a06ee": {
          "model_module": "@jupyter-widgets/controls",
          "model_name": "HTMLModel",
          "state": {
            "_view_name": "HTMLView",
            "style": "IPY_MODEL_679326d050484a3984e1d3bd0f9d548e",
            "_dom_classes": [],
            "description": "",
            "_model_name": "HTMLModel",
            "placeholder": "​",
            "_view_module": "@jupyter-widgets/controls",
            "_model_module_version": "1.5.0",
            "value": " 456k/456k [00:00&lt;00:00, 1.97MB/s]",
            "_view_count": null,
            "_view_module_version": "1.5.0",
            "description_tooltip": null,
            "_model_module": "@jupyter-widgets/controls",
            "layout": "IPY_MODEL_0d63f6145cb24f5aa1fae94994f03b96"
          }
        },
        "e67bb731a64747fbb1ae8e4ee53502e4": {
          "model_module": "@jupyter-widgets/controls",
          "model_name": "ProgressStyleModel",
          "state": {
            "_view_name": "StyleView",
            "_model_name": "ProgressStyleModel",
            "description_width": "initial",
            "_view_module": "@jupyter-widgets/base",
            "_model_module_version": "1.5.0",
            "_view_count": null,
            "_view_module_version": "1.2.0",
            "bar_color": null,
            "_model_module": "@jupyter-widgets/controls"
          }
        },
        "96f10b4770a04834a6d31726d8c9849d": {
          "model_module": "@jupyter-widgets/base",
          "model_name": "LayoutModel",
          "state": {
            "_view_name": "LayoutView",
            "grid_template_rows": null,
            "right": null,
            "justify_content": null,
            "_view_module": "@jupyter-widgets/base",
            "overflow": null,
            "_model_module_version": "1.2.0",
            "_view_count": null,
            "flex_flow": null,
            "width": null,
            "min_width": null,
            "border": null,
            "align_items": null,
            "bottom": null,
            "_model_module": "@jupyter-widgets/base",
            "top": null,
            "grid_column": null,
            "overflow_y": null,
            "overflow_x": null,
            "grid_auto_flow": null,
            "grid_area": null,
            "grid_template_columns": null,
            "flex": null,
            "_model_name": "LayoutModel",
            "justify_items": null,
            "grid_row": null,
            "max_height": null,
            "align_content": null,
            "visibility": null,
            "align_self": null,
            "height": null,
            "min_height": null,
            "padding": null,
            "grid_auto_rows": null,
            "grid_gap": null,
            "max_width": null,
            "order": null,
            "_view_module_version": "1.2.0",
            "grid_template_areas": null,
            "object_position": null,
            "object_fit": null,
            "grid_auto_columns": null,
            "margin": null,
            "display": null,
            "left": null
          }
        },
        "679326d050484a3984e1d3bd0f9d548e": {
          "model_module": "@jupyter-widgets/controls",
          "model_name": "DescriptionStyleModel",
          "state": {
            "_view_name": "StyleView",
            "_model_name": "DescriptionStyleModel",
            "description_width": "",
            "_view_module": "@jupyter-widgets/base",
            "_model_module_version": "1.5.0",
            "_view_count": null,
            "_view_module_version": "1.2.0",
            "_model_module": "@jupyter-widgets/controls"
          }
        },
        "0d63f6145cb24f5aa1fae94994f03b96": {
          "model_module": "@jupyter-widgets/base",
          "model_name": "LayoutModel",
          "state": {
            "_view_name": "LayoutView",
            "grid_template_rows": null,
            "right": null,
            "justify_content": null,
            "_view_module": "@jupyter-widgets/base",
            "overflow": null,
            "_model_module_version": "1.2.0",
            "_view_count": null,
            "flex_flow": null,
            "width": null,
            "min_width": null,
            "border": null,
            "align_items": null,
            "bottom": null,
            "_model_module": "@jupyter-widgets/base",
            "top": null,
            "grid_column": null,
            "overflow_y": null,
            "overflow_x": null,
            "grid_auto_flow": null,
            "grid_area": null,
            "grid_template_columns": null,
            "flex": null,
            "_model_name": "LayoutModel",
            "justify_items": null,
            "grid_row": null,
            "max_height": null,
            "align_content": null,
            "visibility": null,
            "align_self": null,
            "height": null,
            "min_height": null,
            "padding": null,
            "grid_auto_rows": null,
            "grid_gap": null,
            "max_width": null,
            "order": null,
            "_view_module_version": "1.2.0",
            "grid_template_areas": null,
            "object_position": null,
            "object_fit": null,
            "grid_auto_columns": null,
            "margin": null,
            "display": null,
            "left": null
          }
        },
        "c53a1ab826bb4894af875adb519f7e52": {
          "model_module": "@jupyter-widgets/controls",
          "model_name": "HBoxModel",
          "state": {
            "_view_name": "HBoxView",
            "_dom_classes": [],
            "_model_name": "HBoxModel",
            "_view_module": "@jupyter-widgets/controls",
            "_model_module_version": "1.5.0",
            "_view_count": null,
            "_view_module_version": "1.5.0",
            "box_style": "",
            "layout": "IPY_MODEL_8e8f6611e96e40439b3774727ee708b7",
            "_model_module": "@jupyter-widgets/controls",
            "children": [
              "IPY_MODEL_85bcdd20e26c431d891e04e4efecfc44",
              "IPY_MODEL_020068a3243f4e81aeaa42017f806bc2"
            ]
          }
        },
        "8e8f6611e96e40439b3774727ee708b7": {
          "model_module": "@jupyter-widgets/base",
          "model_name": "LayoutModel",
          "state": {
            "_view_name": "LayoutView",
            "grid_template_rows": null,
            "right": null,
            "justify_content": null,
            "_view_module": "@jupyter-widgets/base",
            "overflow": null,
            "_model_module_version": "1.2.0",
            "_view_count": null,
            "flex_flow": null,
            "width": null,
            "min_width": null,
            "border": null,
            "align_items": null,
            "bottom": null,
            "_model_module": "@jupyter-widgets/base",
            "top": null,
            "grid_column": null,
            "overflow_y": null,
            "overflow_x": null,
            "grid_auto_flow": null,
            "grid_area": null,
            "grid_template_columns": null,
            "flex": null,
            "_model_name": "LayoutModel",
            "justify_items": null,
            "grid_row": null,
            "max_height": null,
            "align_content": null,
            "visibility": null,
            "align_self": null,
            "height": null,
            "min_height": null,
            "padding": null,
            "grid_auto_rows": null,
            "grid_gap": null,
            "max_width": null,
            "order": null,
            "_view_module_version": "1.2.0",
            "grid_template_areas": null,
            "object_position": null,
            "object_fit": null,
            "grid_auto_columns": null,
            "margin": null,
            "display": null,
            "left": null
          }
        },
        "85bcdd20e26c431d891e04e4efecfc44": {
          "model_module": "@jupyter-widgets/controls",
          "model_name": "FloatProgressModel",
          "state": {
            "_view_name": "ProgressView",
            "style": "IPY_MODEL_10ecebc0c8fa4d73980775582ae5b272",
            "_dom_classes": [],
            "description": "Downloading: 100%",
            "_model_name": "FloatProgressModel",
            "bar_style": "success",
            "max": 351265583,
            "_view_module": "@jupyter-widgets/controls",
            "_model_module_version": "1.5.0",
            "value": 351265583,
            "_view_count": null,
            "_view_module_version": "1.5.0",
            "orientation": "horizontal",
            "min": 0,
            "description_tooltip": null,
            "_model_module": "@jupyter-widgets/controls",
            "layout": "IPY_MODEL_4ce6451f18254229aae2846fbe3e51e0"
          }
        },
        "020068a3243f4e81aeaa42017f806bc2": {
          "model_module": "@jupyter-widgets/controls",
          "model_name": "HTMLModel",
          "state": {
            "_view_name": "HTMLView",
            "style": "IPY_MODEL_b7d786cc258b40a891574a3f3f100c6e",
            "_dom_classes": [],
            "description": "",
            "_model_name": "HTMLModel",
            "placeholder": "​",
            "_view_module": "@jupyter-widgets/controls",
            "_model_module_version": "1.5.0",
            "value": " 351M/351M [00:05&lt;00:00, 69.4MB/s]",
            "_view_count": null,
            "_view_module_version": "1.5.0",
            "description_tooltip": null,
            "_model_module": "@jupyter-widgets/controls",
            "layout": "IPY_MODEL_f915b6582d154d218150bef1d678d35a"
          }
        },
        "10ecebc0c8fa4d73980775582ae5b272": {
          "model_module": "@jupyter-widgets/controls",
          "model_name": "ProgressStyleModel",
          "state": {
            "_view_name": "StyleView",
            "_model_name": "ProgressStyleModel",
            "description_width": "initial",
            "_view_module": "@jupyter-widgets/base",
            "_model_module_version": "1.5.0",
            "_view_count": null,
            "_view_module_version": "1.2.0",
            "bar_color": null,
            "_model_module": "@jupyter-widgets/controls"
          }
        },
        "4ce6451f18254229aae2846fbe3e51e0": {
          "model_module": "@jupyter-widgets/base",
          "model_name": "LayoutModel",
          "state": {
            "_view_name": "LayoutView",
            "grid_template_rows": null,
            "right": null,
            "justify_content": null,
            "_view_module": "@jupyter-widgets/base",
            "overflow": null,
            "_model_module_version": "1.2.0",
            "_view_count": null,
            "flex_flow": null,
            "width": null,
            "min_width": null,
            "border": null,
            "align_items": null,
            "bottom": null,
            "_model_module": "@jupyter-widgets/base",
            "top": null,
            "grid_column": null,
            "overflow_y": null,
            "overflow_x": null,
            "grid_auto_flow": null,
            "grid_area": null,
            "grid_template_columns": null,
            "flex": null,
            "_model_name": "LayoutModel",
            "justify_items": null,
            "grid_row": null,
            "max_height": null,
            "align_content": null,
            "visibility": null,
            "align_self": null,
            "height": null,
            "min_height": null,
            "padding": null,
            "grid_auto_rows": null,
            "grid_gap": null,
            "max_width": null,
            "order": null,
            "_view_module_version": "1.2.0",
            "grid_template_areas": null,
            "object_position": null,
            "object_fit": null,
            "grid_auto_columns": null,
            "margin": null,
            "display": null,
            "left": null
          }
        },
        "b7d786cc258b40a891574a3f3f100c6e": {
          "model_module": "@jupyter-widgets/controls",
          "model_name": "DescriptionStyleModel",
          "state": {
            "_view_name": "StyleView",
            "_model_name": "DescriptionStyleModel",
            "description_width": "",
            "_view_module": "@jupyter-widgets/base",
            "_model_module_version": "1.5.0",
            "_view_count": null,
            "_view_module_version": "1.2.0",
            "_model_module": "@jupyter-widgets/controls"
          }
        },
        "f915b6582d154d218150bef1d678d35a": {
          "model_module": "@jupyter-widgets/base",
          "model_name": "LayoutModel",
          "state": {
            "_view_name": "LayoutView",
            "grid_template_rows": null,
            "right": null,
            "justify_content": null,
            "_view_module": "@jupyter-widgets/base",
            "overflow": null,
            "_model_module_version": "1.2.0",
            "_view_count": null,
            "flex_flow": null,
            "width": null,
            "min_width": null,
            "border": null,
            "align_items": null,
            "bottom": null,
            "_model_module": "@jupyter-widgets/base",
            "top": null,
            "grid_column": null,
            "overflow_y": null,
            "overflow_x": null,
            "grid_auto_flow": null,
            "grid_area": null,
            "grid_template_columns": null,
            "flex": null,
            "_model_name": "LayoutModel",
            "justify_items": null,
            "grid_row": null,
            "max_height": null,
            "align_content": null,
            "visibility": null,
            "align_self": null,
            "height": null,
            "min_height": null,
            "padding": null,
            "grid_auto_rows": null,
            "grid_gap": null,
            "max_width": null,
            "order": null,
            "_view_module_version": "1.2.0",
            "grid_template_areas": null,
            "object_position": null,
            "object_fit": null,
            "grid_auto_columns": null,
            "margin": null,
            "display": null,
            "left": null
          }
        },
        "f0c23d021b2d4172a2146225199d6f4e": {
          "model_module": "@jupyter-widgets/controls",
          "model_name": "HBoxModel",
          "state": {
            "_view_name": "HBoxView",
            "_dom_classes": [],
            "_model_name": "HBoxModel",
            "_view_module": "@jupyter-widgets/controls",
            "_model_module_version": "1.5.0",
            "_view_count": null,
            "_view_module_version": "1.5.0",
            "box_style": "",
            "layout": "IPY_MODEL_2c303380fcbe422bb60369bbc46a2666",
            "_model_module": "@jupyter-widgets/controls",
            "children": [
              "IPY_MODEL_eaea318637b84790a479a10c8d858a61",
              "IPY_MODEL_ae9efef3afe64e53bd219e054231cfd6"
            ]
          }
        },
        "2c303380fcbe422bb60369bbc46a2666": {
          "model_module": "@jupyter-widgets/base",
          "model_name": "LayoutModel",
          "state": {
            "_view_name": "LayoutView",
            "grid_template_rows": null,
            "right": null,
            "justify_content": null,
            "_view_module": "@jupyter-widgets/base",
            "overflow": null,
            "_model_module_version": "1.2.0",
            "_view_count": null,
            "flex_flow": null,
            "width": null,
            "min_width": null,
            "border": null,
            "align_items": null,
            "bottom": null,
            "_model_module": "@jupyter-widgets/base",
            "top": null,
            "grid_column": null,
            "overflow_y": null,
            "overflow_x": null,
            "grid_auto_flow": null,
            "grid_area": null,
            "grid_template_columns": null,
            "flex": null,
            "_model_name": "LayoutModel",
            "justify_items": null,
            "grid_row": null,
            "max_height": null,
            "align_content": null,
            "visibility": null,
            "align_self": null,
            "height": null,
            "min_height": null,
            "padding": null,
            "grid_auto_rows": null,
            "grid_gap": null,
            "max_width": null,
            "order": null,
            "_view_module_version": "1.2.0",
            "grid_template_areas": null,
            "object_position": null,
            "object_fit": null,
            "grid_auto_columns": null,
            "margin": null,
            "display": null,
            "left": null
          }
        },
        "eaea318637b84790a479a10c8d858a61": {
          "model_module": "@jupyter-widgets/controls",
          "model_name": "FloatProgressModel",
          "state": {
            "_view_name": "ProgressView",
            "style": "IPY_MODEL_b6c268537bec4384be63d868bb65aeee",
            "_dom_classes": [],
            "description": "Epoch: 100%",
            "_model_name": "FloatProgressModel",
            "bar_style": "success",
            "max": 3,
            "_view_module": "@jupyter-widgets/controls",
            "_model_module_version": "1.5.0",
            "value": 3,
            "_view_count": null,
            "_view_module_version": "1.5.0",
            "orientation": "horizontal",
            "min": 0,
            "description_tooltip": null,
            "_model_module": "@jupyter-widgets/controls",
            "layout": "IPY_MODEL_c60de691e0e84c68bd7a1c17091f4eb4"
          }
        },
        "ae9efef3afe64e53bd219e054231cfd6": {
          "model_module": "@jupyter-widgets/controls",
          "model_name": "HTMLModel",
          "state": {
            "_view_name": "HTMLView",
            "style": "IPY_MODEL_56762013377047abbad6556cd526460f",
            "_dom_classes": [],
            "description": "",
            "_model_name": "HTMLModel",
            "placeholder": "​",
            "_view_module": "@jupyter-widgets/controls",
            "_model_module_version": "1.5.0",
            "value": " 3/3 [06:53&lt;00:00, 137.68s/it]",
            "_view_count": null,
            "_view_module_version": "1.5.0",
            "description_tooltip": null,
            "_model_module": "@jupyter-widgets/controls",
            "layout": "IPY_MODEL_245534f3010c4b5682ab292067c49497"
          }
        },
        "b6c268537bec4384be63d868bb65aeee": {
          "model_module": "@jupyter-widgets/controls",
          "model_name": "ProgressStyleModel",
          "state": {
            "_view_name": "StyleView",
            "_model_name": "ProgressStyleModel",
            "description_width": "initial",
            "_view_module": "@jupyter-widgets/base",
            "_model_module_version": "1.5.0",
            "_view_count": null,
            "_view_module_version": "1.2.0",
            "bar_color": null,
            "_model_module": "@jupyter-widgets/controls"
          }
        },
        "c60de691e0e84c68bd7a1c17091f4eb4": {
          "model_module": "@jupyter-widgets/base",
          "model_name": "LayoutModel",
          "state": {
            "_view_name": "LayoutView",
            "grid_template_rows": null,
            "right": null,
            "justify_content": null,
            "_view_module": "@jupyter-widgets/base",
            "overflow": null,
            "_model_module_version": "1.2.0",
            "_view_count": null,
            "flex_flow": null,
            "width": null,
            "min_width": null,
            "border": null,
            "align_items": null,
            "bottom": null,
            "_model_module": "@jupyter-widgets/base",
            "top": null,
            "grid_column": null,
            "overflow_y": null,
            "overflow_x": null,
            "grid_auto_flow": null,
            "grid_area": null,
            "grid_template_columns": null,
            "flex": null,
            "_model_name": "LayoutModel",
            "justify_items": null,
            "grid_row": null,
            "max_height": null,
            "align_content": null,
            "visibility": null,
            "align_self": null,
            "height": null,
            "min_height": null,
            "padding": null,
            "grid_auto_rows": null,
            "grid_gap": null,
            "max_width": null,
            "order": null,
            "_view_module_version": "1.2.0",
            "grid_template_areas": null,
            "object_position": null,
            "object_fit": null,
            "grid_auto_columns": null,
            "margin": null,
            "display": null,
            "left": null
          }
        },
        "56762013377047abbad6556cd526460f": {
          "model_module": "@jupyter-widgets/controls",
          "model_name": "DescriptionStyleModel",
          "state": {
            "_view_name": "StyleView",
            "_model_name": "DescriptionStyleModel",
            "description_width": "",
            "_view_module": "@jupyter-widgets/base",
            "_model_module_version": "1.5.0",
            "_view_count": null,
            "_view_module_version": "1.2.0",
            "_model_module": "@jupyter-widgets/controls"
          }
        },
        "245534f3010c4b5682ab292067c49497": {
          "model_module": "@jupyter-widgets/base",
          "model_name": "LayoutModel",
          "state": {
            "_view_name": "LayoutView",
            "grid_template_rows": null,
            "right": null,
            "justify_content": null,
            "_view_module": "@jupyter-widgets/base",
            "overflow": null,
            "_model_module_version": "1.2.0",
            "_view_count": null,
            "flex_flow": null,
            "width": null,
            "min_width": null,
            "border": null,
            "align_items": null,
            "bottom": null,
            "_model_module": "@jupyter-widgets/base",
            "top": null,
            "grid_column": null,
            "overflow_y": null,
            "overflow_x": null,
            "grid_auto_flow": null,
            "grid_area": null,
            "grid_template_columns": null,
            "flex": null,
            "_model_name": "LayoutModel",
            "justify_items": null,
            "grid_row": null,
            "max_height": null,
            "align_content": null,
            "visibility": null,
            "align_self": null,
            "height": null,
            "min_height": null,
            "padding": null,
            "grid_auto_rows": null,
            "grid_gap": null,
            "max_width": null,
            "order": null,
            "_view_module_version": "1.2.0",
            "grid_template_areas": null,
            "object_position": null,
            "object_fit": null,
            "grid_auto_columns": null,
            "margin": null,
            "display": null,
            "left": null
          }
        },
        "dcf3d5b01570446ea23828e5622304c4": {
          "model_module": "@jupyter-widgets/controls",
          "model_name": "HBoxModel",
          "state": {
            "_view_name": "HBoxView",
            "_dom_classes": [],
            "_model_name": "HBoxModel",
            "_view_module": "@jupyter-widgets/controls",
            "_model_module_version": "1.5.0",
            "_view_count": null,
            "_view_module_version": "1.5.0",
            "box_style": "",
            "layout": "IPY_MODEL_77a7a8188bc6423bb6d04f8ef9466ba2",
            "_model_module": "@jupyter-widgets/controls",
            "children": [
              "IPY_MODEL_9a0b1d28c1d54d619df79529eff602e4",
              "IPY_MODEL_f6d8bc504c2c47fdb3de3563979074ac"
            ]
          }
        },
        "77a7a8188bc6423bb6d04f8ef9466ba2": {
          "model_module": "@jupyter-widgets/base",
          "model_name": "LayoutModel",
          "state": {
            "_view_name": "LayoutView",
            "grid_template_rows": null,
            "right": null,
            "justify_content": null,
            "_view_module": "@jupyter-widgets/base",
            "overflow": null,
            "_model_module_version": "1.2.0",
            "_view_count": null,
            "flex_flow": null,
            "width": null,
            "min_width": null,
            "border": null,
            "align_items": null,
            "bottom": null,
            "_model_module": "@jupyter-widgets/base",
            "top": null,
            "grid_column": null,
            "overflow_y": null,
            "overflow_x": null,
            "grid_auto_flow": null,
            "grid_area": null,
            "grid_template_columns": null,
            "flex": null,
            "_model_name": "LayoutModel",
            "justify_items": null,
            "grid_row": null,
            "max_height": null,
            "align_content": null,
            "visibility": null,
            "align_self": null,
            "height": null,
            "min_height": null,
            "padding": null,
            "grid_auto_rows": null,
            "grid_gap": null,
            "max_width": null,
            "order": null,
            "_view_module_version": "1.2.0",
            "grid_template_areas": null,
            "object_position": null,
            "object_fit": null,
            "grid_auto_columns": null,
            "margin": null,
            "display": null,
            "left": null
          }
        },
        "9a0b1d28c1d54d619df79529eff602e4": {
          "model_module": "@jupyter-widgets/controls",
          "model_name": "FloatProgressModel",
          "state": {
            "_view_name": "ProgressView",
            "style": "IPY_MODEL_155d945438e845ec838a1aac9f5d3c49",
            "_dom_classes": [],
            "description": "Iteration: 100%",
            "_model_name": "FloatProgressModel",
            "bar_style": "success",
            "max": 427,
            "_view_module": "@jupyter-widgets/controls",
            "_model_module_version": "1.5.0",
            "value": 427,
            "_view_count": null,
            "_view_module_version": "1.5.0",
            "orientation": "horizontal",
            "min": 0,
            "description_tooltip": null,
            "_model_module": "@jupyter-widgets/controls",
            "layout": "IPY_MODEL_4b96622e0add4ac18817d2c7048cd655"
          }
        },
        "f6d8bc504c2c47fdb3de3563979074ac": {
          "model_module": "@jupyter-widgets/controls",
          "model_name": "HTMLModel",
          "state": {
            "_view_name": "HTMLView",
            "style": "IPY_MODEL_5292e7f59f05437f86713799cfe41930",
            "_dom_classes": [],
            "description": "",
            "_model_name": "HTMLModel",
            "placeholder": "​",
            "_view_module": "@jupyter-widgets/controls",
            "_model_module_version": "1.5.0",
            "value": " 427/427 [02:14&lt;00:00,  3.18it/s]",
            "_view_count": null,
            "_view_module_version": "1.5.0",
            "description_tooltip": null,
            "_model_module": "@jupyter-widgets/controls",
            "layout": "IPY_MODEL_dea7738fe2b64a539b711c7cfda0ba38"
          }
        },
        "155d945438e845ec838a1aac9f5d3c49": {
          "model_module": "@jupyter-widgets/controls",
          "model_name": "ProgressStyleModel",
          "state": {
            "_view_name": "StyleView",
            "_model_name": "ProgressStyleModel",
            "description_width": "initial",
            "_view_module": "@jupyter-widgets/base",
            "_model_module_version": "1.5.0",
            "_view_count": null,
            "_view_module_version": "1.2.0",
            "bar_color": null,
            "_model_module": "@jupyter-widgets/controls"
          }
        },
        "4b96622e0add4ac18817d2c7048cd655": {
          "model_module": "@jupyter-widgets/base",
          "model_name": "LayoutModel",
          "state": {
            "_view_name": "LayoutView",
            "grid_template_rows": null,
            "right": null,
            "justify_content": null,
            "_view_module": "@jupyter-widgets/base",
            "overflow": null,
            "_model_module_version": "1.2.0",
            "_view_count": null,
            "flex_flow": null,
            "width": null,
            "min_width": null,
            "border": null,
            "align_items": null,
            "bottom": null,
            "_model_module": "@jupyter-widgets/base",
            "top": null,
            "grid_column": null,
            "overflow_y": null,
            "overflow_x": null,
            "grid_auto_flow": null,
            "grid_area": null,
            "grid_template_columns": null,
            "flex": null,
            "_model_name": "LayoutModel",
            "justify_items": null,
            "grid_row": null,
            "max_height": null,
            "align_content": null,
            "visibility": null,
            "align_self": null,
            "height": null,
            "min_height": null,
            "padding": null,
            "grid_auto_rows": null,
            "grid_gap": null,
            "max_width": null,
            "order": null,
            "_view_module_version": "1.2.0",
            "grid_template_areas": null,
            "object_position": null,
            "object_fit": null,
            "grid_auto_columns": null,
            "margin": null,
            "display": null,
            "left": null
          }
        },
        "5292e7f59f05437f86713799cfe41930": {
          "model_module": "@jupyter-widgets/controls",
          "model_name": "DescriptionStyleModel",
          "state": {
            "_view_name": "StyleView",
            "_model_name": "DescriptionStyleModel",
            "description_width": "",
            "_view_module": "@jupyter-widgets/base",
            "_model_module_version": "1.5.0",
            "_view_count": null,
            "_view_module_version": "1.2.0",
            "_model_module": "@jupyter-widgets/controls"
          }
        },
        "dea7738fe2b64a539b711c7cfda0ba38": {
          "model_module": "@jupyter-widgets/base",
          "model_name": "LayoutModel",
          "state": {
            "_view_name": "LayoutView",
            "grid_template_rows": null,
            "right": null,
            "justify_content": null,
            "_view_module": "@jupyter-widgets/base",
            "overflow": null,
            "_model_module_version": "1.2.0",
            "_view_count": null,
            "flex_flow": null,
            "width": null,
            "min_width": null,
            "border": null,
            "align_items": null,
            "bottom": null,
            "_model_module": "@jupyter-widgets/base",
            "top": null,
            "grid_column": null,
            "overflow_y": null,
            "overflow_x": null,
            "grid_auto_flow": null,
            "grid_area": null,
            "grid_template_columns": null,
            "flex": null,
            "_model_name": "LayoutModel",
            "justify_items": null,
            "grid_row": null,
            "max_height": null,
            "align_content": null,
            "visibility": null,
            "align_self": null,
            "height": null,
            "min_height": null,
            "padding": null,
            "grid_auto_rows": null,
            "grid_gap": null,
            "max_width": null,
            "order": null,
            "_view_module_version": "1.2.0",
            "grid_template_areas": null,
            "object_position": null,
            "object_fit": null,
            "grid_auto_columns": null,
            "margin": null,
            "display": null,
            "left": null
          }
        },
        "1ccc2dc216ca4db4970c4360caf08046": {
          "model_module": "@jupyter-widgets/controls",
          "model_name": "HBoxModel",
          "state": {
            "_view_name": "HBoxView",
            "_dom_classes": [],
            "_model_name": "HBoxModel",
            "_view_module": "@jupyter-widgets/controls",
            "_model_module_version": "1.5.0",
            "_view_count": null,
            "_view_module_version": "1.5.0",
            "box_style": "",
            "layout": "IPY_MODEL_74e2f032a400417d9638f94e0dcec1ca",
            "_model_module": "@jupyter-widgets/controls",
            "children": [
              "IPY_MODEL_4c6dc0cdc55e4f568db5875058c4db36",
              "IPY_MODEL_cb0c4b769b9f45a9bafee726c4870842"
            ]
          }
        },
        "74e2f032a400417d9638f94e0dcec1ca": {
          "model_module": "@jupyter-widgets/base",
          "model_name": "LayoutModel",
          "state": {
            "_view_name": "LayoutView",
            "grid_template_rows": null,
            "right": null,
            "justify_content": null,
            "_view_module": "@jupyter-widgets/base",
            "overflow": null,
            "_model_module_version": "1.2.0",
            "_view_count": null,
            "flex_flow": null,
            "width": null,
            "min_width": null,
            "border": null,
            "align_items": null,
            "bottom": null,
            "_model_module": "@jupyter-widgets/base",
            "top": null,
            "grid_column": null,
            "overflow_y": null,
            "overflow_x": null,
            "grid_auto_flow": null,
            "grid_area": null,
            "grid_template_columns": null,
            "flex": null,
            "_model_name": "LayoutModel",
            "justify_items": null,
            "grid_row": null,
            "max_height": null,
            "align_content": null,
            "visibility": null,
            "align_self": null,
            "height": null,
            "min_height": null,
            "padding": null,
            "grid_auto_rows": null,
            "grid_gap": null,
            "max_width": null,
            "order": null,
            "_view_module_version": "1.2.0",
            "grid_template_areas": null,
            "object_position": null,
            "object_fit": null,
            "grid_auto_columns": null,
            "margin": null,
            "display": null,
            "left": null
          }
        },
        "4c6dc0cdc55e4f568db5875058c4db36": {
          "model_module": "@jupyter-widgets/controls",
          "model_name": "FloatProgressModel",
          "state": {
            "_view_name": "ProgressView",
            "style": "IPY_MODEL_303e7b176a7047a08ceb8ced7a9567ea",
            "_dom_classes": [],
            "description": "Iteration: 100%",
            "_model_name": "FloatProgressModel",
            "bar_style": "success",
            "max": 427,
            "_view_module": "@jupyter-widgets/controls",
            "_model_module_version": "1.5.0",
            "value": 427,
            "_view_count": null,
            "_view_module_version": "1.5.0",
            "orientation": "horizontal",
            "min": 0,
            "description_tooltip": null,
            "_model_module": "@jupyter-widgets/controls",
            "layout": "IPY_MODEL_e81e47057563462cb005112fdebfd80a"
          }
        },
        "cb0c4b769b9f45a9bafee726c4870842": {
          "model_module": "@jupyter-widgets/controls",
          "model_name": "HTMLModel",
          "state": {
            "_view_name": "HTMLView",
            "style": "IPY_MODEL_c2816a0b49fd4ec1a7f3445b9b5c35d6",
            "_dom_classes": [],
            "description": "",
            "_model_name": "HTMLModel",
            "placeholder": "​",
            "_view_module": "@jupyter-widgets/controls",
            "_model_module_version": "1.5.0",
            "value": " 427/427 [03:14&lt;00:00,  2.19it/s]",
            "_view_count": null,
            "_view_module_version": "1.5.0",
            "description_tooltip": null,
            "_model_module": "@jupyter-widgets/controls",
            "layout": "IPY_MODEL_d36ef2a206e542dd9c70b00c29a20c01"
          }
        },
        "303e7b176a7047a08ceb8ced7a9567ea": {
          "model_module": "@jupyter-widgets/controls",
          "model_name": "ProgressStyleModel",
          "state": {
            "_view_name": "StyleView",
            "_model_name": "ProgressStyleModel",
            "description_width": "initial",
            "_view_module": "@jupyter-widgets/base",
            "_model_module_version": "1.5.0",
            "_view_count": null,
            "_view_module_version": "1.2.0",
            "bar_color": null,
            "_model_module": "@jupyter-widgets/controls"
          }
        },
        "e81e47057563462cb005112fdebfd80a": {
          "model_module": "@jupyter-widgets/base",
          "model_name": "LayoutModel",
          "state": {
            "_view_name": "LayoutView",
            "grid_template_rows": null,
            "right": null,
            "justify_content": null,
            "_view_module": "@jupyter-widgets/base",
            "overflow": null,
            "_model_module_version": "1.2.0",
            "_view_count": null,
            "flex_flow": null,
            "width": null,
            "min_width": null,
            "border": null,
            "align_items": null,
            "bottom": null,
            "_model_module": "@jupyter-widgets/base",
            "top": null,
            "grid_column": null,
            "overflow_y": null,
            "overflow_x": null,
            "grid_auto_flow": null,
            "grid_area": null,
            "grid_template_columns": null,
            "flex": null,
            "_model_name": "LayoutModel",
            "justify_items": null,
            "grid_row": null,
            "max_height": null,
            "align_content": null,
            "visibility": null,
            "align_self": null,
            "height": null,
            "min_height": null,
            "padding": null,
            "grid_auto_rows": null,
            "grid_gap": null,
            "max_width": null,
            "order": null,
            "_view_module_version": "1.2.0",
            "grid_template_areas": null,
            "object_position": null,
            "object_fit": null,
            "grid_auto_columns": null,
            "margin": null,
            "display": null,
            "left": null
          }
        },
        "c2816a0b49fd4ec1a7f3445b9b5c35d6": {
          "model_module": "@jupyter-widgets/controls",
          "model_name": "DescriptionStyleModel",
          "state": {
            "_view_name": "StyleView",
            "_model_name": "DescriptionStyleModel",
            "description_width": "",
            "_view_module": "@jupyter-widgets/base",
            "_model_module_version": "1.5.0",
            "_view_count": null,
            "_view_module_version": "1.2.0",
            "_model_module": "@jupyter-widgets/controls"
          }
        },
        "d36ef2a206e542dd9c70b00c29a20c01": {
          "model_module": "@jupyter-widgets/base",
          "model_name": "LayoutModel",
          "state": {
            "_view_name": "LayoutView",
            "grid_template_rows": null,
            "right": null,
            "justify_content": null,
            "_view_module": "@jupyter-widgets/base",
            "overflow": null,
            "_model_module_version": "1.2.0",
            "_view_count": null,
            "flex_flow": null,
            "width": null,
            "min_width": null,
            "border": null,
            "align_items": null,
            "bottom": null,
            "_model_module": "@jupyter-widgets/base",
            "top": null,
            "grid_column": null,
            "overflow_y": null,
            "overflow_x": null,
            "grid_auto_flow": null,
            "grid_area": null,
            "grid_template_columns": null,
            "flex": null,
            "_model_name": "LayoutModel",
            "justify_items": null,
            "grid_row": null,
            "max_height": null,
            "align_content": null,
            "visibility": null,
            "align_self": null,
            "height": null,
            "min_height": null,
            "padding": null,
            "grid_auto_rows": null,
            "grid_gap": null,
            "max_width": null,
            "order": null,
            "_view_module_version": "1.2.0",
            "grid_template_areas": null,
            "object_position": null,
            "object_fit": null,
            "grid_auto_columns": null,
            "margin": null,
            "display": null,
            "left": null
          }
        },
        "4e0fd80e9a3548dd8b7ab146cde3ef01": {
          "model_module": "@jupyter-widgets/controls",
          "model_name": "HBoxModel",
          "state": {
            "_view_name": "HBoxView",
            "_dom_classes": [],
            "_model_name": "HBoxModel",
            "_view_module": "@jupyter-widgets/controls",
            "_model_module_version": "1.5.0",
            "_view_count": null,
            "_view_module_version": "1.5.0",
            "box_style": "",
            "layout": "IPY_MODEL_bc3c0542d48a4d18b1a7a6ae02d64608",
            "_model_module": "@jupyter-widgets/controls",
            "children": [
              "IPY_MODEL_dba88d6fafca482f9ef7069ccb9d4672",
              "IPY_MODEL_4495ea5dbe4b4a8bb5aa89cb90a88f9c"
            ]
          }
        },
        "bc3c0542d48a4d18b1a7a6ae02d64608": {
          "model_module": "@jupyter-widgets/base",
          "model_name": "LayoutModel",
          "state": {
            "_view_name": "LayoutView",
            "grid_template_rows": null,
            "right": null,
            "justify_content": null,
            "_view_module": "@jupyter-widgets/base",
            "overflow": null,
            "_model_module_version": "1.2.0",
            "_view_count": null,
            "flex_flow": null,
            "width": null,
            "min_width": null,
            "border": null,
            "align_items": null,
            "bottom": null,
            "_model_module": "@jupyter-widgets/base",
            "top": null,
            "grid_column": null,
            "overflow_y": null,
            "overflow_x": null,
            "grid_auto_flow": null,
            "grid_area": null,
            "grid_template_columns": null,
            "flex": null,
            "_model_name": "LayoutModel",
            "justify_items": null,
            "grid_row": null,
            "max_height": null,
            "align_content": null,
            "visibility": null,
            "align_self": null,
            "height": null,
            "min_height": null,
            "padding": null,
            "grid_auto_rows": null,
            "grid_gap": null,
            "max_width": null,
            "order": null,
            "_view_module_version": "1.2.0",
            "grid_template_areas": null,
            "object_position": null,
            "object_fit": null,
            "grid_auto_columns": null,
            "margin": null,
            "display": null,
            "left": null
          }
        },
        "dba88d6fafca482f9ef7069ccb9d4672": {
          "model_module": "@jupyter-widgets/controls",
          "model_name": "FloatProgressModel",
          "state": {
            "_view_name": "ProgressView",
            "style": "IPY_MODEL_ab2b942e11b04f27ac25bec8bac93957",
            "_dom_classes": [],
            "description": "Iteration: 100%",
            "_model_name": "FloatProgressModel",
            "bar_style": "success",
            "max": 427,
            "_view_module": "@jupyter-widgets/controls",
            "_model_module_version": "1.5.0",
            "value": 427,
            "_view_count": null,
            "_view_module_version": "1.5.0",
            "orientation": "horizontal",
            "min": 0,
            "description_tooltip": null,
            "_model_module": "@jupyter-widgets/controls",
            "layout": "IPY_MODEL_81cf942546204fae9f84b366c94a0749"
          }
        },
        "4495ea5dbe4b4a8bb5aa89cb90a88f9c": {
          "model_module": "@jupyter-widgets/controls",
          "model_name": "HTMLModel",
          "state": {
            "_view_name": "HTMLView",
            "style": "IPY_MODEL_c749eaae20f448f6af361c61dc08ca06",
            "_dom_classes": [],
            "description": "",
            "_model_name": "HTMLModel",
            "placeholder": "​",
            "_view_module": "@jupyter-widgets/controls",
            "_model_module_version": "1.5.0",
            "value": " 427/427 [02:20&lt;00:00,  3.05it/s]",
            "_view_count": null,
            "_view_module_version": "1.5.0",
            "description_tooltip": null,
            "_model_module": "@jupyter-widgets/controls",
            "layout": "IPY_MODEL_db8cb5ba241a40fa90a420232488bb8d"
          }
        },
        "ab2b942e11b04f27ac25bec8bac93957": {
          "model_module": "@jupyter-widgets/controls",
          "model_name": "ProgressStyleModel",
          "state": {
            "_view_name": "StyleView",
            "_model_name": "ProgressStyleModel",
            "description_width": "initial",
            "_view_module": "@jupyter-widgets/base",
            "_model_module_version": "1.5.0",
            "_view_count": null,
            "_view_module_version": "1.2.0",
            "bar_color": null,
            "_model_module": "@jupyter-widgets/controls"
          }
        },
        "81cf942546204fae9f84b366c94a0749": {
          "model_module": "@jupyter-widgets/base",
          "model_name": "LayoutModel",
          "state": {
            "_view_name": "LayoutView",
            "grid_template_rows": null,
            "right": null,
            "justify_content": null,
            "_view_module": "@jupyter-widgets/base",
            "overflow": null,
            "_model_module_version": "1.2.0",
            "_view_count": null,
            "flex_flow": null,
            "width": null,
            "min_width": null,
            "border": null,
            "align_items": null,
            "bottom": null,
            "_model_module": "@jupyter-widgets/base",
            "top": null,
            "grid_column": null,
            "overflow_y": null,
            "overflow_x": null,
            "grid_auto_flow": null,
            "grid_area": null,
            "grid_template_columns": null,
            "flex": null,
            "_model_name": "LayoutModel",
            "justify_items": null,
            "grid_row": null,
            "max_height": null,
            "align_content": null,
            "visibility": null,
            "align_self": null,
            "height": null,
            "min_height": null,
            "padding": null,
            "grid_auto_rows": null,
            "grid_gap": null,
            "max_width": null,
            "order": null,
            "_view_module_version": "1.2.0",
            "grid_template_areas": null,
            "object_position": null,
            "object_fit": null,
            "grid_auto_columns": null,
            "margin": null,
            "display": null,
            "left": null
          }
        },
        "c749eaae20f448f6af361c61dc08ca06": {
          "model_module": "@jupyter-widgets/controls",
          "model_name": "DescriptionStyleModel",
          "state": {
            "_view_name": "StyleView",
            "_model_name": "DescriptionStyleModel",
            "description_width": "",
            "_view_module": "@jupyter-widgets/base",
            "_model_module_version": "1.5.0",
            "_view_count": null,
            "_view_module_version": "1.2.0",
            "_model_module": "@jupyter-widgets/controls"
          }
        },
        "db8cb5ba241a40fa90a420232488bb8d": {
          "model_module": "@jupyter-widgets/base",
          "model_name": "LayoutModel",
          "state": {
            "_view_name": "LayoutView",
            "grid_template_rows": null,
            "right": null,
            "justify_content": null,
            "_view_module": "@jupyter-widgets/base",
            "overflow": null,
            "_model_module_version": "1.2.0",
            "_view_count": null,
            "flex_flow": null,
            "width": null,
            "min_width": null,
            "border": null,
            "align_items": null,
            "bottom": null,
            "_model_module": "@jupyter-widgets/base",
            "top": null,
            "grid_column": null,
            "overflow_y": null,
            "overflow_x": null,
            "grid_auto_flow": null,
            "grid_area": null,
            "grid_template_columns": null,
            "flex": null,
            "_model_name": "LayoutModel",
            "justify_items": null,
            "grid_row": null,
            "max_height": null,
            "align_content": null,
            "visibility": null,
            "align_self": null,
            "height": null,
            "min_height": null,
            "padding": null,
            "grid_auto_rows": null,
            "grid_gap": null,
            "max_width": null,
            "order": null,
            "_view_module_version": "1.2.0",
            "grid_template_areas": null,
            "object_position": null,
            "object_fit": null,
            "grid_auto_columns": null,
            "margin": null,
            "display": null,
            "left": null
          }
        },
        "c07ea46f96634824a3c01aab2f129996": {
          "model_module": "@jupyter-widgets/controls",
          "model_name": "HBoxModel",
          "state": {
            "_view_name": "HBoxView",
            "_dom_classes": [],
            "_model_name": "HBoxModel",
            "_view_module": "@jupyter-widgets/controls",
            "_model_module_version": "1.5.0",
            "_view_count": null,
            "_view_module_version": "1.5.0",
            "box_style": "",
            "layout": "IPY_MODEL_053c605ff84a4e7cabeda10ec7e90be6",
            "_model_module": "@jupyter-widgets/controls",
            "children": [
              "IPY_MODEL_773d8d43ec7d40f38c7ec60e139cade0",
              "IPY_MODEL_13a1d99f173b40fda1a2f456d99a2c86"
            ]
          }
        },
        "053c605ff84a4e7cabeda10ec7e90be6": {
          "model_module": "@jupyter-widgets/base",
          "model_name": "LayoutModel",
          "state": {
            "_view_name": "LayoutView",
            "grid_template_rows": null,
            "right": null,
            "justify_content": null,
            "_view_module": "@jupyter-widgets/base",
            "overflow": null,
            "_model_module_version": "1.2.0",
            "_view_count": null,
            "flex_flow": null,
            "width": null,
            "min_width": null,
            "border": null,
            "align_items": null,
            "bottom": null,
            "_model_module": "@jupyter-widgets/base",
            "top": null,
            "grid_column": null,
            "overflow_y": null,
            "overflow_x": null,
            "grid_auto_flow": null,
            "grid_area": null,
            "grid_template_columns": null,
            "flex": null,
            "_model_name": "LayoutModel",
            "justify_items": null,
            "grid_row": null,
            "max_height": null,
            "align_content": null,
            "visibility": null,
            "align_self": null,
            "height": null,
            "min_height": null,
            "padding": null,
            "grid_auto_rows": null,
            "grid_gap": null,
            "max_width": null,
            "order": null,
            "_view_module_version": "1.2.0",
            "grid_template_areas": null,
            "object_position": null,
            "object_fit": null,
            "grid_auto_columns": null,
            "margin": null,
            "display": null,
            "left": null
          }
        },
        "773d8d43ec7d40f38c7ec60e139cade0": {
          "model_module": "@jupyter-widgets/controls",
          "model_name": "FloatProgressModel",
          "state": {
            "_view_name": "ProgressView",
            "style": "IPY_MODEL_895808ead2a4441fa228f9719efcd459",
            "_dom_classes": [],
            "description": "Evaluating: 100%",
            "_model_name": "FloatProgressModel",
            "bar_style": "success",
            "max": 47,
            "_view_module": "@jupyter-widgets/controls",
            "_model_module_version": "1.5.0",
            "value": 47,
            "_view_count": null,
            "_view_module_version": "1.5.0",
            "orientation": "horizontal",
            "min": 0,
            "description_tooltip": null,
            "_model_module": "@jupyter-widgets/controls",
            "layout": "IPY_MODEL_7e516424bdb04d3b81fc8b8c61360c86"
          }
        },
        "13a1d99f173b40fda1a2f456d99a2c86": {
          "model_module": "@jupyter-widgets/controls",
          "model_name": "HTMLModel",
          "state": {
            "_view_name": "HTMLView",
            "style": "IPY_MODEL_2a966de8e7864e59bf450db0ad2cf3d9",
            "_dom_classes": [],
            "description": "",
            "_model_name": "HTMLModel",
            "placeholder": "​",
            "_view_module": "@jupyter-widgets/controls",
            "_model_module_version": "1.5.0",
            "value": " 47/47 [00:13&lt;00:00,  3.57it/s]",
            "_view_count": null,
            "_view_module_version": "1.5.0",
            "description_tooltip": null,
            "_model_module": "@jupyter-widgets/controls",
            "layout": "IPY_MODEL_82f2f0995c124ea9b8fc84b7c5b54c62"
          }
        },
        "895808ead2a4441fa228f9719efcd459": {
          "model_module": "@jupyter-widgets/controls",
          "model_name": "ProgressStyleModel",
          "state": {
            "_view_name": "StyleView",
            "_model_name": "ProgressStyleModel",
            "description_width": "initial",
            "_view_module": "@jupyter-widgets/base",
            "_model_module_version": "1.5.0",
            "_view_count": null,
            "_view_module_version": "1.2.0",
            "bar_color": null,
            "_model_module": "@jupyter-widgets/controls"
          }
        },
        "7e516424bdb04d3b81fc8b8c61360c86": {
          "model_module": "@jupyter-widgets/base",
          "model_name": "LayoutModel",
          "state": {
            "_view_name": "LayoutView",
            "grid_template_rows": null,
            "right": null,
            "justify_content": null,
            "_view_module": "@jupyter-widgets/base",
            "overflow": null,
            "_model_module_version": "1.2.0",
            "_view_count": null,
            "flex_flow": null,
            "width": null,
            "min_width": null,
            "border": null,
            "align_items": null,
            "bottom": null,
            "_model_module": "@jupyter-widgets/base",
            "top": null,
            "grid_column": null,
            "overflow_y": null,
            "overflow_x": null,
            "grid_auto_flow": null,
            "grid_area": null,
            "grid_template_columns": null,
            "flex": null,
            "_model_name": "LayoutModel",
            "justify_items": null,
            "grid_row": null,
            "max_height": null,
            "align_content": null,
            "visibility": null,
            "align_self": null,
            "height": null,
            "min_height": null,
            "padding": null,
            "grid_auto_rows": null,
            "grid_gap": null,
            "max_width": null,
            "order": null,
            "_view_module_version": "1.2.0",
            "grid_template_areas": null,
            "object_position": null,
            "object_fit": null,
            "grid_auto_columns": null,
            "margin": null,
            "display": null,
            "left": null
          }
        },
        "2a966de8e7864e59bf450db0ad2cf3d9": {
          "model_module": "@jupyter-widgets/controls",
          "model_name": "DescriptionStyleModel",
          "state": {
            "_view_name": "StyleView",
            "_model_name": "DescriptionStyleModel",
            "description_width": "",
            "_view_module": "@jupyter-widgets/base",
            "_model_module_version": "1.5.0",
            "_view_count": null,
            "_view_module_version": "1.2.0",
            "_model_module": "@jupyter-widgets/controls"
          }
        },
        "82f2f0995c124ea9b8fc84b7c5b54c62": {
          "model_module": "@jupyter-widgets/base",
          "model_name": "LayoutModel",
          "state": {
            "_view_name": "LayoutView",
            "grid_template_rows": null,
            "right": null,
            "justify_content": null,
            "_view_module": "@jupyter-widgets/base",
            "overflow": null,
            "_model_module_version": "1.2.0",
            "_view_count": null,
            "flex_flow": null,
            "width": null,
            "min_width": null,
            "border": null,
            "align_items": null,
            "bottom": null,
            "_model_module": "@jupyter-widgets/base",
            "top": null,
            "grid_column": null,
            "overflow_y": null,
            "overflow_x": null,
            "grid_auto_flow": null,
            "grid_area": null,
            "grid_template_columns": null,
            "flex": null,
            "_model_name": "LayoutModel",
            "justify_items": null,
            "grid_row": null,
            "max_height": null,
            "align_content": null,
            "visibility": null,
            "align_self": null,
            "height": null,
            "min_height": null,
            "padding": null,
            "grid_auto_rows": null,
            "grid_gap": null,
            "max_width": null,
            "order": null,
            "_view_module_version": "1.2.0",
            "grid_template_areas": null,
            "object_position": null,
            "object_fit": null,
            "grid_auto_columns": null,
            "margin": null,
            "display": null,
            "left": null
          }
        }
      }
    }
  },
  "cells": [
    {
      "cell_type": "markdown",
      "metadata": {
        "id": "ivXWKBrkp4sZ"
      },
      "source": [
        "# **Создайте своего собственного Рика Санчеса (бота) с помощью Transformers и тонкой настройки DialoGPT**"
      ]
    },
    {
      "cell_type": "markdown",
      "metadata": {
        "id": "CcEvirZjqbYQ"
      },
      "source": [
        "![alt text](https://media.giphy.com/media/ZdBnIqBeVWBYTobH8U/giphy.gif)\r\n"
      ]
    },
    {
      "cell_type": "markdown",
      "metadata": {
        "id": "Mh5Wc9-0qdIh"
      },
      "source": [
        "Путь к созданию виртуального Рика был непростым. Я перепробовал множество моделей и подходов, но виртуальный Рик долгое время не хотел находить со мной общий язык. Первым ответом Рика на мое приветствие было «Я не твой приятель» (честно говоря, вначале он знал только эту фразу). Но я не сдавался и с помощью превосходной библиотеки Transformers и крупномасштабной предварительно обученной модели генерации ответов Microsoft (DialoGPT) мне удалось поговорить с Риком по душам. Вот один из наших разговоров:\r\n",
        "**User**:Hey, Rick, make me a time machine <br>\r\n",
        "**RickBot**: You're a monster! <br>\r\n",
        "**User**:No, I just want to travel in time <br>\r\n",
        "**RickBot**: To the past. <br>\r\n",
        "**User**:yes <br>\r\n",
        "**RickBot**: No time machine, please. <br>\r\n",
        "**User**:But I need it <br>\r\n",
        "**RickBot**: You don't need it, Morty. Just do it. <br>\r\n",
        "**User**:I want to see antient Greece <br>\r\n",
        "**RickBot**: Oh, geez. <br>\r\n",
        "\r\n",
        "![alt text](https://media.giphy.com/media/WVGSfyhUYBoiGLbZ7N/giphy.gif)"
      ]
    },
    {
      "cell_type": "markdown",
      "metadata": {
        "id": "f7w0WZUIrBei"
      },
      "source": [
        "# **Немного теории**"
      ]
    },
    {
      "cell_type": "markdown",
      "metadata": {
        "id": "d-Bw7wz5rfKY"
      },
      "source": [
        "В этой работе я расскажу вам, как создать виртуального персонажа, чьи высказывания будут основаны на стенограмме моего любимого анимационного научно-фантастического ситкома. Вы можете использовать персонажей и ситкомы по своему выбору. Я добавил код для преобразования обычного текстового файла с диалогами в формат, понятный модели.\r\n",
        "Как я уже упоминал, в нашей задаче нам поможет библиотека [Transformers](https://huggingface.co/transformers/) , содержащая последние модели НЛП (такие как [BERT](https://huggingface.co/transformers/model_doc/bert.html), [XLNet](https://huggingface.co/transformers/model_doc/xlnet.html), [GPT-2](https://huggingface.co/transformers/model_doc/gpt2.html) ). Вы можете узнать больше о трансформерах в прекрасно иллюстрированной [статье](http://jalammar.github.io/illustrated-transformer/) Джея Аламмара\r\n",
        "\r\n",
        "![alt text](http://jalammar.github.io/images/t/transformer_resideual_layer_norm_3.png)\r\n",
        "\r\n",
        "В коллекции моделей Transformers есть Microsoft  [DialoGPT](https://huggingface.co/transformers/model_doc/dialogpt.html) . DialoGPT - это модель GPT-2, обученная на 147M многооборотных диалогах из ветки обсуждения Reddit (вы можете узнать больше о GPT-2 [здесь](http://jalammar.github.io/illustrated-gpt2/)). Эта модель идеально подходит для создания виртуального персонажа для увлекательной беседы и даже в небольшом варианте реализации может поддерживать связный диалог, который мы сейчас увидим."
      ]
    },
    {
      "cell_type": "markdown",
      "metadata": {
        "id": "IDbkYdyFuUHS"
      },
      "source": [
        "## Первый диалог с DialoGPT"
      ]
    },
    {
      "cell_type": "markdown",
      "metadata": {
        "id": "VmEgawUmusPI"
      },
      "source": [
        "Все эксперименты  будем проводить в Google Colab, его ресурсов хватит на обучение маленькой модели DialoGPT. Для начала подключимся к Google Drive и установим необходимые модули."
      ]
    },
    {
      "cell_type": "code",
      "metadata": {
        "colab": {
          "base_uri": "https://localhost:8080/"
        },
        "id": "U1aiwUb2uGF5",
        "outputId": "de105968-da30-453d-f01d-92ea01a22f42"
      },
      "source": [
        "from google.colab import drive\r\n",
        "drive.mount('/content/drive/')"
      ],
      "execution_count": 1,
      "outputs": [
        {
          "output_type": "stream",
          "text": [
            "Mounted at /content/drive/\n"
          ],
          "name": "stdout"
        }
      ]
    },
    {
      "cell_type": "markdown",
      "metadata": {
        "id": "RCvpdxG4u8zm"
      },
      "source": [
        "Установим Transformers"
      ]
    },
    {
      "cell_type": "code",
      "metadata": {
        "colab": {
          "base_uri": "https://localhost:8080/"
        },
        "id": "WPtdDXtRvIW8",
        "outputId": "83442891-54c1-4f8a-c62d-9a8dbff6a110"
      },
      "source": [
        "! pip install transformers==2.11.0"
      ],
      "execution_count": 2,
      "outputs": [
        {
          "output_type": "stream",
          "text": [
            "Collecting transformers==2.11.0\n",
            "\u001b[?25l  Downloading https://files.pythonhosted.org/packages/48/35/ad2c5b1b8f99feaaf9d7cdadaeef261f098c6e1a6a2935d4d07662a6b780/transformers-2.11.0-py3-none-any.whl (674kB)\n",
            "\r\u001b[K     |▌                               | 10kB 21.1MB/s eta 0:00:01\r\u001b[K     |█                               | 20kB 28.6MB/s eta 0:00:01\r\u001b[K     |█▌                              | 30kB 25.8MB/s eta 0:00:01\r\u001b[K     |██                              | 40kB 22.9MB/s eta 0:00:01\r\u001b[K     |██▍                             | 51kB 24.3MB/s eta 0:00:01\r\u001b[K     |███                             | 61kB 17.1MB/s eta 0:00:01\r\u001b[K     |███▍                            | 71kB 17.9MB/s eta 0:00:01\r\u001b[K     |███▉                            | 81kB 18.5MB/s eta 0:00:01\r\u001b[K     |████▍                           | 92kB 16.5MB/s eta 0:00:01\r\u001b[K     |████▉                           | 102kB 17.7MB/s eta 0:00:01\r\u001b[K     |█████▍                          | 112kB 17.7MB/s eta 0:00:01\r\u001b[K     |█████▉                          | 122kB 17.7MB/s eta 0:00:01\r\u001b[K     |██████▎                         | 133kB 17.7MB/s eta 0:00:01\r\u001b[K     |██████▉                         | 143kB 17.7MB/s eta 0:00:01\r\u001b[K     |███████▎                        | 153kB 17.7MB/s eta 0:00:01\r\u001b[K     |███████▊                        | 163kB 17.7MB/s eta 0:00:01\r\u001b[K     |████████▎                       | 174kB 17.7MB/s eta 0:00:01\r\u001b[K     |████████▊                       | 184kB 17.7MB/s eta 0:00:01\r\u001b[K     |█████████▎                      | 194kB 17.7MB/s eta 0:00:01\r\u001b[K     |█████████▊                      | 204kB 17.7MB/s eta 0:00:01\r\u001b[K     |██████████▏                     | 215kB 17.7MB/s eta 0:00:01\r\u001b[K     |██████████▊                     | 225kB 17.7MB/s eta 0:00:01\r\u001b[K     |███████████▏                    | 235kB 17.7MB/s eta 0:00:01\r\u001b[K     |███████████▋                    | 245kB 17.7MB/s eta 0:00:01\r\u001b[K     |████████████▏                   | 256kB 17.7MB/s eta 0:00:01\r\u001b[K     |████████████▋                   | 266kB 17.7MB/s eta 0:00:01\r\u001b[K     |█████████████                   | 276kB 17.7MB/s eta 0:00:01\r\u001b[K     |█████████████▋                  | 286kB 17.7MB/s eta 0:00:01\r\u001b[K     |██████████████                  | 296kB 17.7MB/s eta 0:00:01\r\u001b[K     |██████████████▋                 | 307kB 17.7MB/s eta 0:00:01\r\u001b[K     |███████████████                 | 317kB 17.7MB/s eta 0:00:01\r\u001b[K     |███████████████▌                | 327kB 17.7MB/s eta 0:00:01\r\u001b[K     |████████████████                | 337kB 17.7MB/s eta 0:00:01\r\u001b[K     |████████████████▌               | 348kB 17.7MB/s eta 0:00:01\r\u001b[K     |█████████████████               | 358kB 17.7MB/s eta 0:00:01\r\u001b[K     |█████████████████▌              | 368kB 17.7MB/s eta 0:00:01\r\u001b[K     |██████████████████              | 378kB 17.7MB/s eta 0:00:01\r\u001b[K     |██████████████████▌             | 389kB 17.7MB/s eta 0:00:01\r\u001b[K     |███████████████████             | 399kB 17.7MB/s eta 0:00:01\r\u001b[K     |███████████████████▍            | 409kB 17.7MB/s eta 0:00:01\r\u001b[K     |████████████████████            | 419kB 17.7MB/s eta 0:00:01\r\u001b[K     |████████████████████▍           | 430kB 17.7MB/s eta 0:00:01\r\u001b[K     |████████████████████▉           | 440kB 17.7MB/s eta 0:00:01\r\u001b[K     |█████████████████████▍          | 450kB 17.7MB/s eta 0:00:01\r\u001b[K     |█████████████████████▉          | 460kB 17.7MB/s eta 0:00:01\r\u001b[K     |██████████████████████▍         | 471kB 17.7MB/s eta 0:00:01\r\u001b[K     |██████████████████████▉         | 481kB 17.7MB/s eta 0:00:01\r\u001b[K     |███████████████████████▎        | 491kB 17.7MB/s eta 0:00:01\r\u001b[K     |███████████████████████▉        | 501kB 17.7MB/s eta 0:00:01\r\u001b[K     |████████████████████████▎       | 512kB 17.7MB/s eta 0:00:01\r\u001b[K     |████████████████████████▊       | 522kB 17.7MB/s eta 0:00:01\r\u001b[K     |█████████████████████████▎      | 532kB 17.7MB/s eta 0:00:01\r\u001b[K     |█████████████████████████▊      | 542kB 17.7MB/s eta 0:00:01\r\u001b[K     |██████████████████████████▏     | 552kB 17.7MB/s eta 0:00:01\r\u001b[K     |██████████████████████████▊     | 563kB 17.7MB/s eta 0:00:01\r\u001b[K     |███████████████████████████▏    | 573kB 17.7MB/s eta 0:00:01\r\u001b[K     |███████████████████████████▊    | 583kB 17.7MB/s eta 0:00:01\r\u001b[K     |████████████████████████████▏   | 593kB 17.7MB/s eta 0:00:01\r\u001b[K     |████████████████████████████▋   | 604kB 17.7MB/s eta 0:00:01\r\u001b[K     |█████████████████████████████▏  | 614kB 17.7MB/s eta 0:00:01\r\u001b[K     |█████████████████████████████▋  | 624kB 17.7MB/s eta 0:00:01\r\u001b[K     |██████████████████████████████  | 634kB 17.7MB/s eta 0:00:01\r\u001b[K     |██████████████████████████████▋ | 645kB 17.7MB/s eta 0:00:01\r\u001b[K     |███████████████████████████████ | 655kB 17.7MB/s eta 0:00:01\r\u001b[K     |███████████████████████████████▋| 665kB 17.7MB/s eta 0:00:01\r\u001b[K     |████████████████████████████████| 675kB 17.7MB/s \n",
            "\u001b[?25hRequirement already satisfied: numpy in /usr/local/lib/python3.6/dist-packages (from transformers==2.11.0) (1.19.5)\n",
            "Requirement already satisfied: tqdm>=4.27 in /usr/local/lib/python3.6/dist-packages (from transformers==2.11.0) (4.41.1)\n",
            "Requirement already satisfied: regex!=2019.12.17 in /usr/local/lib/python3.6/dist-packages (from transformers==2.11.0) (2019.12.20)\n",
            "Requirement already satisfied: filelock in /usr/local/lib/python3.6/dist-packages (from transformers==2.11.0) (3.0.12)\n",
            "Requirement already satisfied: packaging in /usr/local/lib/python3.6/dist-packages (from transformers==2.11.0) (20.9)\n",
            "Requirement already satisfied: dataclasses; python_version < \"3.7\" in /usr/local/lib/python3.6/dist-packages (from transformers==2.11.0) (0.8)\n",
            "Collecting sentencepiece\n",
            "\u001b[?25l  Downloading https://files.pythonhosted.org/packages/14/67/e42bd1181472c95c8cda79305df848264f2a7f62740995a46945d9797b67/sentencepiece-0.1.95-cp36-cp36m-manylinux2014_x86_64.whl (1.2MB)\n",
            "\u001b[K     |████████████████████████████████| 1.2MB 56.6MB/s \n",
            "\u001b[?25hRequirement already satisfied: requests in /usr/local/lib/python3.6/dist-packages (from transformers==2.11.0) (2.23.0)\n",
            "Collecting tokenizers==0.7.0\n",
            "\u001b[?25l  Downloading https://files.pythonhosted.org/packages/14/e5/a26eb4716523808bb0a799fcfdceb6ebf77a18169d9591b2f46a9adb87d9/tokenizers-0.7.0-cp36-cp36m-manylinux1_x86_64.whl (3.8MB)\n",
            "\u001b[K     |████████████████████████████████| 3.8MB 36.1MB/s \n",
            "\u001b[?25hCollecting sacremoses\n",
            "\u001b[?25l  Downloading https://files.pythonhosted.org/packages/7d/34/09d19aff26edcc8eb2a01bed8e98f13a1537005d31e95233fd48216eed10/sacremoses-0.0.43.tar.gz (883kB)\n",
            "\u001b[K     |████████████████████████████████| 890kB 51.1MB/s \n",
            "\u001b[?25hRequirement already satisfied: pyparsing>=2.0.2 in /usr/local/lib/python3.6/dist-packages (from packaging->transformers==2.11.0) (2.4.7)\n",
            "Requirement already satisfied: idna<3,>=2.5 in /usr/local/lib/python3.6/dist-packages (from requests->transformers==2.11.0) (2.10)\n",
            "Requirement already satisfied: chardet<4,>=3.0.2 in /usr/local/lib/python3.6/dist-packages (from requests->transformers==2.11.0) (3.0.4)\n",
            "Requirement already satisfied: urllib3!=1.25.0,!=1.25.1,<1.26,>=1.21.1 in /usr/local/lib/python3.6/dist-packages (from requests->transformers==2.11.0) (1.24.3)\n",
            "Requirement already satisfied: certifi>=2017.4.17 in /usr/local/lib/python3.6/dist-packages (from requests->transformers==2.11.0) (2020.12.5)\n",
            "Requirement already satisfied: six in /usr/local/lib/python3.6/dist-packages (from sacremoses->transformers==2.11.0) (1.15.0)\n",
            "Requirement already satisfied: click in /usr/local/lib/python3.6/dist-packages (from sacremoses->transformers==2.11.0) (7.1.2)\n",
            "Requirement already satisfied: joblib in /usr/local/lib/python3.6/dist-packages (from sacremoses->transformers==2.11.0) (1.0.0)\n",
            "Building wheels for collected packages: sacremoses\n",
            "  Building wheel for sacremoses (setup.py) ... \u001b[?25l\u001b[?25hdone\n",
            "  Created wheel for sacremoses: filename=sacremoses-0.0.43-cp36-none-any.whl size=893261 sha256=35d35dc28f2568d0b6aa435f20ab0726f86464a96a7267376afb210bc7c830f0\n",
            "  Stored in directory: /root/.cache/pip/wheels/29/3c/fd/7ce5c3f0666dab31a50123635e6fb5e19ceb42ce38d4e58f45\n",
            "Successfully built sacremoses\n",
            "Installing collected packages: sentencepiece, tokenizers, sacremoses, transformers\n",
            "Successfully installed sacremoses-0.0.43 sentencepiece-0.1.95 tokenizers-0.7.0 transformers-2.11.0\n"
          ],
          "name": "stdout"
        }
      ]
    },
    {
      "cell_type": "markdown",
      "metadata": {
        "id": "dNQCz0-evQUt"
      },
      "source": [
        "Попробуйте пообщаться с DialoGPT без тонкой настройки."
      ]
    },
    {
      "cell_type": "code",
      "metadata": {
        "colab": {
          "base_uri": "https://localhost:8080/",
          "height": 213,
          "referenced_widgets": [
            "e5d6c9cff8274121a859e27026e2e3b4",
            "54424b013c0746fdbf669d4a0940ec07",
            "bead8bddbf3a4596a26254f9d163360f",
            "08c0f5147e6d471caadfd280edf60f1c",
            "46025b9daf264d9d9c9fad7ac82db6cb",
            "02cd9d5ce8a143bbacacb5bfb1e20514",
            "cfade2a62ea6429f89b55acd78f01ae1",
            "7a529769b72a401fa225663186e4e612",
            "1072ffe306f04d55a9476ce79ef5a6e2",
            "19cb0e956c9f4c1ebe2baaeb4d5f6a88",
            "6eced4d788464e5ea27aef3bfc9a72cd",
            "90204431baa2416f97d425dd92c9657a",
            "19373715d955452495443973106d4c93",
            "b2c752e63aeb4b9bbe2639f08a4cef2d",
            "6f8de65bdf614aa3af5aedde0e4c5e4e",
            "ab7e61716a794453b6c0aee48bebc754",
            "e8161a39bf4c42e692311db433d8b0ce",
            "4dc69b60f2ea488baf7a044607dd6404",
            "5ac31b4e1c7e4a1bb175f34eb02827b0",
            "8200faf3dd3b48c586d9e8c94993c1d0",
            "4827b7fa0f2d47028f3c2d905d3bb215",
            "830edc6a5d78449e8dbb721a2c7853bf",
            "86f784ef654643b2ae00ebebe0fa0585",
            "fa78d410fa9944178ef9ab842aca2cd9",
            "b627c35e163a4d0fae4b5e5dbc3e803e",
            "b62d13e426a5401c848056437dd2be79",
            "39b03af9c0634cea86599b20024fe205",
            "92ea6777d70f4ec08755e70ebfe00ef8",
            "793dc890272c44e7becb9c8ba1b52235",
            "fb03fb2c18964f3b906d880ef712dbc6",
            "66fa11bdd8c74d53886f11f2740561f5",
            "3e8d70c88f4d470cb41386a5e4e6a819"
          ]
        },
        "id": "wKNV2yyMvR2r",
        "outputId": "ae371bfe-94a6-4e2b-f448-918058b033b2"
      },
      "source": [
        "from transformers import AutoModelWithLMHead, AutoTokenizer\r\n",
        "import torch\r\n",
        "\r\n",
        "tokenizer = AutoTokenizer.from_pretrained(\"microsoft/DialoGPT-small\")\r\n",
        "model = AutoModelWithLMHead.from_pretrained(\"microsoft/DialoGPT-small\")"
      ],
      "execution_count": 3,
      "outputs": [
        {
          "output_type": "display_data",
          "data": {
            "application/vnd.jupyter.widget-view+json": {
              "model_id": "e5d6c9cff8274121a859e27026e2e3b4",
              "version_minor": 0,
              "version_major": 2
            },
            "text/plain": [
              "HBox(children=(FloatProgress(value=0.0, description='Downloading', max=641.0, style=ProgressStyle(description_…"
            ]
          },
          "metadata": {
            "tags": []
          }
        },
        {
          "output_type": "stream",
          "text": [
            "\n"
          ],
          "name": "stdout"
        },
        {
          "output_type": "display_data",
          "data": {
            "application/vnd.jupyter.widget-view+json": {
              "model_id": "1072ffe306f04d55a9476ce79ef5a6e2",
              "version_minor": 0,
              "version_major": 2
            },
            "text/plain": [
              "HBox(children=(FloatProgress(value=0.0, description='Downloading', max=1042301.0, style=ProgressStyle(descript…"
            ]
          },
          "metadata": {
            "tags": []
          }
        },
        {
          "output_type": "stream",
          "text": [
            "\n"
          ],
          "name": "stdout"
        },
        {
          "output_type": "display_data",
          "data": {
            "application/vnd.jupyter.widget-view+json": {
              "model_id": "e8161a39bf4c42e692311db433d8b0ce",
              "version_minor": 0,
              "version_major": 2
            },
            "text/plain": [
              "HBox(children=(FloatProgress(value=0.0, description='Downloading', max=456318.0, style=ProgressStyle(descripti…"
            ]
          },
          "metadata": {
            "tags": []
          }
        },
        {
          "output_type": "stream",
          "text": [
            "\n"
          ],
          "name": "stdout"
        },
        {
          "output_type": "display_data",
          "data": {
            "application/vnd.jupyter.widget-view+json": {
              "model_id": "b627c35e163a4d0fae4b5e5dbc3e803e",
              "version_minor": 0,
              "version_major": 2
            },
            "text/plain": [
              "HBox(children=(FloatProgress(value=0.0, description='Downloading', max=351265583.0, style=ProgressStyle(descri…"
            ]
          },
          "metadata": {
            "tags": []
          }
        },
        {
          "output_type": "stream",
          "text": [
            "\n"
          ],
          "name": "stdout"
        }
      ]
    },
    {
      "cell_type": "markdown",
      "metadata": {
        "id": "4YK2yCLHxFIf"
      },
      "source": [
        "### Давайте немного поговорим без тонкой настройки"
      ]
    },
    {
      "cell_type": "code",
      "metadata": {
        "colab": {
          "base_uri": "https://localhost:8080/"
        },
        "id": "fUBnuqyOzN6J",
        "outputId": "ec2ef154-2c7d-4ddb-8f70-92b4d3badafb"
      },
      "source": [
        "# пообщаемся например на 5 вопросов\r\n",
        "for step in range(5):\r\n",
        "    # encode ввода нового пользователя, добавляем eos_token и возвращаем tensor in Pytorch\r\n",
        "    new_user_input_ids = tokenizer.encode(input(\">> Black:\") + tokenizer.eos_token, return_tensors='pt')\r\n",
        "\r\n",
        "    # добавляем новые токены введенные пользователем в историю чата\r\n",
        "    bot_input_ids = torch.cat([chat_history_ids, new_user_input_ids], dim=-1) if step > 0 else new_user_input_ids\r\n",
        "\r\n",
        "    # генерируем ответ, ограничев в истории до 1000 tokens    \r\n",
        "    chat_history_ids = model.generate(\r\n",
        "    bot_input_ids, max_length=1000,\r\n",
        "    pad_token_id=tokenizer.eos_token_id\r\n",
        "    )\r\n",
        "\r\n",
        "    \r\n",
        "    print(\"Rick: {}\".format(tokenizer.decode(chat_history_ids[:, bot_input_ids.shape[-1]:][0], skip_special_tokens=True)))"
      ],
      "execution_count": 4,
      "outputs": [
        {
          "output_type": "stream",
          "text": [
            ">> Black:Hello Rick\n",
            "Rick: I'm not your buddy, friend.\n",
            ">> Black:what are you?\n",
            "Rick: I'm not your guy, buddy.\n",
            ">> Black:Hi\n",
            "Rick: Hi guy\n",
            ">> Black:hi how are you?\n",
            "Rick: Hi guy\n",
            ">> Black:Who is Morty?\n",
            "Rick: Hi guy\n"
          ],
          "name": "stdout"
        }
      ]
    },
    {
      "cell_type": "markdown",
      "metadata": {
        "id": "GB3nG_2K4QDv"
      },
      "source": [
        "![alt text](https://media.giphy.com/media/L3WevKXIKFDaZBvV8Q/giphy.gif)\r\n",
        "\r\n",
        "Неплохо, но не слишком впечатляюще. Исправим это с помощью тонкой настройки."
      ]
    },
    {
      "cell_type": "markdown",
      "metadata": {
        "id": "Bsd_MZzv4eol"
      },
      "source": [
        "## Начальная конфигурация модели"
      ]
    },
    {
      "cell_type": "markdown",
      "metadata": {
        "id": "CczfcCKE4rit"
      },
      "source": [
        "Давайте обучим нашего собственного чат-бота Рика. Для начала нам понадобится базовая конфигурация и набор данных. Сценарии настройки и обучения в основном основаны на этом скрипте от Huggingface и отличном [руководстве](https://nathancooper.io/i-am-a-nerd/chatbot/deep-learning/gpt2/2020/05/12/chatbot-part-1.html) от Натана Купера"
      ]
    },
    {
      "cell_type": "markdown",
      "metadata": {
        "id": "foTUNttQ6DyU"
      },
      "source": [
        "Тонкая настройка библиотечных моделей для языкового моделирования в текстовом файле (GPT, GPT-2, BERT, RoBERTa).\r\n",
        "GPT и GPT-2 настраиваются с использованием причинно-следственного моделирования (CLM), в то время как BERT и RoBERTa настраиваются.\r\n",
        "с использованием потерь при моделировании замаскированного языка (MLM)."
      ]
    },
    {
      "cell_type": "code",
      "metadata": {
        "id": "6BZjdyV34lTb"
      },
      "source": [
        "import glob\r\n",
        "import logging\r\n",
        "import os\r\n",
        "import pickle\r\n",
        "import random\r\n",
        "import re\r\n",
        "import shutil\r\n",
        "from typing import Dict, List, Tuple\r\n",
        "\r\n",
        "import pandas as pd\r\n",
        "import numpy as np\r\n",
        "import torch\r\n",
        "\r\n",
        "from sklearn.model_selection import train_test_split\r\n",
        "\r\n",
        "from torch.nn.utils.rnn import pad_sequence\r\n",
        "from torch.utils.data import DataLoader, Dataset, RandomSampler, SequentialSampler\r\n",
        "from torch.utils.data.distributed import DistributedSampler\r\n",
        "from tqdm.notebook import tqdm, trange\r\n",
        "\r\n",
        "from pathlib import Path\r\n",
        "\r\n",
        "from transformers import (\r\n",
        "    MODEL_WITH_LM_HEAD_MAPPING,\r\n",
        "    WEIGHTS_NAME,\r\n",
        "    AdamW,\r\n",
        "    AutoConfig,\r\n",
        "    AutoModelWithLMHead,\r\n",
        "    AutoTokenizer,\r\n",
        "    PreTrainedModel,\r\n",
        "    PreTrainedTokenizer,\r\n",
        "    get_linear_schedule_with_warmup,\r\n",
        ")\r\n",
        "\r\n",
        "\r\n",
        "try:\r\n",
        "    from torch.utils.tensorboard import SummaryWriter\r\n",
        "except ImportError:\r\n",
        "    from tensorboardX import SummaryWriter\r\n"
      ],
      "execution_count": 4,
      "outputs": []
    },
    {
      "cell_type": "markdown",
      "metadata": {
        "id": "-P7xztlW51Ek"
      },
      "source": [
        "конфигурация"
      ]
    },
    {
      "cell_type": "code",
      "metadata": {
        "id": "mJripkNo54P1"
      },
      "source": [
        "logger = logging.getLogger(__name__)\r\n",
        "\r\n",
        "MODEL_CONFIG_CLASSES = list(MODEL_WITH_LM_HEAD_MAPPING.keys())\r\n",
        "MODEL_TYPES = tuple(conf.model_type for conf in MODEL_CONFIG_CLASSES)"
      ],
      "execution_count": 5,
      "outputs": []
    },
    {
      "cell_type": "markdown",
      "metadata": {
        "id": "UvX8twxA6ijQ"
      },
      "source": [
        "Аргументы позволяющие легко преобразовать скрипт  Python в блокнот"
      ]
    },
    {
      "cell_type": "code",
      "metadata": {
        "id": "TggRQI-o8pnN"
      },
      "source": [
        "class Args():\r\n",
        "    def __init__(self):\r\n",
        "        self.output_dir = 'output-small'\r\n",
        "        self.model_type = 'gpt2'\r\n",
        "        self.model_name_or_path = 'microsoft/DialoGPT-small'\r\n",
        "        self.config_name = 'microsoft/DialoGPT-small'\r\n",
        "        self.tokenizer_name = 'microsoft/DialoGPT-small'\r\n",
        "        self.cache_dir = 'cached'\r\n",
        "        self.block_size = 512\r\n",
        "        self.do_train = True\r\n",
        "        self.do_eval = True\r\n",
        "        self.evaluate_during_training = False\r\n",
        "        self.per_gpu_train_batch_size = 4\r\n",
        "        self.per_gpu_eval_batch_size = 4\r\n",
        "        self.gradient_accumulation_steps = 1\r\n",
        "        self.learning_rate = 5e-5\r\n",
        "        self.weight_decay = 0.0\r\n",
        "        self.adam_epsilon = 1e-8\r\n",
        "        self.max_grad_norm = 1.0\r\n",
        "        self.num_train_epochs = 3\r\n",
        "        self.max_steps = -1\r\n",
        "        self.warmup_steps = 0\r\n",
        "        self.logging_steps = 1000\r\n",
        "        self.save_steps = 3500\r\n",
        "        self.save_total_limit = None\r\n",
        "        self.eval_all_checkpoints = False\r\n",
        "        self.no_cuda = False\r\n",
        "        self.overwrite_output_dir = True\r\n",
        "        self.overwrite_cache = True\r\n",
        "        self.should_continue = False\r\n",
        "        self.seed = 42\r\n",
        "        self.local_rank = -1\r\n",
        "        self.fp16 = False\r\n",
        "        self.fp16_opt_level = 'O1'\r\n",
        "\r\n",
        "args = Args()"
      ],
      "execution_count": 6,
      "outputs": []
    },
    {
      "cell_type": "markdown",
      "metadata": {
        "id": "EMXJdxzX81Ax"
      },
      "source": [
        "## Предобработка данных"
      ]
    },
    {
      "cell_type": "markdown",
      "metadata": {
        "id": "8tw7uur48405"
      },
      "source": [
        "Наш набор данных диалогов будет основан на наборе данных, который использовался в статье Андрады Олтяну об анализе настроений Рика и Морти. Большое спасибо ее работе, а также Габриэлю Эрнандесу, автору оригинального текстового набора данных !\r\n",
        "\r\n",
        "![alt text](https://media.giphy.com/media/U6LOakQja88ImTnE6T/giphy.gif)"
      ]
    },
    {
      "cell_type": "markdown",
      "metadata": {
        "id": "_ptcGLbd-WmI"
      },
      "source": [
        "Загрузим данные"
      ]
    },
    {
      "cell_type": "code",
      "metadata": {
        "colab": {
          "resources": {
            "http://localhost:8080/nbextensions/google.colab/files.js": {
              "data": "Ly8gQ29weXJpZ2h0IDIwMTcgR29vZ2xlIExMQwovLwovLyBMaWNlbnNlZCB1bmRlciB0aGUgQXBhY2hlIExpY2Vuc2UsIFZlcnNpb24gMi4wICh0aGUgIkxpY2Vuc2UiKTsKLy8geW91IG1heSBub3QgdXNlIHRoaXMgZmlsZSBleGNlcHQgaW4gY29tcGxpYW5jZSB3aXRoIHRoZSBMaWNlbnNlLgovLyBZb3UgbWF5IG9idGFpbiBhIGNvcHkgb2YgdGhlIExpY2Vuc2UgYXQKLy8KLy8gICAgICBodHRwOi8vd3d3LmFwYWNoZS5vcmcvbGljZW5zZXMvTElDRU5TRS0yLjAKLy8KLy8gVW5sZXNzIHJlcXVpcmVkIGJ5IGFwcGxpY2FibGUgbGF3IG9yIGFncmVlZCB0byBpbiB3cml0aW5nLCBzb2Z0d2FyZQovLyBkaXN0cmlidXRlZCB1bmRlciB0aGUgTGljZW5zZSBpcyBkaXN0cmlidXRlZCBvbiBhbiAiQVMgSVMiIEJBU0lTLAovLyBXSVRIT1VUIFdBUlJBTlRJRVMgT1IgQ09ORElUSU9OUyBPRiBBTlkgS0lORCwgZWl0aGVyIGV4cHJlc3Mgb3IgaW1wbGllZC4KLy8gU2VlIHRoZSBMaWNlbnNlIGZvciB0aGUgc3BlY2lmaWMgbGFuZ3VhZ2UgZ292ZXJuaW5nIHBlcm1pc3Npb25zIGFuZAovLyBsaW1pdGF0aW9ucyB1bmRlciB0aGUgTGljZW5zZS4KCi8qKgogKiBAZmlsZW92ZXJ2aWV3IEhlbHBlcnMgZm9yIGdvb2dsZS5jb2xhYiBQeXRob24gbW9kdWxlLgogKi8KKGZ1bmN0aW9uKHNjb3BlKSB7CmZ1bmN0aW9uIHNwYW4odGV4dCwgc3R5bGVBdHRyaWJ1dGVzID0ge30pIHsKICBjb25zdCBlbGVtZW50ID0gZG9jdW1lbnQuY3JlYXRlRWxlbWVudCgnc3BhbicpOwogIGVsZW1lbnQudGV4dENvbnRlbnQgPSB0ZXh0OwogIGZvciAoY29uc3Qga2V5IG9mIE9iamVjdC5rZXlzKHN0eWxlQXR0cmlidXRlcykpIHsKICAgIGVsZW1lbnQuc3R5bGVba2V5XSA9IHN0eWxlQXR0cmlidXRlc1trZXldOwogIH0KICByZXR1cm4gZWxlbWVudDsKfQoKLy8gTWF4IG51bWJlciBvZiBieXRlcyB3aGljaCB3aWxsIGJlIHVwbG9hZGVkIGF0IGEgdGltZS4KY29uc3QgTUFYX1BBWUxPQURfU0laRSA9IDEwMCAqIDEwMjQ7CgpmdW5jdGlvbiBfdXBsb2FkRmlsZXMoaW5wdXRJZCwgb3V0cHV0SWQpIHsKICBjb25zdCBzdGVwcyA9IHVwbG9hZEZpbGVzU3RlcChpbnB1dElkLCBvdXRwdXRJZCk7CiAgY29uc3Qgb3V0cHV0RWxlbWVudCA9IGRvY3VtZW50LmdldEVsZW1lbnRCeUlkKG91dHB1dElkKTsKICAvLyBDYWNoZSBzdGVwcyBvbiB0aGUgb3V0cHV0RWxlbWVudCB0byBtYWtlIGl0IGF2YWlsYWJsZSBmb3IgdGhlIG5leHQgY2FsbAogIC8vIHRvIHVwbG9hZEZpbGVzQ29udGludWUgZnJvbSBQeXRob24uCiAgb3V0cHV0RWxlbWVudC5zdGVwcyA9IHN0ZXBzOwoKICByZXR1cm4gX3VwbG9hZEZpbGVzQ29udGludWUob3V0cHV0SWQpOwp9CgovLyBUaGlzIGlzIHJvdWdobHkgYW4gYXN5bmMgZ2VuZXJhdG9yIChub3Qgc3VwcG9ydGVkIGluIHRoZSBicm93c2VyIHlldCksCi8vIHdoZXJlIHRoZXJlIGFyZSBtdWx0aXBsZSBhc3luY2hyb25vdXMgc3RlcHMgYW5kIHRoZSBQeXRob24gc2lkZSBpcyBnb2luZwovLyB0byBwb2xsIGZvciBjb21wbGV0aW9uIG9mIGVhY2ggc3RlcC4KLy8gVGhpcyB1c2VzIGEgUHJvbWlzZSB0byBibG9jayB0aGUgcHl0aG9uIHNpZGUgb24gY29tcGxldGlvbiBvZiBlYWNoIHN0ZXAsCi8vIHRoZW4gcGFzc2VzIHRoZSByZXN1bHQgb2YgdGhlIHByZXZpb3VzIHN0ZXAgYXMgdGhlIGlucHV0IHRvIHRoZSBuZXh0IHN0ZXAuCmZ1bmN0aW9uIF91cGxvYWRGaWxlc0NvbnRpbnVlKG91dHB1dElkKSB7CiAgY29uc3Qgb3V0cHV0RWxlbWVudCA9IGRvY3VtZW50LmdldEVsZW1lbnRCeUlkKG91dHB1dElkKTsKICBjb25zdCBzdGVwcyA9IG91dHB1dEVsZW1lbnQuc3RlcHM7CgogIGNvbnN0IG5leHQgPSBzdGVwcy5uZXh0KG91dHB1dEVsZW1lbnQubGFzdFByb21pc2VWYWx1ZSk7CiAgcmV0dXJuIFByb21pc2UucmVzb2x2ZShuZXh0LnZhbHVlLnByb21pc2UpLnRoZW4oKHZhbHVlKSA9PiB7CiAgICAvLyBDYWNoZSB0aGUgbGFzdCBwcm9taXNlIHZhbHVlIHRvIG1ha2UgaXQgYXZhaWxhYmxlIHRvIHRoZSBuZXh0CiAgICAvLyBzdGVwIG9mIHRoZSBnZW5lcmF0b3IuCiAgICBvdXRwdXRFbGVtZW50Lmxhc3RQcm9taXNlVmFsdWUgPSB2YWx1ZTsKICAgIHJldHVybiBuZXh0LnZhbHVlLnJlc3BvbnNlOwogIH0pOwp9CgovKioKICogR2VuZXJhdG9yIGZ1bmN0aW9uIHdoaWNoIGlzIGNhbGxlZCBiZXR3ZWVuIGVhY2ggYXN5bmMgc3RlcCBvZiB0aGUgdXBsb2FkCiAqIHByb2Nlc3MuCiAqIEBwYXJhbSB7c3RyaW5nfSBpbnB1dElkIEVsZW1lbnQgSUQgb2YgdGhlIGlucHV0IGZpbGUgcGlja2VyIGVsZW1lbnQuCiAqIEBwYXJhbSB7c3RyaW5nfSBvdXRwdXRJZCBFbGVtZW50IElEIG9mIHRoZSBvdXRwdXQgZGlzcGxheS4KICogQHJldHVybiB7IUl0ZXJhYmxlPCFPYmplY3Q+fSBJdGVyYWJsZSBvZiBuZXh0IHN0ZXBzLgogKi8KZnVuY3Rpb24qIHVwbG9hZEZpbGVzU3RlcChpbnB1dElkLCBvdXRwdXRJZCkgewogIGNvbnN0IGlucHV0RWxlbWVudCA9IGRvY3VtZW50LmdldEVsZW1lbnRCeUlkKGlucHV0SWQpOwogIGlucHV0RWxlbWVudC5kaXNhYmxlZCA9IGZhbHNlOwoKICBjb25zdCBvdXRwdXRFbGVtZW50ID0gZG9jdW1lbnQuZ2V0RWxlbWVudEJ5SWQob3V0cHV0SWQpOwogIG91dHB1dEVsZW1lbnQuaW5uZXJIVE1MID0gJyc7CgogIGNvbnN0IHBpY2tlZFByb21pc2UgPSBuZXcgUHJvbWlzZSgocmVzb2x2ZSkgPT4gewogICAgaW5wdXRFbGVtZW50LmFkZEV2ZW50TGlzdGVuZXIoJ2NoYW5nZScsIChlKSA9PiB7CiAgICAgIHJlc29sdmUoZS50YXJnZXQuZmlsZXMpOwogICAgfSk7CiAgfSk7CgogIGNvbnN0IGNhbmNlbCA9IGRvY3VtZW50LmNyZWF0ZUVsZW1lbnQoJ2J1dHRvbicpOwogIGlucHV0RWxlbWVudC5wYXJlbnRFbGVtZW50LmFwcGVuZENoaWxkKGNhbmNlbCk7CiAgY2FuY2VsLnRleHRDb250ZW50ID0gJ0NhbmNlbCB1cGxvYWQnOwogIGNvbnN0IGNhbmNlbFByb21pc2UgPSBuZXcgUHJvbWlzZSgocmVzb2x2ZSkgPT4gewogICAgY2FuY2VsLm9uY2xpY2sgPSAoKSA9PiB7CiAgICAgIHJlc29sdmUobnVsbCk7CiAgICB9OwogIH0pOwoKICAvLyBXYWl0IGZvciB0aGUgdXNlciB0byBwaWNrIHRoZSBmaWxlcy4KICBjb25zdCBmaWxlcyA9IHlpZWxkIHsKICAgIHByb21pc2U6IFByb21pc2UucmFjZShbcGlja2VkUHJvbWlzZSwgY2FuY2VsUHJvbWlzZV0pLAogICAgcmVzcG9uc2U6IHsKICAgICAgYWN0aW9uOiAnc3RhcnRpbmcnLAogICAgfQogIH07CgogIGNhbmNlbC5yZW1vdmUoKTsKCiAgLy8gRGlzYWJsZSB0aGUgaW5wdXQgZWxlbWVudCBzaW5jZSBmdXJ0aGVyIHBpY2tzIGFyZSBub3QgYWxsb3dlZC4KICBpbnB1dEVsZW1lbnQuZGlzYWJsZWQgPSB0cnVlOwoKICBpZiAoIWZpbGVzKSB7CiAgICByZXR1cm4gewogICAgICByZXNwb25zZTogewogICAgICAgIGFjdGlvbjogJ2NvbXBsZXRlJywKICAgICAgfQogICAgfTsKICB9CgogIGZvciAoY29uc3QgZmlsZSBvZiBmaWxlcykgewogICAgY29uc3QgbGkgPSBkb2N1bWVudC5jcmVhdGVFbGVtZW50KCdsaScpOwogICAgbGkuYXBwZW5kKHNwYW4oZmlsZS5uYW1lLCB7Zm9udFdlaWdodDogJ2JvbGQnfSkpOwogICAgbGkuYXBwZW5kKHNwYW4oCiAgICAgICAgYCgke2ZpbGUudHlwZSB8fCAnbi9hJ30pIC0gJHtmaWxlLnNpemV9IGJ5dGVzLCBgICsKICAgICAgICBgbGFzdCBtb2RpZmllZDogJHsKICAgICAgICAgICAgZmlsZS5sYXN0TW9kaWZpZWREYXRlID8gZmlsZS5sYXN0TW9kaWZpZWREYXRlLnRvTG9jYWxlRGF0ZVN0cmluZygpIDoKICAgICAgICAgICAgICAgICAgICAgICAgICAgICAgICAgICAgJ24vYSd9IC0gYCkpOwogICAgY29uc3QgcGVyY2VudCA9IHNwYW4oJzAlIGRvbmUnKTsKICAgIGxpLmFwcGVuZENoaWxkKHBlcmNlbnQpOwoKICAgIG91dHB1dEVsZW1lbnQuYXBwZW5kQ2hpbGQobGkpOwoKICAgIGNvbnN0IGZpbGVEYXRhUHJvbWlzZSA9IG5ldyBQcm9taXNlKChyZXNvbHZlKSA9PiB7CiAgICAgIGNvbnN0IHJlYWRlciA9IG5ldyBGaWxlUmVhZGVyKCk7CiAgICAgIHJlYWRlci5vbmxvYWQgPSAoZSkgPT4gewogICAgICAgIHJlc29sdmUoZS50YXJnZXQucmVzdWx0KTsKICAgICAgfTsKICAgICAgcmVhZGVyLnJlYWRBc0FycmF5QnVmZmVyKGZpbGUpOwogICAgfSk7CiAgICAvLyBXYWl0IGZvciB0aGUgZGF0YSB0byBiZSByZWFkeS4KICAgIGxldCBmaWxlRGF0YSA9IHlpZWxkIHsKICAgICAgcHJvbWlzZTogZmlsZURhdGFQcm9taXNlLAogICAgICByZXNwb25zZTogewogICAgICAgIGFjdGlvbjogJ2NvbnRpbnVlJywKICAgICAgfQogICAgfTsKCiAgICAvLyBVc2UgYSBjaHVua2VkIHNlbmRpbmcgdG8gYXZvaWQgbWVzc2FnZSBzaXplIGxpbWl0cy4gU2VlIGIvNjIxMTU2NjAuCiAgICBsZXQgcG9zaXRpb24gPSAwOwogICAgd2hpbGUgKHBvc2l0aW9uIDwgZmlsZURhdGEuYnl0ZUxlbmd0aCkgewogICAgICBjb25zdCBsZW5ndGggPSBNYXRoLm1pbihmaWxlRGF0YS5ieXRlTGVuZ3RoIC0gcG9zaXRpb24sIE1BWF9QQVlMT0FEX1NJWkUpOwogICAgICBjb25zdCBjaHVuayA9IG5ldyBVaW50OEFycmF5KGZpbGVEYXRhLCBwb3NpdGlvbiwgbGVuZ3RoKTsKICAgICAgcG9zaXRpb24gKz0gbGVuZ3RoOwoKICAgICAgY29uc3QgYmFzZTY0ID0gYnRvYShTdHJpbmcuZnJvbUNoYXJDb2RlLmFwcGx5KG51bGwsIGNodW5rKSk7CiAgICAgIHlpZWxkIHsKICAgICAgICByZXNwb25zZTogewogICAgICAgICAgYWN0aW9uOiAnYXBwZW5kJywKICAgICAgICAgIGZpbGU6IGZpbGUubmFtZSwKICAgICAgICAgIGRhdGE6IGJhc2U2NCwKICAgICAgICB9LAogICAgICB9OwogICAgICBwZXJjZW50LnRleHRDb250ZW50ID0KICAgICAgICAgIGAke01hdGgucm91bmQoKHBvc2l0aW9uIC8gZmlsZURhdGEuYnl0ZUxlbmd0aCkgKiAxMDApfSUgZG9uZWA7CiAgICB9CiAgfQoKICAvLyBBbGwgZG9uZS4KICB5aWVsZCB7CiAgICByZXNwb25zZTogewogICAgICBhY3Rpb246ICdjb21wbGV0ZScsCiAgICB9CiAgfTsKfQoKc2NvcGUuZ29vZ2xlID0gc2NvcGUuZ29vZ2xlIHx8IHt9OwpzY29wZS5nb29nbGUuY29sYWIgPSBzY29wZS5nb29nbGUuY29sYWIgfHwge307CnNjb3BlLmdvb2dsZS5jb2xhYi5fZmlsZXMgPSB7CiAgX3VwbG9hZEZpbGVzLAogIF91cGxvYWRGaWxlc0NvbnRpbnVlLAp9Owp9KShzZWxmKTsK",
              "ok": true,
              "headers": [
                [
                  "content-type",
                  "application/javascript"
                ]
              ],
              "status": 200,
              "status_text": ""
            }
          },
          "base_uri": "https://localhost:8080/",
          "height": 72
        },
        "id": "bIRAt0uz-Zzz",
        "outputId": "bcbd35ca-51fb-4096-e80f-ece4161c4111"
      },
      "source": [
        "from google.colab import files\r\n",
        "file = files.upload()"
      ],
      "execution_count": 7,
      "outputs": [
        {
          "output_type": "display_data",
          "data": {
            "text/html": [
              "\n",
              "     <input type=\"file\" id=\"files-0f55cd72-3356-461e-a7ff-3631b91ef1ac\" name=\"files[]\" multiple disabled\n",
              "        style=\"border:none\" />\n",
              "     <output id=\"result-0f55cd72-3356-461e-a7ff-3631b91ef1ac\">\n",
              "      Upload widget is only available when the cell has been executed in the\n",
              "      current browser session. Please rerun this cell to enable.\n",
              "      </output>\n",
              "      <script src=\"/nbextensions/google.colab/files.js\"></script> "
            ],
            "text/plain": [
              "<IPython.core.display.HTML object>"
            ]
          },
          "metadata": {
            "tags": []
          }
        },
        {
          "output_type": "stream",
          "text": [
            "Saving RickAndMortyScripts.csv to RickAndMortyScripts.csv\n"
          ],
          "name": "stdout"
        }
      ]
    },
    {
      "cell_type": "markdown",
      "metadata": {
        "id": "YL2LgbUT-O42"
      },
      "source": [
        "Посмотрим на данные"
      ]
    },
    {
      "cell_type": "code",
      "metadata": {
        "colab": {
          "base_uri": "https://localhost:8080/",
          "height": 359
        },
        "id": "yTOzGnla-Rii",
        "outputId": "a5f8ea88-0d11-4d91-9da9-796b9e3c7639"
      },
      "source": [
        "all_rick = pd.read_csv('RickAndMortyScripts.csv')\r\n",
        "all_rick.head(10)"
      ],
      "execution_count": 8,
      "outputs": [
        {
          "output_type": "execute_result",
          "data": {
            "text/html": [
              "<div>\n",
              "<style scoped>\n",
              "    .dataframe tbody tr th:only-of-type {\n",
              "        vertical-align: middle;\n",
              "    }\n",
              "\n",
              "    .dataframe tbody tr th {\n",
              "        vertical-align: top;\n",
              "    }\n",
              "\n",
              "    .dataframe thead th {\n",
              "        text-align: right;\n",
              "    }\n",
              "</style>\n",
              "<table border=\"1\" class=\"dataframe\">\n",
              "  <thead>\n",
              "    <tr style=\"text-align: right;\">\n",
              "      <th></th>\n",
              "      <th>index</th>\n",
              "      <th>season no.</th>\n",
              "      <th>episode no.</th>\n",
              "      <th>episode name</th>\n",
              "      <th>name</th>\n",
              "      <th>line</th>\n",
              "    </tr>\n",
              "  </thead>\n",
              "  <tbody>\n",
              "    <tr>\n",
              "      <th>0</th>\n",
              "      <td>0</td>\n",
              "      <td>1</td>\n",
              "      <td>1</td>\n",
              "      <td>Pilot</td>\n",
              "      <td>Rick</td>\n",
              "      <td>Morty! You gotta come on. Jus'... you gotta co...</td>\n",
              "    </tr>\n",
              "    <tr>\n",
              "      <th>1</th>\n",
              "      <td>1</td>\n",
              "      <td>1</td>\n",
              "      <td>1</td>\n",
              "      <td>Pilot</td>\n",
              "      <td>Morty</td>\n",
              "      <td>What, Rick? What’s going on?</td>\n",
              "    </tr>\n",
              "    <tr>\n",
              "      <th>2</th>\n",
              "      <td>2</td>\n",
              "      <td>1</td>\n",
              "      <td>1</td>\n",
              "      <td>Pilot</td>\n",
              "      <td>Rick</td>\n",
              "      <td>I got a surprise for you, Morty.</td>\n",
              "    </tr>\n",
              "    <tr>\n",
              "      <th>3</th>\n",
              "      <td>3</td>\n",
              "      <td>1</td>\n",
              "      <td>1</td>\n",
              "      <td>Pilot</td>\n",
              "      <td>Morty</td>\n",
              "      <td>It's the middle of the night. What are you tal...</td>\n",
              "    </tr>\n",
              "    <tr>\n",
              "      <th>4</th>\n",
              "      <td>4</td>\n",
              "      <td>1</td>\n",
              "      <td>1</td>\n",
              "      <td>Pilot</td>\n",
              "      <td>Rick</td>\n",
              "      <td>Come on, I got a surprise for you.  Come on, h...</td>\n",
              "    </tr>\n",
              "    <tr>\n",
              "      <th>5</th>\n",
              "      <td>5</td>\n",
              "      <td>1</td>\n",
              "      <td>1</td>\n",
              "      <td>Pilot</td>\n",
              "      <td>Morty</td>\n",
              "      <td>Ow! Ow! You're tugging me too hard!</td>\n",
              "    </tr>\n",
              "    <tr>\n",
              "      <th>6</th>\n",
              "      <td>6</td>\n",
              "      <td>1</td>\n",
              "      <td>1</td>\n",
              "      <td>Pilot</td>\n",
              "      <td>Rick</td>\n",
              "      <td>We gotta go, gotta get outta here, come on. Go...</td>\n",
              "    </tr>\n",
              "    <tr>\n",
              "      <th>7</th>\n",
              "      <td>7</td>\n",
              "      <td>1</td>\n",
              "      <td>1</td>\n",
              "      <td>Pilot</td>\n",
              "      <td>Rick</td>\n",
              "      <td>What do you think of this... flying vehicle, M...</td>\n",
              "    </tr>\n",
              "    <tr>\n",
              "      <th>8</th>\n",
              "      <td>8</td>\n",
              "      <td>1</td>\n",
              "      <td>1</td>\n",
              "      <td>Pilot</td>\n",
              "      <td>Morty</td>\n",
              "      <td>Yeah, Rick... I-it's great. Is this the surprise?</td>\n",
              "    </tr>\n",
              "    <tr>\n",
              "      <th>9</th>\n",
              "      <td>9</td>\n",
              "      <td>1</td>\n",
              "      <td>1</td>\n",
              "      <td>Pilot</td>\n",
              "      <td>Rick</td>\n",
              "      <td>Morty. I had to... I had to do it. I had— I ha...</td>\n",
              "    </tr>\n",
              "  </tbody>\n",
              "</table>\n",
              "</div>"
            ],
            "text/plain": [
              "   index  season no.  ...   name                                               line\n",
              "0      0           1  ...   Rick  Morty! You gotta come on. Jus'... you gotta co...\n",
              "1      1           1  ...  Morty                       What, Rick? What’s going on?\n",
              "2      2           1  ...   Rick                   I got a surprise for you, Morty.\n",
              "3      3           1  ...  Morty  It's the middle of the night. What are you tal...\n",
              "4      4           1  ...   Rick  Come on, I got a surprise for you.  Come on, h...\n",
              "5      5           1  ...  Morty                Ow! Ow! You're tugging me too hard!\n",
              "6      6           1  ...   Rick  We gotta go, gotta get outta here, come on. Go...\n",
              "7      7           1  ...   Rick  What do you think of this... flying vehicle, M...\n",
              "8      8           1  ...  Morty  Yeah, Rick... I-it's great. Is this the surprise?\n",
              "9      9           1  ...   Rick  Morty. I had to... I had to do it. I had— I ha...\n",
              "\n",
              "[10 rows x 6 columns]"
            ]
          },
          "metadata": {
            "tags": []
          },
          "execution_count": 8
        }
      ]
    },
    {
      "cell_type": "markdown",
      "metadata": {
        "id": "tTUoATeM-sal"
      },
      "source": [
        "Мы преобразуем этот набор данных таким образом, чтобы каждая строка ответа содержала n предыдущих ответов в качестве контекста. Для наших целей будет достаточно семи предыдущих ответов."
      ]
    },
    {
      "cell_type": "code",
      "metadata": {
        "id": "4iEz8pfZ-yT9"
      },
      "source": [
        "contexted = []\r\n",
        "\r\n",
        "n = 7\r\n",
        "\r\n",
        "for i in range(n, len(all_rick['line'])):\r\n",
        "  row = []\r\n",
        "  prev = i - 1 - n # вычитаем 1, поэтому строка будет содержать текущий ответ и 7 предыдущих ответов \r\n",
        "  for j in range(i, prev, -1):\r\n",
        "    row.append(all_rick['line'][j])\r\n",
        "  contexted.append(row)  "
      ],
      "execution_count": 9,
      "outputs": []
    },
    {
      "cell_type": "code",
      "metadata": {
        "colab": {
          "base_uri": "https://localhost:8080/"
        },
        "id": "CreWvgSK-09T",
        "outputId": "92dbc296-b317-459f-9e4f-b84e52b2305e"
      },
      "source": [
        "len(contexted)"
      ],
      "execution_count": 10,
      "outputs": [
        {
          "output_type": "execute_result",
          "data": {
            "text/plain": [
              "1898"
            ]
          },
          "metadata": {
            "tags": []
          },
          "execution_count": 10
        }
      ]
    },
    {
      "cell_type": "code",
      "metadata": {
        "colab": {
          "base_uri": "https://localhost:8080/"
        },
        "id": "WKOiJAUA-29t",
        "outputId": "c28cac81-8b5e-4326-f53d-0b9c74f7a63f"
      },
      "source": [
        "columns = ['response', 'context'] \r\n",
        "columns = columns + ['context/'+str(i) for i in range(n-1)]\r\n",
        "columns"
      ],
      "execution_count": 11,
      "outputs": [
        {
          "output_type": "execute_result",
          "data": {
            "text/plain": [
              "['response',\n",
              " 'context',\n",
              " 'context/0',\n",
              " 'context/1',\n",
              " 'context/2',\n",
              " 'context/3',\n",
              " 'context/4',\n",
              " 'context/5']"
            ]
          },
          "metadata": {
            "tags": []
          },
          "execution_count": 11
        }
      ]
    },
    {
      "cell_type": "code",
      "metadata": {
        "colab": {
          "base_uri": "https://localhost:8080/",
          "height": 289
        },
        "id": "TzCwfi_0-5nn",
        "outputId": "c3aa62b1-a9eb-47b6-d6c0-5f234808a157"
      },
      "source": [
        "df = pd.DataFrame.from_records(contexted, columns=columns)\r\n",
        "df.head(5)"
      ],
      "execution_count": 12,
      "outputs": [
        {
          "output_type": "execute_result",
          "data": {
            "text/html": [
              "<div>\n",
              "<style scoped>\n",
              "    .dataframe tbody tr th:only-of-type {\n",
              "        vertical-align: middle;\n",
              "    }\n",
              "\n",
              "    .dataframe tbody tr th {\n",
              "        vertical-align: top;\n",
              "    }\n",
              "\n",
              "    .dataframe thead th {\n",
              "        text-align: right;\n",
              "    }\n",
              "</style>\n",
              "<table border=\"1\" class=\"dataframe\">\n",
              "  <thead>\n",
              "    <tr style=\"text-align: right;\">\n",
              "      <th></th>\n",
              "      <th>response</th>\n",
              "      <th>context</th>\n",
              "      <th>context/0</th>\n",
              "      <th>context/1</th>\n",
              "      <th>context/2</th>\n",
              "      <th>context/3</th>\n",
              "      <th>context/4</th>\n",
              "      <th>context/5</th>\n",
              "    </tr>\n",
              "  </thead>\n",
              "  <tbody>\n",
              "    <tr>\n",
              "      <th>0</th>\n",
              "      <td>What do you think of this... flying vehicle, M...</td>\n",
              "      <td>We gotta go, gotta get outta here, come on. Go...</td>\n",
              "      <td>Ow! Ow! You're tugging me too hard!</td>\n",
              "      <td>Come on, I got a surprise for you.  Come on, h...</td>\n",
              "      <td>It's the middle of the night. What are you tal...</td>\n",
              "      <td>I got a surprise for you, Morty.</td>\n",
              "      <td>What, Rick? What’s going on?</td>\n",
              "      <td>Morty! You gotta come on. Jus'... you gotta co...</td>\n",
              "    </tr>\n",
              "    <tr>\n",
              "      <th>1</th>\n",
              "      <td>Yeah, Rick... I-it's great. Is this the surprise?</td>\n",
              "      <td>What do you think of this... flying vehicle, M...</td>\n",
              "      <td>We gotta go, gotta get outta here, come on. Go...</td>\n",
              "      <td>Ow! Ow! You're tugging me too hard!</td>\n",
              "      <td>Come on, I got a surprise for you.  Come on, h...</td>\n",
              "      <td>It's the middle of the night. What are you tal...</td>\n",
              "      <td>I got a surprise for you, Morty.</td>\n",
              "      <td>What, Rick? What’s going on?</td>\n",
              "    </tr>\n",
              "    <tr>\n",
              "      <th>2</th>\n",
              "      <td>Morty. I had to... I had to do it. I had— I ha...</td>\n",
              "      <td>Yeah, Rick... I-it's great. Is this the surprise?</td>\n",
              "      <td>What do you think of this... flying vehicle, M...</td>\n",
              "      <td>We gotta go, gotta get outta here, come on. Go...</td>\n",
              "      <td>Ow! Ow! You're tugging me too hard!</td>\n",
              "      <td>Come on, I got a surprise for you.  Come on, h...</td>\n",
              "      <td>It's the middle of the night. What are you tal...</td>\n",
              "      <td>I got a surprise for you, Morty.</td>\n",
              "    </tr>\n",
              "    <tr>\n",
              "      <th>3</th>\n",
              "      <td>What?! A bomb?!</td>\n",
              "      <td>Morty. I had to... I had to do it. I had— I ha...</td>\n",
              "      <td>Yeah, Rick... I-it's great. Is this the surprise?</td>\n",
              "      <td>What do you think of this... flying vehicle, M...</td>\n",
              "      <td>We gotta go, gotta get outta here, come on. Go...</td>\n",
              "      <td>Ow! Ow! You're tugging me too hard!</td>\n",
              "      <td>Come on, I got a surprise for you.  Come on, h...</td>\n",
              "      <td>It's the middle of the night. What are you tal...</td>\n",
              "    </tr>\n",
              "    <tr>\n",
              "      <th>4</th>\n",
              "      <td>We're gonna drop it down there just get a whol...</td>\n",
              "      <td>What?! A bomb?!</td>\n",
              "      <td>Morty. I had to... I had to do it. I had— I ha...</td>\n",
              "      <td>Yeah, Rick... I-it's great. Is this the surprise?</td>\n",
              "      <td>What do you think of this... flying vehicle, M...</td>\n",
              "      <td>We gotta go, gotta get outta here, come on. Go...</td>\n",
              "      <td>Ow! Ow! You're tugging me too hard!</td>\n",
              "      <td>Come on, I got a surprise for you.  Come on, h...</td>\n",
              "    </tr>\n",
              "  </tbody>\n",
              "</table>\n",
              "</div>"
            ],
            "text/plain": [
              "                                            response  ...                                          context/5\n",
              "0  What do you think of this... flying vehicle, M...  ...  Morty! You gotta come on. Jus'... you gotta co...\n",
              "1  Yeah, Rick... I-it's great. Is this the surprise?  ...                       What, Rick? What’s going on?\n",
              "2  Morty. I had to... I had to do it. I had— I ha...  ...                   I got a surprise for you, Morty.\n",
              "3                                    What?! A bomb?!  ...  It's the middle of the night. What are you tal...\n",
              "4  We're gonna drop it down there just get a whol...  ...  Come on, I got a surprise for you.  Come on, h...\n",
              "\n",
              "[5 rows x 8 columns]"
            ]
          },
          "metadata": {
            "tags": []
          },
          "execution_count": 12
        }
      ]
    },
    {
      "cell_type": "markdown",
      "metadata": {
        "id": "jrxT-1NN-96Y"
      },
      "source": [
        "Разделите наш набор данных на обучающую и тестовую части."
      ]
    },
    {
      "cell_type": "code",
      "metadata": {
        "colab": {
          "base_uri": "https://localhost:8080/",
          "height": 289
        },
        "id": "mrucMpXs_aSR",
        "outputId": "d451ee39-5451-4614-960f-fd862b5e9131"
      },
      "source": [
        "trn_df, val_df = train_test_split(df, test_size = 0.1)\r\n",
        "trn_df.head()"
      ],
      "execution_count": 13,
      "outputs": [
        {
          "output_type": "execute_result",
          "data": {
            "text/html": [
              "<div>\n",
              "<style scoped>\n",
              "    .dataframe tbody tr th:only-of-type {\n",
              "        vertical-align: middle;\n",
              "    }\n",
              "\n",
              "    .dataframe tbody tr th {\n",
              "        vertical-align: top;\n",
              "    }\n",
              "\n",
              "    .dataframe thead th {\n",
              "        text-align: right;\n",
              "    }\n",
              "</style>\n",
              "<table border=\"1\" class=\"dataframe\">\n",
              "  <thead>\n",
              "    <tr style=\"text-align: right;\">\n",
              "      <th></th>\n",
              "      <th>response</th>\n",
              "      <th>context</th>\n",
              "      <th>context/0</th>\n",
              "      <th>context/1</th>\n",
              "      <th>context/2</th>\n",
              "      <th>context/3</th>\n",
              "      <th>context/4</th>\n",
              "      <th>context/5</th>\n",
              "    </tr>\n",
              "  </thead>\n",
              "  <tbody>\n",
              "    <tr>\n",
              "      <th>1443</th>\n",
              "      <td>Yes.</td>\n",
              "      <td>By changing you from a pickle to a human.</td>\n",
              "      <td>It's a serum that I need to, uh, to stay alive...</td>\n",
              "      <td>Dad I would like you to tell me what's in the ...</td>\n",
              "      <td>Yeah, thank you. Uh, sweetie, you don't still ...</td>\n",
              "      <td>I've heard a lot about you today. Your family ...</td>\n",
              "      <td>Mm-hmm.</td>\n",
              "      <td>You must be Rick.</td>\n",
              "    </tr>\n",
              "    <tr>\n",
              "      <th>563</th>\n",
              "      <td>Boom! In your face Summer! You really dropped ...</td>\n",
              "      <td>Actually, sorry Summer, I gotta back the M bom...</td>\n",
              "      <td>Yeah huh!</td>\n",
              "      <td>Nuh uh!</td>\n",
              "      <td>Uh, what? It was your job, Morty.</td>\n",
              "      <td>Uh, just to be clear, it was Summer's job to p...</td>\n",
              "      <td>Yup, it really makes you appreciate how fickle...</td>\n",
              "      <td>God, I feel terrible.</td>\n",
              "    </tr>\n",
              "    <tr>\n",
              "      <th>760</th>\n",
              "      <td>Somebody call the planet of Tron, we have thre...</td>\n",
              "      <td>I'm gonna pee-hee-hee.</td>\n",
              "      <td>No it doesn't. It hurts.</td>\n",
              "      <td>Doesn't feel so good, does it?</td>\n",
              "      <td>I'm gonna pee my pants.</td>\n",
              "      <td>Are you guys Power Rangers? But only on one sm...</td>\n",
              "      <td>Um, hold the phone, where did you guys get tho...</td>\n",
              "      <td>Hey guys, we're home.Morty &amp; Summer</td>\n",
              "    </tr>\n",
              "    <tr>\n",
              "      <th>1332</th>\n",
              "      <td>Okay, come on. This can't really be the way I ...</td>\n",
              "      <td>Oh, crap, that sun is bright.</td>\n",
              "      <td>Whoa! Oh! Whoa, whoa, whoa!</td>\n",
              "      <td>Whoa, whoa, whoa, whoa! I know what it looks l...</td>\n",
              "      <td>Hey, hey, be careful with that. It's for somet...</td>\n",
              "      <td>Great. We'll see you later.</td>\n",
              "      <td>Can't argue with that.</td>\n",
              "      <td>Well, I mean, you don't want to get pierced by...</td>\n",
              "    </tr>\n",
              "    <tr>\n",
              "      <th>961</th>\n",
              "      <td>Morty!</td>\n",
              "      <td>The heads are displeased!</td>\n",
              "      <td>I’m sure that has… that has nothing to do with...</td>\n",
              "      <td>Nup-oo-nup-oo-nup-oo-nups… ooh, tough crowd.</td>\n",
              "      <td>Mr. President, if I’ve learned one thing today...</td>\n",
              "      <td>I’m really bad at this, Morty! There are way t...</td>\n",
              "      <td>Hey! Look at the heads! Looks like the heads a...</td>\n",
              "      <td>Headward free now to rise!</td>\n",
              "    </tr>\n",
              "  </tbody>\n",
              "</table>\n",
              "</div>"
            ],
            "text/plain": [
              "                                               response  ...                                          context/5\n",
              "1443                                               Yes.  ...                                  You must be Rick.\n",
              "563   Boom! In your face Summer! You really dropped ...  ...                              God, I feel terrible.\n",
              "760   Somebody call the planet of Tron, we have thre...  ...                Hey guys, we're home.Morty & Summer\n",
              "1332  Okay, come on. This can't really be the way I ...  ...  Well, I mean, you don't want to get pierced by...\n",
              "961                                              Morty!  ...                         Headward free now to rise!\n",
              "\n",
              "[5 rows x 8 columns]"
            ]
          },
          "metadata": {
            "tags": []
          },
          "execution_count": 13
        }
      ]
    },
    {
      "cell_type": "markdown",
      "metadata": {
        "id": "Bgqow9lb_fVh"
      },
      "source": [
        "Теперь преобразуем наш набор данных в формат, подходящий для нашей модели. В основном мы объединяем ответы в одну строку для каждой строки (дополнительно мы добавим специальный токен конца строки между ответами, чтобы модель понимала конец каждого ответа в строке)."
      ]
    },
    {
      "cell_type": "code",
      "metadata": {
        "id": "MqxbiHh4_jAD"
      },
      "source": [
        "def construct_conv(row, tokenizer, eos = True):\r\n",
        "    flatten = lambda l: [item for sublist in l for item in sublist]\r\n",
        "    conv = list(reversed([tokenizer.encode(x) + [tokenizer.eos_token_id] for x in row]))\r\n",
        "    conv = flatten(conv)\r\n",
        "    return conv\r\n",
        "\r\n",
        "class ConversationDataset(Dataset):\r\n",
        "    def __init__(self, tokenizer: PreTrainedTokenizer, args, df, block_size=512):\r\n",
        "\r\n",
        "        block_size = block_size - (tokenizer.max_len - tokenizer.max_len_single_sentence)\r\n",
        "\r\n",
        "        directory = args.cache_dir\r\n",
        "        cached_features_file = os.path.join(\r\n",
        "            directory, args.model_type + \"_cached_lm_\" + str(block_size)\r\n",
        "        )\r\n",
        "\r\n",
        "        if os.path.exists(cached_features_file) and not args.overwrite_cache:\r\n",
        "            logger.info(\"Loading features from cached file %s\", cached_features_file)\r\n",
        "            with open(cached_features_file, \"rb\") as handle:\r\n",
        "                self.examples = pickle.load(handle)\r\n",
        "        else:\r\n",
        "            logger.info(\"Creating features from dataset file at %s\", directory)\r\n",
        "\r\n",
        "            self.examples = []\r\n",
        "            for _, row in df.iterrows():\r\n",
        "                conv = construct_conv(row, tokenizer)\r\n",
        "                self.examples.append(conv)\r\n",
        "\r\n",
        "            logger.info(\"Saving features into cached file %s\", cached_features_file)\r\n",
        "            with open(cached_features_file, \"wb\") as handle:\r\n",
        "                pickle.dump(self.examples, handle, protocol=pickle.HIGHEST_PROTOCOL)\r\n",
        "\r\n",
        "    def __len__(self):\r\n",
        "        return len(self.examples)\r\n",
        "\r\n",
        "    def __getitem__(self, item):\r\n",
        "        return torch.tensor(self.examples[item], dtype=torch.long)"
      ],
      "execution_count": 14,
      "outputs": []
    },
    {
      "cell_type": "markdown",
      "metadata": {
        "id": "jLDvj6-l_rzJ"
      },
      "source": [
        "Кэширование и хранение данных / контрольных точек"
      ]
    },
    {
      "cell_type": "code",
      "metadata": {
        "id": "gmVGooFq_sAV"
      },
      "source": [
        "def load_and_cache_examples(args, tokenizer, df_trn, df_val, evaluate=False):\r\n",
        "    return ConversationDataset(tokenizer, args, df_val if evaluate else df_trn)\r\n",
        "\r\n",
        "\r\n",
        "def set_seed(args):\r\n",
        "    random.seed(args.seed)\r\n",
        "    np.random.seed(args.seed)\r\n",
        "    torch.manual_seed(args.seed)\r\n",
        "    if args.n_gpu > 0:\r\n",
        "        torch.cuda.manual_seed_all(args.seed)\r\n",
        "\r\n",
        "\r\n",
        "def _sorted_checkpoints(args, checkpoint_prefix=\"checkpoint\", use_mtime=False) -> List[str]:\r\n",
        "    ordering_and_checkpoint_path = []\r\n",
        "\r\n",
        "    glob_checkpoints = glob.glob(os.path.join(args.output_dir, \"{}-*\".format(checkpoint_prefix)))\r\n",
        "\r\n",
        "    for path in glob_checkpoints:\r\n",
        "        if use_mtime:\r\n",
        "            ordering_and_checkpoint_path.append((os.path.getmtime(path), path))\r\n",
        "        else:\r\n",
        "            regex_match = re.match(\".*{}-([0-9]+)\".format(checkpoint_prefix), path)\r\n",
        "            if regex_match and regex_match.groups():\r\n",
        "                ordering_and_checkpoint_path.append((int(regex_match.groups()[0]), path))\r\n",
        "\r\n",
        "    checkpoints_sorted = sorted(ordering_and_checkpoint_path)\r\n",
        "    checkpoints_sorted = [checkpoint[1] for checkpoint in checkpoints_sorted]\r\n",
        "    return checkpoints_sorted\r\n",
        "\r\n",
        "\r\n",
        "def _rotate_checkpoints(args, checkpoint_prefix=\"checkpoint\", use_mtime=False) -> None:\r\n",
        "    if not args.save_total_limit:\r\n",
        "        return\r\n",
        "    if args.save_total_limit <= 0:\r\n",
        "        return\r\n",
        "\r\n",
        "    # Проверяем нужно ли удалять старые контрольные точки\r\n",
        "    checkpoints_sorted = _sorted_checkpoints(args, checkpoint_prefix, use_mtime)\r\n",
        "    if len(checkpoints_sorted) <= args.save_total_limit:\r\n",
        "        return\r\n",
        "\r\n",
        "    number_of_checkpoints_to_delete = max(0, len(checkpoints_sorted) - args.save_total_limit)\r\n",
        "    checkpoints_to_be_deleted = checkpoints_sorted[:number_of_checkpoints_to_delete]\r\n",
        "    for checkpoint in checkpoints_to_be_deleted:\r\n",
        "        logger.info(\"Deleting older checkpoint [{}] due to args.save_total_limit\".format(checkpoint))\r\n",
        "        shutil.rmtree(checkpoint)"
      ],
      "execution_count": 15,
      "outputs": []
    },
    {
      "cell_type": "markdown",
      "metadata": {
        "id": "hWee1i83CQPB"
      },
      "source": [
        "## Обучение и оценка"
      ]
    },
    {
      "cell_type": "markdown",
      "metadata": {
        "id": "j6D5ejExCXlQ"
      },
      "source": [
        "Для обучения нашей модели потребуется довольно много кода, но не волнуйтесь, все должно работать как есть, главное - предоставить модели набор данных в правильном формате.\r\n",
        "\r\n",
        "![alt text](https://media.giphy.com/media/KetvQljQJdEMscR83K/giphy.gif)"
      ]
    },
    {
      "cell_type": "code",
      "metadata": {
        "id": "tqjF8rd_Cci0"
      },
      "source": [
        "def train(args, train_dataset, model: PreTrainedModel, tokenizer: PreTrainedTokenizer) -> Tuple[int, float]:\r\n",
        "    \"\"\" Train the model \"\"\"\r\n",
        "    if args.local_rank in [-1, 0]:\r\n",
        "        tb_writer = SummaryWriter()\r\n",
        "\r\n",
        "    args.train_batch_size = args.per_gpu_train_batch_size * max(1, args.n_gpu)\r\n",
        "\r\n",
        "    def collate(examples: List[torch.Tensor]):\r\n",
        "        if tokenizer._pad_token is None:\r\n",
        "            return pad_sequence(examples, batch_first=True)\r\n",
        "        return pad_sequence(examples, batch_first=True, padding_value=tokenizer.pad_token_id)\r\n",
        "\r\n",
        "    train_sampler = RandomSampler(train_dataset) if args.local_rank == -1 else DistributedSampler(train_dataset)\r\n",
        "    train_dataloader = DataLoader(\r\n",
        "        train_dataset, sampler=train_sampler, batch_size=args.train_batch_size, collate_fn=collate, drop_last = True\r\n",
        "    )\r\n",
        "\r\n",
        "    if args.max_steps > 0:\r\n",
        "        t_total = args.max_steps\r\n",
        "        args.num_train_epochs = args.max_steps // (len(train_dataloader) // args.gradient_accumulation_steps) + 1\r\n",
        "    else:\r\n",
        "        t_total = len(train_dataloader) // args.gradient_accumulation_steps * args.num_train_epochs\r\n",
        "\r\n",
        "    model = model.module if hasattr(model, \"module\") else model  # Позаботьтесь о распределенном / параллельном обучении\r\n",
        "    model.resize_token_embeddings(len(tokenizer))\r\n",
        "    # add_special_tokens_(model, tokenizer)\r\n",
        "\r\n",
        "\r\n",
        "    # Подготовить оптимизатор и расписание (линейный прогрев и спад)\r\n",
        "    no_decay = [\"bias\", \"LayerNorm.weight\"]\r\n",
        "    optimizer_grouped_parameters = [\r\n",
        "        {\r\n",
        "            \"params\": [p for n, p in model.named_parameters() if not any(nd in n for nd in no_decay)],\r\n",
        "            \"weight_decay\": args.weight_decay,\r\n",
        "        },\r\n",
        "        {\"params\": [p for n, p in model.named_parameters() if any(nd in n for nd in no_decay)], \"weight_decay\": 0.0},\r\n",
        "    ]\r\n",
        "    optimizer = AdamW(optimizer_grouped_parameters, lr=args.learning_rate, eps=args.adam_epsilon)\r\n",
        "    scheduler = get_linear_schedule_with_warmup(\r\n",
        "        optimizer, num_warmup_steps=args.warmup_steps, num_training_steps=t_total\r\n",
        "    )\r\n",
        "\r\n",
        "    # Проверьте, существуют ли сохраненные состояния оптимизатора или планировщика\r\n",
        "    if (\r\n",
        "        args.model_name_or_path\r\n",
        "        and os.path.isfile(os.path.join(args.model_name_or_path, \"optimizer.pt\"))\r\n",
        "        and os.path.isfile(os.path.join(args.model_name_or_path, \"scheduler.pt\"))\r\n",
        "    ):\r\n",
        "        # Загрузить в состояниях оптимизатора и планировщика\r\n",
        "        optimizer.load_state_dict(torch.load(os.path.join(args.model_name_or_path, \"optimizer.pt\")))\r\n",
        "        scheduler.load_state_dict(torch.load(os.path.join(args.model_name_or_path, \"scheduler.pt\")))\r\n",
        "\r\n",
        "    if args.fp16:\r\n",
        "        try:\r\n",
        "            from apex import amp\r\n",
        "        except ImportError:\r\n",
        "            raise ImportError(\"Please install apex from https://www.github.com/nvidia/apex to use fp16 training.\")\r\n",
        "        model, optimizer = amp.initialize(model, optimizer, opt_level=args.fp16_opt_level)\r\n",
        "\r\n",
        "    # обучение с несколькими графическими процессорами (должно быть после инициализации apex fp16)\r\n",
        "    if args.n_gpu > 1:\r\n",
        "        model = torch.nn.DataParallel(model)\r\n",
        "\r\n",
        "    # Распределенное обучение (должно быть после инициализации apex fp16)\r\n",
        "    if args.local_rank != -1:\r\n",
        "        model = torch.nn.parallel.DistributedDataParallel(\r\n",
        "            model, device_ids=[args.local_rank], output_device=args.local_rank, find_unused_parameters=True\r\n",
        "        )\r\n",
        "\r\n",
        "    # Train!\r\n",
        "    logger.info(\"***** Running training *****\")\r\n",
        "    logger.info(\"  Num examples = %d\", len(train_dataset))\r\n",
        "    logger.info(\"  Num Epochs = %d\", args.num_train_epochs)\r\n",
        "    logger.info(\"  Instantaneous batch size per GPU = %d\", args.per_gpu_train_batch_size)\r\n",
        "    logger.info(\r\n",
        "        \"  Total train batch size (w. parallel, distributed & accumulation) = %d\",\r\n",
        "        args.train_batch_size\r\n",
        "        * args.gradient_accumulation_steps\r\n",
        "        * (torch.distributed.get_world_size() if args.local_rank != -1 else 1),\r\n",
        "    )\r\n",
        "    logger.info(\"  Gradient Accumulation steps = %d\", args.gradient_accumulation_steps)\r\n",
        "    logger.info(\"  Total optimization steps = %d\", t_total)\r\n",
        "\r\n",
        "    global_step = 0\r\n",
        "    epochs_trained = 0\r\n",
        "    steps_trained_in_current_epoch = 0\r\n",
        "    # Проверьте, продолжается ли обучение с контрольной точки\r\n",
        "    if args.model_name_or_path and os.path.exists(args.model_name_or_path):\r\n",
        "        try:\r\n",
        "            # установите global_step на gobal_step последней сохраненной контрольной точки из пути к модели\r\n",
        "            checkpoint_suffix = args.model_name_or_path.split(\"-\")[-1].split(\"/\")[0]\r\n",
        "            global_step = int(checkpoint_suffix)\r\n",
        "            epochs_trained = global_step // (len(train_dataloader) // args.gradient_accumulation_steps)\r\n",
        "            steps_trained_in_current_epoch = global_step % (len(train_dataloader) // args.gradient_accumulation_steps)\r\n",
        "\r\n",
        "            logger.info(\"  Continuing training from checkpoint, will skip to saved global_step\")\r\n",
        "            logger.info(\"  Continuing training from epoch %d\", epochs_trained)\r\n",
        "            logger.info(\"  Continuing training from global step %d\", global_step)\r\n",
        "            logger.info(\"  Will skip the first %d steps in the first epoch\", steps_trained_in_current_epoch)\r\n",
        "        except ValueError:\r\n",
        "            logger.info(\"  Starting fine-tuning.\")\r\n",
        "\r\n",
        "    tr_loss, logging_loss = 0.0, 0.0\r\n",
        "\r\n",
        "    model.zero_grad()\r\n",
        "    train_iterator = trange(\r\n",
        "        epochs_trained, int(args.num_train_epochs), desc=\"Epoch\", disable=args.local_rank not in [-1, 0]\r\n",
        "    )\r\n",
        "    set_seed(args)  # Добавлено здесь для воспроизводимости\r\n",
        "    for _ in train_iterator:\r\n",
        "        epoch_iterator = tqdm(train_dataloader, desc=\"Iteration\", disable=args.local_rank not in [-1, 0])\r\n",
        "        for step, batch in enumerate(epoch_iterator):\r\n",
        "\r\n",
        "            # Пропустите любые уже обученные шаги, если продолжите тренировку\r\n",
        "            if steps_trained_in_current_epoch > 0:\r\n",
        "                steps_trained_in_current_epoch -= 1\r\n",
        "                continue\r\n",
        "\r\n",
        "            inputs, labels = (batch, batch)\r\n",
        "            if inputs.shape[1] > 1024: continue\r\n",
        "            inputs = inputs.to(args.device)\r\n",
        "            labels = labels.to(args.device)\r\n",
        "            model.train()\r\n",
        "            outputs = model(inputs, labels=labels)\r\n",
        "            loss = outputs[0]  # выходы модели всегда являются кортежами в трансформаторах (см. документ)\r\n",
        "\r\n",
        "            if args.n_gpu > 1:\r\n",
        "                loss = loss.mean()  # mean () к среднему при параллельном обучении с несколькими графическими процессорами\r\n",
        "            if args.gradient_accumulation_steps > 1:\r\n",
        "                loss = loss / args.gradient_accumulation_steps\r\n",
        "\r\n",
        "            if args.fp16:\r\n",
        "                with amp.scale_loss(loss, optimizer) as scaled_loss:\r\n",
        "                    scaled_loss.backward()\r\n",
        "            else:\r\n",
        "                loss.backward()\r\n",
        "\r\n",
        "            tr_loss += loss.item()\r\n",
        "            if (step + 1) % args.gradient_accumulation_steps == 0:\r\n",
        "                if args.fp16:\r\n",
        "                    torch.nn.utils.clip_grad_norm_(amp.master_params(optimizer), args.max_grad_norm)\r\n",
        "                else:\r\n",
        "                    torch.nn.utils.clip_grad_norm_(model.parameters(), args.max_grad_norm)\r\n",
        "                optimizer.step()\r\n",
        "                scheduler.step()  # Обновить расписание скорости обучения\r\n",
        "                model.zero_grad()\r\n",
        "                global_step += 1\r\n",
        "\r\n",
        "                if args.local_rank in [-1, 0] and args.logging_steps > 0 and global_step % args.logging_steps == 0:\r\n",
        "                    # Log metrics\r\n",
        "                    if (\r\n",
        "                        args.local_rank == -1 and args.evaluate_during_training\r\n",
        "                    ):  # Оценивайте только при использовании одного графического процессора, иначе показатели могут не усредниться\r\n",
        "                        results = evaluate(args, model, tokenizer)\r\n",
        "                        for key, value in results.items():\r\n",
        "                            tb_writer.add_scalar(\"eval_{}\".format(key), value, global_step)\r\n",
        "                    tb_writer.add_scalar(\"lr\", scheduler.get_lr()[0], global_step)\r\n",
        "                    tb_writer.add_scalar(\"loss\", (tr_loss - logging_loss) / args.logging_steps, global_step)\r\n",
        "                    logging_loss = tr_loss\r\n",
        "\r\n",
        "                if args.local_rank in [-1, 0] and args.save_steps > 0 and global_step % args.save_steps == 0:\r\n",
        "                    checkpoint_prefix = \"checkpoint\"\r\n",
        "                    # Save model checkpoint\r\n",
        "                    output_dir = os.path.join(args.output_dir, \"{}-{}\".format(checkpoint_prefix, global_step))\r\n",
        "                    os.makedirs(output_dir, exist_ok=True)\r\n",
        "                    model_to_save = (\r\n",
        "                        model.module if hasattr(model, \"module\") else model\r\n",
        "                    )  # Позаботьтесь о распределенном / параллельном обучении\r\n",
        "                    model_to_save.save_pretrained(output_dir)\r\n",
        "                    tokenizer.save_pretrained(output_dir)\r\n",
        "\r\n",
        "                    torch.save(args, os.path.join(output_dir, \"training_args.bin\"))\r\n",
        "                    logger.info(\"Saving model checkpoint to %s\", output_dir)\r\n",
        "\r\n",
        "                    _rotate_checkpoints(args, checkpoint_prefix)\r\n",
        "\r\n",
        "                    torch.save(optimizer.state_dict(), os.path.join(output_dir, \"optimizer.pt\"))\r\n",
        "                    torch.save(scheduler.state_dict(), os.path.join(output_dir, \"scheduler.pt\"))\r\n",
        "                    logger.info(\"Saving optimizer and scheduler states to %s\", output_dir)\r\n",
        "\r\n",
        "            if args.max_steps > 0 and global_step > args.max_steps:\r\n",
        "                epoch_iterator.close()\r\n",
        "                break\r\n",
        "        if args.max_steps > 0 and global_step > args.max_steps:\r\n",
        "            train_iterator.close()\r\n",
        "            break\r\n",
        "\r\n",
        "    if args.local_rank in [-1, 0]:\r\n",
        "        tb_writer.close()\r\n",
        "\r\n",
        "    return global_step, tr_loss / global_step\r\n",
        "\r\n",
        "# Оценка модели\r\n",
        "\r\n",
        "def evaluate(args, model: PreTrainedModel, tokenizer: PreTrainedTokenizer, df_trn, df_val, prefix=\"\") -> Dict:\r\n",
        "\r\n",
        "    eval_output_dir = args.output_dir\r\n",
        "\r\n",
        "    eval_dataset = load_and_cache_examples(args, tokenizer, df_trn, df_val, evaluate=True)\r\n",
        "    os.makedirs(eval_output_dir, exist_ok=True)\r\n",
        "    args.eval_batch_size = args.per_gpu_eval_batch_size * max(1, args.n_gpu)\r\n",
        "    # Обратите внимание, что DistributedSampler выбирает случайным образом\r\n",
        "\r\n",
        "    def collate(examples: List[torch.Tensor]):\r\n",
        "        if tokenizer._pad_token is None:\r\n",
        "            return pad_sequence(examples, batch_first=True)\r\n",
        "        return pad_sequence(examples, batch_first=True, padding_value=tokenizer.pad_token_id)\r\n",
        "\r\n",
        "    eval_sampler = SequentialSampler(eval_dataset)\r\n",
        "    eval_dataloader = DataLoader(\r\n",
        "        eval_dataset, sampler=eval_sampler, batch_size=args.eval_batch_size, collate_fn=collate, drop_last = True\r\n",
        "    )\r\n",
        "\r\n",
        "    # multi-gpu evaluate\r\n",
        "    if args.n_gpu > 1:\r\n",
        "        model = torch.nn.DataParallel(model)\r\n",
        "\r\n",
        "    # Eval!\r\n",
        "    logger.info(\"***** Running evaluation {} *****\".format(prefix))\r\n",
        "    logger.info(\"  Num examples = %d\", len(eval_dataset))\r\n",
        "    logger.info(\"  Batch size = %d\", args.eval_batch_size)\r\n",
        "    eval_loss = 0.0\r\n",
        "    nb_eval_steps = 0\r\n",
        "    model.eval()\r\n",
        "\r\n",
        "    for batch in tqdm(eval_dataloader, desc=\"Evaluating\"):\r\n",
        "        inputs, labels = (batch, batch)\r\n",
        "        inputs = inputs.to(args.device)\r\n",
        "        labels = labels.to(args.device)\r\n",
        "\r\n",
        "        with torch.no_grad():\r\n",
        "            outputs = model(inputs, labels=labels)\r\n",
        "            lm_loss = outputs[0]\r\n",
        "            eval_loss += lm_loss.mean().item()\r\n",
        "        nb_eval_steps += 1\r\n",
        "\r\n",
        "    eval_loss = eval_loss / nb_eval_steps\r\n",
        "    perplexity = torch.exp(torch.tensor(eval_loss))\r\n",
        "\r\n",
        "    result = {\"perplexity\": perplexity}\r\n",
        "\r\n",
        "    output_eval_file = os.path.join(eval_output_dir, prefix, \"eval_results.txt\")\r\n",
        "    with open(output_eval_file, \"w\") as writer:\r\n",
        "        logger.info(\"***** Eval results {} *****\".format(prefix))\r\n",
        "        for key in sorted(result.keys()):\r\n",
        "            logger.info(\"  %s = %s\", key, str(result[key]))\r\n",
        "            writer.write(\"%s = %s\\n\" % (key, str(result[key])))\r\n",
        "\r\n",
        "    return result"
      ],
      "execution_count": 16,
      "outputs": []
    },
    {
      "cell_type": "markdown",
      "metadata": {
        "id": "2ekiWXD6GaLh"
      },
      "source": [
        "Запуск"
      ]
    },
    {
      "cell_type": "code",
      "metadata": {
        "id": "kTlRN977Gbvl"
      },
      "source": [
        "def main(df_trn, df_val):\r\n",
        "    args = Args()\r\n",
        "    \r\n",
        "    if args.should_continue:\r\n",
        "        sorted_checkpoints = _sorted_checkpoints(args)\r\n",
        "        if len(sorted_checkpoints) == 0:\r\n",
        "            raise ValueError(\"Used --should_continue but no checkpoint was found in --output_dir.\")\r\n",
        "        else:\r\n",
        "            args.model_name_or_path = sorted_checkpoints[-1]\r\n",
        "\r\n",
        "    if (\r\n",
        "        os.path.exists(args.output_dir)\r\n",
        "        and os.listdir(args.output_dir)\r\n",
        "        and args.do_train\r\n",
        "        and not args.overwrite_output_dir\r\n",
        "        and not args.should_continue\r\n",
        "    ):\r\n",
        "        raise ValueError(\r\n",
        "            \"Output directory ({}) already exists and is not empty. Use --overwrite_output_dir to overcome.\".format(\r\n",
        "                args.output_dir\r\n",
        "            )\r\n",
        "        )\r\n",
        "\r\n",
        "    # Настройка CUDA, GPU и распределенного обучения\r\n",
        "    device = torch.device(\"cuda\")\r\n",
        "    args.n_gpu = torch.cuda.device_count()\r\n",
        "    args.device = device\r\n",
        "\r\n",
        "    # Настройка ведения журнала\r\n",
        "    logging.basicConfig(\r\n",
        "        format=\"%(asctime)s - %(levelname)s - %(name)s -   %(message)s\",\r\n",
        "        datefmt=\"%m/%d/%Y %H:%M:%S\",\r\n",
        "        level=logging.INFO if args.local_rank in [-1, 0] else logging.WARN,\r\n",
        "    )\r\n",
        "    logger.warning(\r\n",
        "        \"Process rank: %s, device: %s, n_gpu: %s, distributed training: %s, 16-bits training: %s\",\r\n",
        "        args.local_rank,\r\n",
        "        device,\r\n",
        "        args.n_gpu,\r\n",
        "        bool(args.local_rank != -1),\r\n",
        "        args.fp16,\r\n",
        "    )\r\n",
        "\r\n",
        "    # Set seed\r\n",
        "    set_seed(args)\r\n",
        "\r\n",
        "    config = AutoConfig.from_pretrained(args.config_name, cache_dir=args.cache_dir)\r\n",
        "    tokenizer = AutoTokenizer.from_pretrained(args.tokenizer_name, cache_dir=args.cache_dir)\r\n",
        "    model = AutoModelWithLMHead.from_pretrained(\r\n",
        "        args.model_name_or_path,\r\n",
        "        from_tf=False,\r\n",
        "        config=config,\r\n",
        "        cache_dir=args.cache_dir,\r\n",
        "    )\r\n",
        "    model.to(args.device)\r\n",
        "    \r\n",
        "    logger.info(\"Training/evaluation parameters %s\", args)\r\n",
        "\r\n",
        "    # Training\r\n",
        "    if args.do_train:\r\n",
        "        train_dataset = load_and_cache_examples(args, tokenizer, df_trn, df_val, evaluate=False)\r\n",
        "\r\n",
        "        global_step, tr_loss = train(args, train_dataset, model, tokenizer)\r\n",
        "        logger.info(\" global_step = %s, average loss = %s\", global_step, tr_loss)\r\n",
        "\r\n",
        "    # Рекомендации по сохранению: если вы используете save_pretrained для модели и токенизатора, вы можете перезагрузить их с помощью from_pretrained ()\r\n",
        "    if args.do_train:\r\n",
        "        # При необходимости создайте выходной каталог\r\n",
        "        os.makedirs(args.output_dir, exist_ok=True)\r\n",
        "\r\n",
        "        logger.info(\"Saving model checkpoint to %s\", args.output_dir)\r\n",
        "        # Сохраните обученную модель, конфигурацию и токенизатор с помощью save_pretrained ().\r\n",
        "        # Затем их можно перезагрузить с помощью from_pretrained ().\r\n",
        "        model_to_save = (\r\n",
        "            model.module if hasattr(model, \"module\") else model\r\n",
        "        )  # Позаботьтесь о распределенном / параллельном обучении\r\n",
        "        model_to_save.save_pretrained(args.output_dir)\r\n",
        "        tokenizer.save_pretrained(args.output_dir)\r\n",
        "\r\n",
        "        # Хорошая практика: сохраните свои обучающие аргументы вместе с обученной моделью\r\n",
        "        torch.save(args, os.path.join(args.output_dir, \"training_args.bin\"))\r\n",
        "\r\n",
        "        # Загрузите обученную модель и словарь, который вы точно настроили\r\n",
        "        model = AutoModelWithLMHead.from_pretrained(args.output_dir)\r\n",
        "        tokenizer = AutoTokenizer.from_pretrained(args.output_dir)\r\n",
        "        model.to(args.device)\r\n",
        "\r\n",
        "    # Evaluation\r\n",
        "    results = {}\r\n",
        "    if args.do_eval and args.local_rank in [-1, 0]:\r\n",
        "        checkpoints = [args.output_dir]\r\n",
        "        if args.eval_all_checkpoints:\r\n",
        "            checkpoints = list(\r\n",
        "                os.path.dirname(c) for c in sorted(glob.glob(args.output_dir + \"/**/\" + WEIGHTS_NAME, recursive=True))\r\n",
        "            )\r\n",
        "            logging.getLogger(\"transformers.modeling_utils\").setLevel(logging.WARN)  # Reduce logging\r\n",
        "        logger.info(\"Evaluate the following checkpoints: %s\", checkpoints)\r\n",
        "        for checkpoint in checkpoints:\r\n",
        "            global_step = checkpoint.split(\"-\")[-1] if len(checkpoints) > 1 else \"\"\r\n",
        "            prefix = checkpoint.split(\"/\")[-1] if checkpoint.find(\"checkpoint\") != -1 else \"\"\r\n",
        "\r\n",
        "            model = AutoModelWithLMHead.from_pretrained(checkpoint)\r\n",
        "            model.to(args.device)\r\n",
        "            result = evaluate(args, model, tokenizer, df_trn, df_val, prefix=prefix)\r\n",
        "            result = dict((k + \"_{}\".format(global_step), v) for k, v in result.items())\r\n",
        "            results.update(result)\r\n",
        "\r\n",
        "    return results"
      ],
      "execution_count": 17,
      "outputs": []
    },
    {
      "cell_type": "markdown",
      "metadata": {
        "id": "-OcwDoaoHcVZ"
      },
      "source": [
        "Пора тренировать нашу модель!\r\n",
        "\r\n",
        "![alt text](https://media.giphy.com/media/Tia3dkakIp2m4uGoDI/giphy.gif)"
      ]
    },
    {
      "cell_type": "code",
      "metadata": {
        "colab": {
          "base_uri": "https://localhost:8080/",
          "height": 1000,
          "referenced_widgets": [
            "36b8599f78374ec4b794d796b8d1a275",
            "8687be01005042158d539b86b6b4ad39",
            "efc0c55726544d6fa4d0a842492e943c",
            "b5e30354bd9a465e90cf0ebdf0bfabd6",
            "b3a49d9b2a394b959904f1ac7d19f5ec",
            "0faf5ac72b3a44ccaf1aee87d44e71c4",
            "e681e91735a84c2e8363b6000f29d1ca",
            "cbe33f4a92884f8fbc565a5856ca5652",
            "9bbda75682164899b7e6c384cf5869be",
            "3f9272c3f35c4d62ab24d8878f36517b",
            "98e91e51e459475b8d3aafd613c628f5",
            "03b881f26ee041d483b9dd2b3dc7296c",
            "8a38d281920b442eab521f5ac3bae632",
            "70e6d23b9ef94c458148d241095597ae",
            "574f14390da3423789a56555f69cbf32",
            "844f500bd572473e971f648fc139f809",
            "313ea0b1bf72462190fa6ffd2f4b6966",
            "4056fbc6748344a6bdec8f021815635c",
            "47d45d0c92ae487387b6504a09240f2f",
            "0ccf556348684762b1fe75d3092a06ee",
            "e67bb731a64747fbb1ae8e4ee53502e4",
            "96f10b4770a04834a6d31726d8c9849d",
            "679326d050484a3984e1d3bd0f9d548e",
            "0d63f6145cb24f5aa1fae94994f03b96",
            "c53a1ab826bb4894af875adb519f7e52",
            "8e8f6611e96e40439b3774727ee708b7",
            "85bcdd20e26c431d891e04e4efecfc44",
            "020068a3243f4e81aeaa42017f806bc2",
            "10ecebc0c8fa4d73980775582ae5b272",
            "4ce6451f18254229aae2846fbe3e51e0",
            "b7d786cc258b40a891574a3f3f100c6e",
            "f915b6582d154d218150bef1d678d35a",
            "f0c23d021b2d4172a2146225199d6f4e",
            "2c303380fcbe422bb60369bbc46a2666",
            "eaea318637b84790a479a10c8d858a61",
            "ae9efef3afe64e53bd219e054231cfd6",
            "b6c268537bec4384be63d868bb65aeee",
            "c60de691e0e84c68bd7a1c17091f4eb4",
            "56762013377047abbad6556cd526460f",
            "245534f3010c4b5682ab292067c49497",
            "dcf3d5b01570446ea23828e5622304c4",
            "77a7a8188bc6423bb6d04f8ef9466ba2",
            "9a0b1d28c1d54d619df79529eff602e4",
            "f6d8bc504c2c47fdb3de3563979074ac",
            "155d945438e845ec838a1aac9f5d3c49",
            "4b96622e0add4ac18817d2c7048cd655",
            "5292e7f59f05437f86713799cfe41930",
            "dea7738fe2b64a539b711c7cfda0ba38",
            "1ccc2dc216ca4db4970c4360caf08046",
            "74e2f032a400417d9638f94e0dcec1ca",
            "4c6dc0cdc55e4f568db5875058c4db36",
            "cb0c4b769b9f45a9bafee726c4870842",
            "303e7b176a7047a08ceb8ced7a9567ea",
            "e81e47057563462cb005112fdebfd80a",
            "c2816a0b49fd4ec1a7f3445b9b5c35d6",
            "d36ef2a206e542dd9c70b00c29a20c01",
            "4e0fd80e9a3548dd8b7ab146cde3ef01",
            "bc3c0542d48a4d18b1a7a6ae02d64608",
            "dba88d6fafca482f9ef7069ccb9d4672",
            "4495ea5dbe4b4a8bb5aa89cb90a88f9c",
            "ab2b942e11b04f27ac25bec8bac93957",
            "81cf942546204fae9f84b366c94a0749",
            "c749eaae20f448f6af361c61dc08ca06",
            "db8cb5ba241a40fa90a420232488bb8d",
            "c07ea46f96634824a3c01aab2f129996",
            "053c605ff84a4e7cabeda10ec7e90be6",
            "773d8d43ec7d40f38c7ec60e139cade0",
            "13a1d99f173b40fda1a2f456d99a2c86",
            "895808ead2a4441fa228f9719efcd459",
            "7e516424bdb04d3b81fc8b8c61360c86",
            "2a966de8e7864e59bf450db0ad2cf3d9",
            "82f2f0995c124ea9b8fc84b7c5b54c62"
          ]
        },
        "id": "cUPE6q7dHi-a",
        "outputId": "2cf06054-6a27-4400-fa22-d4ad3f2f67ae"
      },
      "source": [
        "main(trn_df, val_df)"
      ],
      "execution_count": 18,
      "outputs": [
        {
          "output_type": "stream",
          "text": [
            "02/20/2021 21:29:44 - WARNING - __main__ -   Process rank: -1, device: cuda, n_gpu: 1, distributed training: False, 16-bits training: False\n",
            "02/20/2021 21:29:44 - INFO - filelock -   Lock 139725378292536 acquired on cached/c3a09526c725b854c685b72cf60c50f1fea9b0e4d6227fa41573425ef4bd4bc6.36332ed8c811a8f0488055ce93ce78909e2f8e027955fba2faa82bfc6728105b.lock\n",
            "02/20/2021 21:29:44 - INFO - transformers.file_utils -   https://s3.amazonaws.com/models.huggingface.co/bert/microsoft/DialoGPT-small/config.json not found in cache or force_download set to True, downloading to /content/cached/tmp55xrd886\n"
          ],
          "name": "stderr"
        },
        {
          "output_type": "display_data",
          "data": {
            "application/vnd.jupyter.widget-view+json": {
              "model_id": "36b8599f78374ec4b794d796b8d1a275",
              "version_minor": 0,
              "version_major": 2
            },
            "text/plain": [
              "HBox(children=(FloatProgress(value=0.0, description='Downloading', max=641.0, style=ProgressStyle(description_…"
            ]
          },
          "metadata": {
            "tags": []
          }
        },
        {
          "output_type": "stream",
          "text": [
            "02/20/2021 21:29:44 - INFO - transformers.file_utils -   storing https://s3.amazonaws.com/models.huggingface.co/bert/microsoft/DialoGPT-small/config.json in cache at cached/c3a09526c725b854c685b72cf60c50f1fea9b0e4d6227fa41573425ef4bd4bc6.36332ed8c811a8f0488055ce93ce78909e2f8e027955fba2faa82bfc6728105b\n",
            "02/20/2021 21:29:44 - INFO - transformers.file_utils -   creating metadata file for cached/c3a09526c725b854c685b72cf60c50f1fea9b0e4d6227fa41573425ef4bd4bc6.36332ed8c811a8f0488055ce93ce78909e2f8e027955fba2faa82bfc6728105b\n",
            "02/20/2021 21:29:44 - INFO - filelock -   Lock 139725378292536 released on cached/c3a09526c725b854c685b72cf60c50f1fea9b0e4d6227fa41573425ef4bd4bc6.36332ed8c811a8f0488055ce93ce78909e2f8e027955fba2faa82bfc6728105b.lock\n",
            "02/20/2021 21:29:44 - INFO - transformers.configuration_utils -   loading configuration file https://s3.amazonaws.com/models.huggingface.co/bert/microsoft/DialoGPT-small/config.json from cache at cached/c3a09526c725b854c685b72cf60c50f1fea9b0e4d6227fa41573425ef4bd4bc6.36332ed8c811a8f0488055ce93ce78909e2f8e027955fba2faa82bfc6728105b\n",
            "02/20/2021 21:29:44 - INFO - transformers.configuration_utils -   Model config GPT2Config {\n",
            "  \"activation_function\": \"gelu_new\",\n",
            "  \"architectures\": [\n",
            "    \"GPT2LMHeadModel\"\n",
            "  ],\n",
            "  \"attn_pdrop\": 0.1,\n",
            "  \"bos_token_id\": 50256,\n",
            "  \"embd_pdrop\": 0.1,\n",
            "  \"eos_token_id\": 50256,\n",
            "  \"initializer_range\": 0.02,\n",
            "  \"layer_norm_epsilon\": 1e-05,\n",
            "  \"model_type\": \"gpt2\",\n",
            "  \"n_ctx\": 1024,\n",
            "  \"n_embd\": 768,\n",
            "  \"n_head\": 12,\n",
            "  \"n_layer\": 12,\n",
            "  \"n_positions\": 1024,\n",
            "  \"resid_pdrop\": 0.1,\n",
            "  \"summary_activation\": null,\n",
            "  \"summary_first_dropout\": 0.1,\n",
            "  \"summary_proj_to_labels\": true,\n",
            "  \"summary_type\": \"cls_index\",\n",
            "  \"summary_use_proj\": true,\n",
            "  \"task_specific_params\": {\n",
            "    \"conversational\": {\n",
            "      \"max_length\": 1000\n",
            "    }\n",
            "  },\n",
            "  \"vocab_size\": 50257\n",
            "}\n",
            "\n",
            "02/20/2021 21:29:44 - INFO - transformers.configuration_utils -   loading configuration file https://s3.amazonaws.com/models.huggingface.co/bert/microsoft/DialoGPT-small/config.json from cache at cached/c3a09526c725b854c685b72cf60c50f1fea9b0e4d6227fa41573425ef4bd4bc6.36332ed8c811a8f0488055ce93ce78909e2f8e027955fba2faa82bfc6728105b\n",
            "02/20/2021 21:29:44 - INFO - transformers.configuration_utils -   Model config GPT2Config {\n",
            "  \"activation_function\": \"gelu_new\",\n",
            "  \"architectures\": [\n",
            "    \"GPT2LMHeadModel\"\n",
            "  ],\n",
            "  \"attn_pdrop\": 0.1,\n",
            "  \"bos_token_id\": 50256,\n",
            "  \"embd_pdrop\": 0.1,\n",
            "  \"eos_token_id\": 50256,\n",
            "  \"initializer_range\": 0.02,\n",
            "  \"layer_norm_epsilon\": 1e-05,\n",
            "  \"model_type\": \"gpt2\",\n",
            "  \"n_ctx\": 1024,\n",
            "  \"n_embd\": 768,\n",
            "  \"n_head\": 12,\n",
            "  \"n_layer\": 12,\n",
            "  \"n_positions\": 1024,\n",
            "  \"resid_pdrop\": 0.1,\n",
            "  \"summary_activation\": null,\n",
            "  \"summary_first_dropout\": 0.1,\n",
            "  \"summary_proj_to_labels\": true,\n",
            "  \"summary_type\": \"cls_index\",\n",
            "  \"summary_use_proj\": true,\n",
            "  \"task_specific_params\": {\n",
            "    \"conversational\": {\n",
            "      \"max_length\": 1000\n",
            "    }\n",
            "  },\n",
            "  \"vocab_size\": 50257\n",
            "}\n",
            "\n",
            "02/20/2021 21:29:44 - INFO - transformers.tokenization_utils -   Model name 'microsoft/DialoGPT-small' not found in model shortcut name list (gpt2, gpt2-medium, gpt2-large, gpt2-xl, distilgpt2). Assuming 'microsoft/DialoGPT-small' is a path, a model identifier, or url to a directory containing tokenizer files.\n",
            "02/20/2021 21:29:45 - INFO - filelock -   Lock 139725377142512 acquired on cached/78725a31b87003f46d5bffc3157ebd6993290e4cfb7002b5f0e52bb0f0d9c2dd.1512018be4ba4e8726e41b9145129dc30651ea4fec86aa61f4b9f40bf94eac71.lock\n",
            "02/20/2021 21:29:45 - INFO - transformers.file_utils -   https://s3.amazonaws.com/models.huggingface.co/bert/microsoft/DialoGPT-small/vocab.json not found in cache or force_download set to True, downloading to /content/cached/tmpqth5fa3o\n"
          ],
          "name": "stderr"
        },
        {
          "output_type": "stream",
          "text": [
            "\n"
          ],
          "name": "stdout"
        },
        {
          "output_type": "display_data",
          "data": {
            "application/vnd.jupyter.widget-view+json": {
              "model_id": "9bbda75682164899b7e6c384cf5869be",
              "version_minor": 0,
              "version_major": 2
            },
            "text/plain": [
              "HBox(children=(FloatProgress(value=0.0, description='Downloading', max=1042301.0, style=ProgressStyle(descript…"
            ]
          },
          "metadata": {
            "tags": []
          }
        },
        {
          "output_type": "stream",
          "text": [
            "02/20/2021 21:29:45 - INFO - transformers.file_utils -   storing https://s3.amazonaws.com/models.huggingface.co/bert/microsoft/DialoGPT-small/vocab.json in cache at cached/78725a31b87003f46d5bffc3157ebd6993290e4cfb7002b5f0e52bb0f0d9c2dd.1512018be4ba4e8726e41b9145129dc30651ea4fec86aa61f4b9f40bf94eac71\n",
            "02/20/2021 21:29:45 - INFO - transformers.file_utils -   creating metadata file for cached/78725a31b87003f46d5bffc3157ebd6993290e4cfb7002b5f0e52bb0f0d9c2dd.1512018be4ba4e8726e41b9145129dc30651ea4fec86aa61f4b9f40bf94eac71\n",
            "02/20/2021 21:29:45 - INFO - filelock -   Lock 139725377142512 released on cached/78725a31b87003f46d5bffc3157ebd6993290e4cfb7002b5f0e52bb0f0d9c2dd.1512018be4ba4e8726e41b9145129dc30651ea4fec86aa61f4b9f40bf94eac71.lock\n",
            "02/20/2021 21:29:45 - INFO - filelock -   Lock 139725377139768 acquired on cached/570e31eddfc57062e4d0c5b078d44f97c0e5ac48f83a2958142849b59df6bbe6.70bec105b4158ed9a1747fea67a43f5dee97855c64d62b6ec3742f4cfdb5feda.lock\n",
            "02/20/2021 21:29:45 - INFO - transformers.file_utils -   https://s3.amazonaws.com/models.huggingface.co/bert/microsoft/DialoGPT-small/merges.txt not found in cache or force_download set to True, downloading to /content/cached/tmpejfpqjzk\n"
          ],
          "name": "stderr"
        },
        {
          "output_type": "stream",
          "text": [
            "\n"
          ],
          "name": "stdout"
        },
        {
          "output_type": "display_data",
          "data": {
            "application/vnd.jupyter.widget-view+json": {
              "model_id": "313ea0b1bf72462190fa6ffd2f4b6966",
              "version_minor": 0,
              "version_major": 2
            },
            "text/plain": [
              "HBox(children=(FloatProgress(value=0.0, description='Downloading', max=456318.0, style=ProgressStyle(descripti…"
            ]
          },
          "metadata": {
            "tags": []
          }
        },
        {
          "output_type": "stream",
          "text": [
            "\n"
          ],
          "name": "stdout"
        },
        {
          "output_type": "stream",
          "text": [
            "02/20/2021 21:29:45 - INFO - transformers.file_utils -   storing https://s3.amazonaws.com/models.huggingface.co/bert/microsoft/DialoGPT-small/merges.txt in cache at cached/570e31eddfc57062e4d0c5b078d44f97c0e5ac48f83a2958142849b59df6bbe6.70bec105b4158ed9a1747fea67a43f5dee97855c64d62b6ec3742f4cfdb5feda\n",
            "02/20/2021 21:29:45 - INFO - transformers.file_utils -   creating metadata file for cached/570e31eddfc57062e4d0c5b078d44f97c0e5ac48f83a2958142849b59df6bbe6.70bec105b4158ed9a1747fea67a43f5dee97855c64d62b6ec3742f4cfdb5feda\n",
            "02/20/2021 21:29:45 - INFO - filelock -   Lock 139725377139768 released on cached/570e31eddfc57062e4d0c5b078d44f97c0e5ac48f83a2958142849b59df6bbe6.70bec105b4158ed9a1747fea67a43f5dee97855c64d62b6ec3742f4cfdb5feda.lock\n",
            "02/20/2021 21:29:45 - INFO - transformers.tokenization_utils -   loading file https://s3.amazonaws.com/models.huggingface.co/bert/microsoft/DialoGPT-small/vocab.json from cache at cached/78725a31b87003f46d5bffc3157ebd6993290e4cfb7002b5f0e52bb0f0d9c2dd.1512018be4ba4e8726e41b9145129dc30651ea4fec86aa61f4b9f40bf94eac71\n",
            "02/20/2021 21:29:45 - INFO - transformers.tokenization_utils -   loading file https://s3.amazonaws.com/models.huggingface.co/bert/microsoft/DialoGPT-small/merges.txt from cache at cached/570e31eddfc57062e4d0c5b078d44f97c0e5ac48f83a2958142849b59df6bbe6.70bec105b4158ed9a1747fea67a43f5dee97855c64d62b6ec3742f4cfdb5feda\n",
            "02/20/2021 21:29:45 - INFO - transformers.tokenization_utils -   loading file https://s3.amazonaws.com/models.huggingface.co/bert/microsoft/DialoGPT-small/added_tokens.json from cache at None\n",
            "02/20/2021 21:29:45 - INFO - transformers.tokenization_utils -   loading file https://s3.amazonaws.com/models.huggingface.co/bert/microsoft/DialoGPT-small/special_tokens_map.json from cache at None\n",
            "02/20/2021 21:29:45 - INFO - transformers.tokenization_utils -   loading file https://s3.amazonaws.com/models.huggingface.co/bert/microsoft/DialoGPT-small/tokenizer_config.json from cache at None\n",
            "02/20/2021 21:29:45 - INFO - filelock -   Lock 139725377141616 acquired on cached/9eab12d0b721ee394e9fe577f35d9b8b22de89e1d4f6a89b8a76d6e1a82bceae.906a78bee3add2ff536ac7ef16753bb3afb3a1cf8c26470f335b7c0e46a21483.lock\n",
            "02/20/2021 21:29:45 - INFO - transformers.file_utils -   https://cdn.huggingface.co/microsoft/DialoGPT-small/pytorch_model.bin not found in cache or force_download set to True, downloading to /content/cached/tmpqamvxzth\n"
          ],
          "name": "stderr"
        },
        {
          "output_type": "display_data",
          "data": {
            "application/vnd.jupyter.widget-view+json": {
              "model_id": "c53a1ab826bb4894af875adb519f7e52",
              "version_minor": 0,
              "version_major": 2
            },
            "text/plain": [
              "HBox(children=(FloatProgress(value=0.0, description='Downloading', max=351265583.0, style=ProgressStyle(descri…"
            ]
          },
          "metadata": {
            "tags": []
          }
        },
        {
          "output_type": "stream",
          "text": [
            "02/20/2021 21:29:50 - INFO - transformers.file_utils -   storing https://cdn.huggingface.co/microsoft/DialoGPT-small/pytorch_model.bin in cache at cached/9eab12d0b721ee394e9fe577f35d9b8b22de89e1d4f6a89b8a76d6e1a82bceae.906a78bee3add2ff536ac7ef16753bb3afb3a1cf8c26470f335b7c0e46a21483\n",
            "02/20/2021 21:29:50 - INFO - transformers.file_utils -   creating metadata file for cached/9eab12d0b721ee394e9fe577f35d9b8b22de89e1d4f6a89b8a76d6e1a82bceae.906a78bee3add2ff536ac7ef16753bb3afb3a1cf8c26470f335b7c0e46a21483\n",
            "02/20/2021 21:29:50 - INFO - filelock -   Lock 139725377141616 released on cached/9eab12d0b721ee394e9fe577f35d9b8b22de89e1d4f6a89b8a76d6e1a82bceae.906a78bee3add2ff536ac7ef16753bb3afb3a1cf8c26470f335b7c0e46a21483.lock\n",
            "02/20/2021 21:29:50 - INFO - transformers.modeling_utils -   loading weights file https://cdn.huggingface.co/microsoft/DialoGPT-small/pytorch_model.bin from cache at cached/9eab12d0b721ee394e9fe577f35d9b8b22de89e1d4f6a89b8a76d6e1a82bceae.906a78bee3add2ff536ac7ef16753bb3afb3a1cf8c26470f335b7c0e46a21483\n"
          ],
          "name": "stderr"
        },
        {
          "output_type": "stream",
          "text": [
            "\n"
          ],
          "name": "stdout"
        },
        {
          "output_type": "stream",
          "text": [
            "02/20/2021 21:29:54 - INFO - transformers.modeling_utils -   Weights of GPT2LMHeadModel not initialized from pretrained model: ['transformer.h.0.attn.masked_bias', 'transformer.h.1.attn.masked_bias', 'transformer.h.2.attn.masked_bias', 'transformer.h.3.attn.masked_bias', 'transformer.h.4.attn.masked_bias', 'transformer.h.5.attn.masked_bias', 'transformer.h.6.attn.masked_bias', 'transformer.h.7.attn.masked_bias', 'transformer.h.8.attn.masked_bias', 'transformer.h.9.attn.masked_bias', 'transformer.h.10.attn.masked_bias', 'transformer.h.11.attn.masked_bias']\n",
            "02/20/2021 21:30:08 - INFO - __main__ -   Training/evaluation parameters <__main__.Args object at 0x7f14598a0438>\n",
            "02/20/2021 21:30:08 - INFO - __main__ -   Creating features from dataset file at cached\n",
            "02/20/2021 21:30:10 - INFO - __main__ -   Saving features into cached file cached/gpt2_cached_lm_512\n",
            "02/20/2021 21:30:10 - INFO - __main__ -   ***** Running training *****\n",
            "02/20/2021 21:30:10 - INFO - __main__ -     Num examples = 1708\n",
            "02/20/2021 21:30:10 - INFO - __main__ -     Num Epochs = 3\n",
            "02/20/2021 21:30:10 - INFO - __main__ -     Instantaneous batch size per GPU = 4\n",
            "02/20/2021 21:30:10 - INFO - __main__ -     Total train batch size (w. parallel, distributed & accumulation) = 4\n",
            "02/20/2021 21:30:10 - INFO - __main__ -     Gradient Accumulation steps = 1\n",
            "02/20/2021 21:30:10 - INFO - __main__ -     Total optimization steps = 1281\n"
          ],
          "name": "stderr"
        },
        {
          "output_type": "display_data",
          "data": {
            "application/vnd.jupyter.widget-view+json": {
              "model_id": "f0c23d021b2d4172a2146225199d6f4e",
              "version_minor": 0,
              "version_major": 2
            },
            "text/plain": [
              "HBox(children=(FloatProgress(value=0.0, description='Epoch', max=3.0, style=ProgressStyle(description_width='i…"
            ]
          },
          "metadata": {
            "tags": []
          }
        },
        {
          "output_type": "display_data",
          "data": {
            "application/vnd.jupyter.widget-view+json": {
              "model_id": "dcf3d5b01570446ea23828e5622304c4",
              "version_minor": 0,
              "version_major": 2
            },
            "text/plain": [
              "HBox(children=(FloatProgress(value=0.0, description='Iteration', max=427.0, style=ProgressStyle(description_wi…"
            ]
          },
          "metadata": {
            "tags": []
          }
        },
        {
          "output_type": "stream",
          "text": [
            "\n"
          ],
          "name": "stdout"
        },
        {
          "output_type": "display_data",
          "data": {
            "application/vnd.jupyter.widget-view+json": {
              "model_id": "1ccc2dc216ca4db4970c4360caf08046",
              "version_minor": 0,
              "version_major": 2
            },
            "text/plain": [
              "HBox(children=(FloatProgress(value=0.0, description='Iteration', max=427.0, style=ProgressStyle(description_wi…"
            ]
          },
          "metadata": {
            "tags": []
          }
        },
        {
          "output_type": "stream",
          "text": [
            "\n"
          ],
          "name": "stdout"
        },
        {
          "output_type": "display_data",
          "data": {
            "application/vnd.jupyter.widget-view+json": {
              "model_id": "4e0fd80e9a3548dd8b7ab146cde3ef01",
              "version_minor": 0,
              "version_major": 2
            },
            "text/plain": [
              "HBox(children=(FloatProgress(value=0.0, description='Iteration', max=427.0, style=ProgressStyle(description_wi…"
            ]
          },
          "metadata": {
            "tags": []
          }
        },
        {
          "output_type": "stream",
          "text": [
            "/usr/local/lib/python3.6/dist-packages/torch/optim/lr_scheduler.py:247: UserWarning: To get the last learning rate computed by the scheduler, please use `get_last_lr()`.\n",
            "  warnings.warn(\"To get the last learning rate computed by the scheduler, \"\n",
            "02/20/2021 21:37:03 - INFO - __main__ -    global_step = 1281, average loss = 2.0120008991715688\n",
            "02/20/2021 21:37:03 - INFO - __main__ -   Saving model checkpoint to output-small\n",
            "02/20/2021 21:37:03 - INFO - transformers.configuration_utils -   Configuration saved in output-small/config.json\n"
          ],
          "name": "stderr"
        },
        {
          "output_type": "stream",
          "text": [
            "\n",
            "\n"
          ],
          "name": "stdout"
        },
        {
          "output_type": "stream",
          "text": [
            "02/20/2021 21:37:05 - INFO - transformers.modeling_utils -   Model weights saved in output-small/pytorch_model.bin\n",
            "02/20/2021 21:37:05 - INFO - transformers.configuration_utils -   loading configuration file output-small/config.json\n",
            "02/20/2021 21:37:05 - INFO - transformers.configuration_utils -   Model config GPT2Config {\n",
            "  \"activation_function\": \"gelu_new\",\n",
            "  \"architectures\": [\n",
            "    \"GPT2LMHeadModel\"\n",
            "  ],\n",
            "  \"attn_pdrop\": 0.1,\n",
            "  \"bos_token_id\": 50256,\n",
            "  \"embd_pdrop\": 0.1,\n",
            "  \"eos_token_id\": 50256,\n",
            "  \"initializer_range\": 0.02,\n",
            "  \"layer_norm_epsilon\": 1e-05,\n",
            "  \"model_type\": \"gpt2\",\n",
            "  \"n_ctx\": 1024,\n",
            "  \"n_embd\": 768,\n",
            "  \"n_head\": 12,\n",
            "  \"n_layer\": 12,\n",
            "  \"n_positions\": 1024,\n",
            "  \"resid_pdrop\": 0.1,\n",
            "  \"summary_activation\": null,\n",
            "  \"summary_first_dropout\": 0.1,\n",
            "  \"summary_proj_to_labels\": true,\n",
            "  \"summary_type\": \"cls_index\",\n",
            "  \"summary_use_proj\": true,\n",
            "  \"task_specific_params\": {\n",
            "    \"conversational\": {\n",
            "      \"max_length\": 1000\n",
            "    }\n",
            "  },\n",
            "  \"vocab_size\": 50257\n",
            "}\n",
            "\n",
            "02/20/2021 21:37:05 - INFO - transformers.modeling_utils -   loading weights file output-small/pytorch_model.bin\n",
            "02/20/2021 21:37:09 - INFO - transformers.configuration_utils -   loading configuration file output-small/config.json\n",
            "02/20/2021 21:37:09 - INFO - transformers.configuration_utils -   Model config GPT2Config {\n",
            "  \"activation_function\": \"gelu_new\",\n",
            "  \"architectures\": [\n",
            "    \"GPT2LMHeadModel\"\n",
            "  ],\n",
            "  \"attn_pdrop\": 0.1,\n",
            "  \"bos_token_id\": 50256,\n",
            "  \"embd_pdrop\": 0.1,\n",
            "  \"eos_token_id\": 50256,\n",
            "  \"initializer_range\": 0.02,\n",
            "  \"layer_norm_epsilon\": 1e-05,\n",
            "  \"model_type\": \"gpt2\",\n",
            "  \"n_ctx\": 1024,\n",
            "  \"n_embd\": 768,\n",
            "  \"n_head\": 12,\n",
            "  \"n_layer\": 12,\n",
            "  \"n_positions\": 1024,\n",
            "  \"resid_pdrop\": 0.1,\n",
            "  \"summary_activation\": null,\n",
            "  \"summary_first_dropout\": 0.1,\n",
            "  \"summary_proj_to_labels\": true,\n",
            "  \"summary_type\": \"cls_index\",\n",
            "  \"summary_use_proj\": true,\n",
            "  \"task_specific_params\": {\n",
            "    \"conversational\": {\n",
            "      \"max_length\": 1000\n",
            "    }\n",
            "  },\n",
            "  \"vocab_size\": 50257\n",
            "}\n",
            "\n",
            "02/20/2021 21:37:09 - INFO - transformers.tokenization_utils -   Model name 'output-small' not found in model shortcut name list (gpt2, gpt2-medium, gpt2-large, gpt2-xl, distilgpt2). Assuming 'output-small' is a path, a model identifier, or url to a directory containing tokenizer files.\n",
            "02/20/2021 21:37:09 - INFO - transformers.tokenization_utils -   Didn't find file output-small/added_tokens.json. We won't load it.\n",
            "02/20/2021 21:37:09 - INFO - transformers.tokenization_utils -   loading file output-small/vocab.json\n",
            "02/20/2021 21:37:09 - INFO - transformers.tokenization_utils -   loading file output-small/merges.txt\n",
            "02/20/2021 21:37:09 - INFO - transformers.tokenization_utils -   loading file None\n",
            "02/20/2021 21:37:09 - INFO - transformers.tokenization_utils -   loading file output-small/special_tokens_map.json\n",
            "02/20/2021 21:37:09 - INFO - transformers.tokenization_utils -   loading file output-small/tokenizer_config.json\n",
            "02/20/2021 21:37:10 - INFO - __main__ -   Evaluate the following checkpoints: ['output-small']\n",
            "02/20/2021 21:37:10 - INFO - transformers.configuration_utils -   loading configuration file output-small/config.json\n",
            "02/20/2021 21:37:10 - INFO - transformers.configuration_utils -   Model config GPT2Config {\n",
            "  \"activation_function\": \"gelu_new\",\n",
            "  \"architectures\": [\n",
            "    \"GPT2LMHeadModel\"\n",
            "  ],\n",
            "  \"attn_pdrop\": 0.1,\n",
            "  \"bos_token_id\": 50256,\n",
            "  \"embd_pdrop\": 0.1,\n",
            "  \"eos_token_id\": 50256,\n",
            "  \"initializer_range\": 0.02,\n",
            "  \"layer_norm_epsilon\": 1e-05,\n",
            "  \"model_type\": \"gpt2\",\n",
            "  \"n_ctx\": 1024,\n",
            "  \"n_embd\": 768,\n",
            "  \"n_head\": 12,\n",
            "  \"n_layer\": 12,\n",
            "  \"n_positions\": 1024,\n",
            "  \"resid_pdrop\": 0.1,\n",
            "  \"summary_activation\": null,\n",
            "  \"summary_first_dropout\": 0.1,\n",
            "  \"summary_proj_to_labels\": true,\n",
            "  \"summary_type\": \"cls_index\",\n",
            "  \"summary_use_proj\": true,\n",
            "  \"task_specific_params\": {\n",
            "    \"conversational\": {\n",
            "      \"max_length\": 1000\n",
            "    }\n",
            "  },\n",
            "  \"vocab_size\": 50257\n",
            "}\n",
            "\n",
            "02/20/2021 21:37:10 - INFO - transformers.modeling_utils -   loading weights file output-small/pytorch_model.bin\n",
            "02/20/2021 21:37:14 - INFO - __main__ -   Creating features from dataset file at cached\n",
            "02/20/2021 21:37:14 - INFO - __main__ -   Saving features into cached file cached/gpt2_cached_lm_512\n",
            "02/20/2021 21:37:14 - INFO - __main__ -   ***** Running evaluation  *****\n",
            "02/20/2021 21:37:14 - INFO - __main__ -     Num examples = 190\n",
            "02/20/2021 21:37:14 - INFO - __main__ -     Batch size = 4\n"
          ],
          "name": "stderr"
        },
        {
          "output_type": "display_data",
          "data": {
            "application/vnd.jupyter.widget-view+json": {
              "model_id": "c07ea46f96634824a3c01aab2f129996",
              "version_minor": 0,
              "version_major": 2
            },
            "text/plain": [
              "HBox(children=(FloatProgress(value=0.0, description='Evaluating', max=47.0, style=ProgressStyle(description_wi…"
            ]
          },
          "metadata": {
            "tags": []
          }
        },
        {
          "output_type": "stream",
          "text": [
            "02/20/2021 21:37:19 - INFO - __main__ -   ***** Eval results  *****\n",
            "02/20/2021 21:37:19 - INFO - __main__ -     perplexity = tensor(3.7678)\n"
          ],
          "name": "stderr"
        },
        {
          "output_type": "stream",
          "text": [
            "\n"
          ],
          "name": "stdout"
        },
        {
          "output_type": "execute_result",
          "data": {
            "text/plain": [
              "{'perplexity_': tensor(3.7678)}"
            ]
          },
          "metadata": {
            "tags": []
          },
          "execution_count": 18
        }
      ]
    },
    {
      "cell_type": "markdown",
      "metadata": {
        "id": "17ZOk2e5HoEY"
      },
      "source": [
        "# Беседа с Риком"
      ]
    },
    {
      "cell_type": "markdown",
      "metadata": {
        "id": "peHbKNKXH58n"
      },
      "source": [
        "Модель готова, самое время пообщаться с Риком. Но не забывай, что Рик может быть грубым, я тебя предупреждал.\r\n",
        "\r\n",
        "Для генерации ответов можно использовать самые разные методы. Более подробную информацию об этих методах вы можете найти по этой [ссылке.](https://huggingface.co/blog/how-to-generate). \r\n",
        "\r\n",
        "![alt text](https://media.giphy.com/media/ftl8NiWz2C3tuXOn3w/giphy.gif)\r\n"
      ]
    },
    {
      "cell_type": "code",
      "metadata": {
        "colab": {
          "base_uri": "https://localhost:8080/"
        },
        "id": "ykx3seueIF5V",
        "outputId": "19aa7ff8-9491-4339-8bee-21e492b7c65e"
      },
      "source": [
        "tokenizer = AutoTokenizer.from_pretrained('microsoft/DialoGPT-small')\r\n",
        "model = AutoModelWithLMHead.from_pretrained('output-small')"
      ],
      "execution_count": 19,
      "outputs": [
        {
          "output_type": "stream",
          "text": [
            "02/20/2021 21:37:27 - INFO - transformers.configuration_utils -   loading configuration file https://s3.amazonaws.com/models.huggingface.co/bert/microsoft/DialoGPT-small/config.json from cache at /root/.cache/torch/transformers/c3a09526c725b854c685b72cf60c50f1fea9b0e4d6227fa41573425ef4bd4bc6.36332ed8c811a8f0488055ce93ce78909e2f8e027955fba2faa82bfc6728105b\n",
            "02/20/2021 21:37:27 - INFO - transformers.configuration_utils -   Model config GPT2Config {\n",
            "  \"activation_function\": \"gelu_new\",\n",
            "  \"architectures\": [\n",
            "    \"GPT2LMHeadModel\"\n",
            "  ],\n",
            "  \"attn_pdrop\": 0.1,\n",
            "  \"bos_token_id\": 50256,\n",
            "  \"embd_pdrop\": 0.1,\n",
            "  \"eos_token_id\": 50256,\n",
            "  \"initializer_range\": 0.02,\n",
            "  \"layer_norm_epsilon\": 1e-05,\n",
            "  \"model_type\": \"gpt2\",\n",
            "  \"n_ctx\": 1024,\n",
            "  \"n_embd\": 768,\n",
            "  \"n_head\": 12,\n",
            "  \"n_layer\": 12,\n",
            "  \"n_positions\": 1024,\n",
            "  \"resid_pdrop\": 0.1,\n",
            "  \"summary_activation\": null,\n",
            "  \"summary_first_dropout\": 0.1,\n",
            "  \"summary_proj_to_labels\": true,\n",
            "  \"summary_type\": \"cls_index\",\n",
            "  \"summary_use_proj\": true,\n",
            "  \"task_specific_params\": {\n",
            "    \"conversational\": {\n",
            "      \"max_length\": 1000\n",
            "    }\n",
            "  },\n",
            "  \"vocab_size\": 50257\n",
            "}\n",
            "\n",
            "02/20/2021 21:37:27 - INFO - transformers.tokenization_utils -   Model name 'microsoft/DialoGPT-small' not found in model shortcut name list (gpt2, gpt2-medium, gpt2-large, gpt2-xl, distilgpt2). Assuming 'microsoft/DialoGPT-small' is a path, a model identifier, or url to a directory containing tokenizer files.\n",
            "02/20/2021 21:37:28 - INFO - transformers.tokenization_utils -   loading file https://s3.amazonaws.com/models.huggingface.co/bert/microsoft/DialoGPT-small/vocab.json from cache at /root/.cache/torch/transformers/78725a31b87003f46d5bffc3157ebd6993290e4cfb7002b5f0e52bb0f0d9c2dd.1512018be4ba4e8726e41b9145129dc30651ea4fec86aa61f4b9f40bf94eac71\n",
            "02/20/2021 21:37:28 - INFO - transformers.tokenization_utils -   loading file https://s3.amazonaws.com/models.huggingface.co/bert/microsoft/DialoGPT-small/merges.txt from cache at /root/.cache/torch/transformers/570e31eddfc57062e4d0c5b078d44f97c0e5ac48f83a2958142849b59df6bbe6.70bec105b4158ed9a1747fea67a43f5dee97855c64d62b6ec3742f4cfdb5feda\n",
            "02/20/2021 21:37:28 - INFO - transformers.tokenization_utils -   loading file https://s3.amazonaws.com/models.huggingface.co/bert/microsoft/DialoGPT-small/added_tokens.json from cache at None\n",
            "02/20/2021 21:37:28 - INFO - transformers.tokenization_utils -   loading file https://s3.amazonaws.com/models.huggingface.co/bert/microsoft/DialoGPT-small/special_tokens_map.json from cache at None\n",
            "02/20/2021 21:37:28 - INFO - transformers.tokenization_utils -   loading file https://s3.amazonaws.com/models.huggingface.co/bert/microsoft/DialoGPT-small/tokenizer_config.json from cache at None\n",
            "02/20/2021 21:37:28 - INFO - transformers.configuration_utils -   loading configuration file output-small/config.json\n",
            "02/20/2021 21:37:28 - INFO - transformers.configuration_utils -   Model config GPT2Config {\n",
            "  \"activation_function\": \"gelu_new\",\n",
            "  \"architectures\": [\n",
            "    \"GPT2LMHeadModel\"\n",
            "  ],\n",
            "  \"attn_pdrop\": 0.1,\n",
            "  \"bos_token_id\": 50256,\n",
            "  \"embd_pdrop\": 0.1,\n",
            "  \"eos_token_id\": 50256,\n",
            "  \"initializer_range\": 0.02,\n",
            "  \"layer_norm_epsilon\": 1e-05,\n",
            "  \"model_type\": \"gpt2\",\n",
            "  \"n_ctx\": 1024,\n",
            "  \"n_embd\": 768,\n",
            "  \"n_head\": 12,\n",
            "  \"n_layer\": 12,\n",
            "  \"n_positions\": 1024,\n",
            "  \"resid_pdrop\": 0.1,\n",
            "  \"summary_activation\": null,\n",
            "  \"summary_first_dropout\": 0.1,\n",
            "  \"summary_proj_to_labels\": true,\n",
            "  \"summary_type\": \"cls_index\",\n",
            "  \"summary_use_proj\": true,\n",
            "  \"task_specific_params\": {\n",
            "    \"conversational\": {\n",
            "      \"max_length\": 1000\n",
            "    }\n",
            "  },\n",
            "  \"vocab_size\": 50257\n",
            "}\n",
            "\n",
            "02/20/2021 21:37:28 - INFO - transformers.modeling_utils -   loading weights file output-small/pytorch_model.bin\n"
          ],
          "name": "stderr"
        }
      ]
    },
    {
      "cell_type": "code",
      "metadata": {
        "colab": {
          "base_uri": "https://localhost:8080/"
        },
        "id": "XnNmLQqgILFZ",
        "outputId": "c94c45ad-ebfe-4f78-8e69-026b7e8a11fe"
      },
      "source": [
        "for step in range(5):\r\n",
        "    new_user_input_ids = tokenizer.encode(input(\">> Black:\") + tokenizer.eos_token, return_tensors='pt')\r\n",
        "    # print(new_user_input_ids)\r\n",
        "\r\n",
        "\r\n",
        "    bot_input_ids = torch.cat([chat_history_ids, new_user_input_ids], dim=-1) if step > 0 else new_user_input_ids\r\n",
        "\r\n",
        " \r\n",
        "    chat_history_ids = model.generate(\r\n",
        "        bot_input_ids, max_length=200,\r\n",
        "        pad_token_id=tokenizer.eos_token_id,  \r\n",
        "        no_repeat_ngram_size=3,       \r\n",
        "        do_sample=True, \r\n",
        "        top_k=100, \r\n",
        "        top_p=0.7,\r\n",
        "        temperature = 0.8\r\n",
        "    )\r\n",
        "    \r\n",
        "    # pretty print last ouput tokens from bot\r\n",
        "    print(\"RickBot: {}\".format(tokenizer.decode(chat_history_ids[:, bot_input_ids.shape[-1]:][0], skip_special_tokens=True)))"
      ],
      "execution_count": 20,
      "outputs": [
        {
          "output_type": "stream",
          "text": [
            ">> Black:Hi\n",
            "RickBot: Hiya.\n",
            ">> Black:How are you?\n",
            "RickBot: I'm fine. How are you today?\n",
            ">> Black:Fine\n",
            "RickBot: You're my hero, Morty. I mean, really.\n",
            ">> Black:Okey\n",
            "RickBot: Whoa, whoa! Whoooa! Whoa! Who's there?!\n",
            ">> Black:I am Black\n",
            "RickBot: I-I-Am!\n"
          ],
          "name": "stdout"
        }
      ]
    },
    {
      "cell_type": "markdown",
      "metadata": {
        "id": "N0lo7-6CIphy"
      },
      "source": [
        "**Я приведу пример еще нескольких диалогов, чтобы показать, что Рики теперь наш Рик.**"
      ]
    },
    {
      "cell_type": "markdown",
      "metadata": {
        "id": "e2FHgyW9Ir9b"
      },
      "source": [
        "![alt text](https://media.giphy.com/media/eNpXWzGIMRjIo4lXT8/giphy.gif)\r\n",
        "\r\n",
        "**Black**:Who are you? <br>\r\n",
        "**RickBot**: A musician, I'm not a musician, but I'm pretty close to you. <br>\r\n",
        "**Black**:What kind of musician are you? <br>\r\n",
        "**RickBot**: Who cares? I'm a musician. <br>\r\n",
        "**Black**:Ok, play a song for me <br>\r\n",
        "**RickBot**: Shut up and listen to me, Morty. Listen to me. Listen! I'm the leader of a bunch of different death worlds, and I'm just trying to assemble a band. I'm gonna make this one-piece, and you're gonna be part of it. <br>\r\n",
        "**Black**:ok <br>\r\n",
        "**RickBot**: Whoa, whoa, hey, who's this? <br>\r\n",
        "**Black**:This is Morty <br>\r\n",
        "**RickBot**: Geez!!! <br>"
      ]
    },
    {
      "cell_type": "markdown",
      "metadata": {
        "id": "SnK2gycZI_Zs"
      },
      "source": [
        "![alt text](https://i.kym-cdn.com/news/posts/desktop/000/000/247/Screenshot_21.jpg)\r\n",
        "\r\n",
        "[news.knowyourmeme.com](https://news.knowyourmeme.com/news/elon-musks-rick-and-morty-cameo-is-a-meme-reference)\r\n",
        "\r\n",
        "**Black**:What do you think about Elon Musk? <br>\r\n",
        "**RickBot**: I think about him a lot. <br>\r\n",
        "**Black**:But what exactly do you think? <br>\r\n",
        "**RickBot**: He's not a bad guy. He's just... not a very charismatic one. <br>\r\n",
        "**Black**:I think he is charismatic <br>\r\n",
        "**RickBot**: He is. <br>\r\n",
        "**Black**:What else you can say about him? <br>\r\n",
        "**RickBot**: You don't have to say anything. He is the leader of your class. <br>\r\n",
        "**Black**:ok, thank you <br>\r\n",
        "**RickBot**: !!!"
      ]
    },
    {
      "cell_type": "markdown",
      "metadata": {
        "id": "S88Ph591JO7-"
      },
      "source": [
        "![alt text](https://media.giphy.com/media/YSTmV6MWEkgW0HblZQ/giphy.gif)\r\n",
        "\r\n",
        "\r\n",
        "**Black**:hey, go get me a burger <br>\r\n",
        "**RickBot**: Whoa, whoa, hold on a second, let's not get crazy. This is gonna be good. <br>\r\n",
        "**Black**:I'm hungry! c'mon, buy me a burger or better two <br>\r\n",
        "**RickBot**: Holy crap. <br>\r\n",
        "**Black**:no crappy burger, a good one! <br>\r\n",
        "**RickBot**: What the hell? <br>\r\n",
        "**Black**:don't be so bad, feed me <br>\r\n",
        "**RickBot**: I'll be back as fast as I can, Morty. <br>\r\n",
        "**Black**:good boy, and don't forget ketchup and fries <br>\r\n",
        "**RickBot**: !!!!!! <br>\r\n",
        "**Black**:what a hell? can you reply with words? <br>\r\n",
        "**RickBot**: Yes!! I will!! We will go out on a date. <br>"
      ]
    },
    {
      "cell_type": "markdown",
      "metadata": {
        "id": "UarOgT7hJtyT"
      },
      "source": [
        "# **Вывод**"
      ]
    },
    {
      "cell_type": "markdown",
      "metadata": {
        "id": "_oviEhh5J1E8"
      },
      "source": [
        "![alt text](https://media.giphy.com/media/YQBWwGLJtFDQIATck5/giphy.gif)\r\n",
        "\r\n",
        "\r\n",
        "\r\n",
        "**Ураааа...!!!**\r\n",
        "* Наш виртуальный Рик жив (почти)! С помощью тонкой настройки нашей модели на небольшом наборе данных смогли создать виртуального персонажа, с которым  можем вести интересные диалоги.\r\n",
        "\r\n",
        "* Используя предложенный подход, вы можете создать множество интересных виртуальных персонажей на основе произвольного набора данных диалогов (просто файл csv с репликами, по одной реплике в строке)."
      ]
    }
  ]
}